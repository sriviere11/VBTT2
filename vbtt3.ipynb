{
 "cells": [
  {
   "cell_type": "code",
   "execution_count": 1,
   "id": "c6c404f0",
   "metadata": {},
   "outputs": [],
   "source": [
    "import os\n",
    "import os.path\n",
    "import numpy as np\n",
    "import pandas as pd\n",
    "from yahoo_fin import stock_info as si\n",
    "from VBTT2_IO.IO import read_list,delete_then_get_model_from_bucket,delete_blob,read_config_file,instantiate_logging,save_dataframe_to_bucket,read_dataframe_from_bucket,upload_file_to_bucket\n",
    "from VBTT2_Predict.Predict import predict_ticker,YF_datetime\n",
    "from VBTT2_SP500.SP500 import read_create_write_SP500, get_SP500,get_all_tickers_sector,get_all_tickers_industry\n",
    "from VBTT2_Features.Features import get_yf_dataframe,initialize_data,create_train_test_set,create_predict_set\n",
    "from VBTT2_Model.Model import  model_predict, add_buy_sell_to_prediction,balanced_accuracy"
   ]
  },
  {
   "cell_type": "code",
   "execution_count": 1,
   "outputs": [],
   "source": [
    "\n"
   ],
   "metadata": {
    "collapsed": false
   }
  },
  {
   "cell_type": "code",
   "execution_count": 1,
   "outputs": [],
   "source": [],
   "metadata": {
    "collapsed": false
   }
  },
  {
   "cell_type": "code",
   "execution_count": 2,
   "id": "8254aefb",
   "metadata": {},
   "outputs": [],
   "source": [
    "!export GOOGLE_APPLICATION_CREDENTIALS='/home/steve/Downloads/creds.json'"
   ]
  },
  {
   "cell_type": "code",
   "execution_count": 2,
   "id": "4dd588a1",
   "metadata": {},
   "outputs": [],
   "source": [
    "os.environ[\"GOOGLE_APPLICATION_CREDENTIALS\"]=\"/home/steve/Downloads/creds.json\""
   ]
  },
  {
   "cell_type": "code",
   "execution_count": 4,
   "id": "a3255759",
   "metadata": {},
   "outputs": [
    {
     "name": "stdout",
     "output_type": "stream",
     "text": [
      "/home/steve/Downloads/creds.json\n"
     ]
    }
   ],
   "source": [
    "print(os.environ['GOOGLE_APPLICATION_CREDENTIALS'])"
   ]
  },
  {
   "cell_type": "code",
   "execution_count": 5,
   "id": "ca54ec93",
   "metadata": {},
   "outputs": [
    {
     "name": "stdout",
     "output_type": "stream",
     "text": [
      "Defaulting to user installation because normal site-packages is not writeable\r\n",
      "Requirement already satisfied: yahoo_fin in /home/steve/.local/lib/python3.10/site-packages (0.8.9.1)\r\n",
      "Requirement already satisfied: requests in /usr/lib/python3/dist-packages (from yahoo_fin) (2.25.1)\r\n",
      "Requirement already satisfied: feedparser in /home/steve/.local/lib/python3.10/site-packages (from yahoo_fin) (6.0.10)\r\n",
      "Requirement already satisfied: requests-html in /home/steve/.local/lib/python3.10/site-packages (from yahoo_fin) (0.10.0)\r\n",
      "Requirement already satisfied: pandas in /home/steve/.local/lib/python3.10/site-packages (from yahoo_fin) (1.4.2)\r\n",
      "Requirement already satisfied: sgmllib3k in /home/steve/.local/lib/python3.10/site-packages (from feedparser->yahoo_fin) (1.0.0)\r\n",
      "Requirement already satisfied: pytz>=2020.1 in /usr/lib/python3/dist-packages (from pandas->yahoo_fin) (2022.1)\r\n",
      "Requirement already satisfied: numpy>=1.21.0 in /home/steve/.local/lib/python3.10/site-packages (from pandas->yahoo_fin) (1.22.3)\r\n",
      "Requirement already satisfied: python-dateutil>=2.8.1 in /home/steve/.local/lib/python3.10/site-packages (from pandas->yahoo_fin) (2.8.2)\r\n",
      "Requirement already satisfied: fake-useragent in /home/steve/.local/lib/python3.10/site-packages (from requests-html->yahoo_fin) (0.1.11)\r\n",
      "Requirement already satisfied: bs4 in /home/steve/.local/lib/python3.10/site-packages (from requests-html->yahoo_fin) (0.0.1)\r\n",
      "Requirement already satisfied: w3lib in /home/steve/.local/lib/python3.10/site-packages (from requests-html->yahoo_fin) (2.0.1)\r\n",
      "Requirement already satisfied: pyquery in /home/steve/.local/lib/python3.10/site-packages (from requests-html->yahoo_fin) (1.4.3)\r\n",
      "Requirement already satisfied: pyppeteer>=0.0.14 in /home/steve/.local/lib/python3.10/site-packages (from requests-html->yahoo_fin) (1.0.2)\r\n",
      "Requirement already satisfied: parse in /home/steve/.local/lib/python3.10/site-packages (from requests-html->yahoo_fin) (1.19.0)\r\n",
      "Requirement already satisfied: websockets<11.0,>=10.0 in /home/steve/.local/lib/python3.10/site-packages (from pyppeteer>=0.0.14->requests-html->yahoo_fin) (10.3)\r\n",
      "Requirement already satisfied: pyee<9.0.0,>=8.1.0 in /home/steve/.local/lib/python3.10/site-packages (from pyppeteer>=0.0.14->requests-html->yahoo_fin) (8.2.2)\r\n",
      "Requirement already satisfied: tqdm<5.0.0,>=4.42.1 in /home/steve/.local/lib/python3.10/site-packages (from pyppeteer>=0.0.14->requests-html->yahoo_fin) (4.64.0)\r\n",
      "Requirement already satisfied: urllib3<2.0.0,>=1.25.8 in /usr/lib/python3/dist-packages (from pyppeteer>=0.0.14->requests-html->yahoo_fin) (1.26.5)\r\n",
      "Requirement already satisfied: importlib-metadata>=1.4 in /usr/lib/python3/dist-packages (from pyppeteer>=0.0.14->requests-html->yahoo_fin) (4.6.4)\r\n",
      "Requirement already satisfied: certifi>=2021 in /home/steve/.local/lib/python3.10/site-packages (from pyppeteer>=0.0.14->requests-html->yahoo_fin) (2022.9.14)\r\n",
      "Requirement already satisfied: appdirs<2.0.0,>=1.4.3 in /home/steve/.local/lib/python3.10/site-packages (from pyppeteer>=0.0.14->requests-html->yahoo_fin) (1.4.4)\r\n",
      "Requirement already satisfied: six>=1.5 in /usr/lib/python3/dist-packages (from python-dateutil>=2.8.1->pandas->yahoo_fin) (1.16.0)\r\n",
      "Requirement already satisfied: beautifulsoup4 in /home/steve/.local/lib/python3.10/site-packages (from bs4->requests-html->yahoo_fin) (4.11.1)\r\n",
      "Requirement already satisfied: lxml>=2.1 in /home/steve/.local/lib/python3.10/site-packages (from pyquery->requests-html->yahoo_fin) (4.9.1)\r\n",
      "Requirement already satisfied: cssselect>0.7.9 in /home/steve/.local/lib/python3.10/site-packages (from pyquery->requests-html->yahoo_fin) (1.1.0)\r\n",
      "Requirement already satisfied: soupsieve>1.2 in /home/steve/.local/lib/python3.10/site-packages (from beautifulsoup4->bs4->requests-html->yahoo_fin) (2.3.2.post1)\r\n",
      "Note: you may need to restart the kernel to use updated packages.\n"
     ]
    }
   ],
   "source": [
    "pip install yahoo_fin --upgrade"
   ]
  },
  {
   "cell_type": "code",
   "execution_count": 6,
   "outputs": [],
   "source": [
    "Results=read_dataframe_from_bucket(\"Results.csv\")\n"
   ],
   "metadata": {
    "collapsed": false
   }
  },
  {
   "cell_type": "code",
   "execution_count": 7,
   "outputs": [
    {
     "data": {
      "text/plain": "   Ticker        Date    Observed Predicted for   Predicted Recommended  \\\n0    TTWO  2022-11-30  105.690002    2022-11-30  100.055661        Sell   \n1    TTWO  2022-12-01  106.400002    2022-12-01  105.485446         Buy   \n2    TTWO  2022-12-02  108.760002    2022-12-02  106.993596         Buy   \n3    TTWO  2022-12-05  106.980003    2022-12-05  108.497596         Buy   \n4    TTWO  2022-12-06  101.269997    2022-12-06  106.790140        Sell   \n5    TTWO  2022-12-07   99.489998    2022-12-07  101.427272        Sell   \n6    TTWO  2022-12-08  100.790001    2022-12-08  100.725089        Sell   \n7    TTWO  2022-12-09  102.059998    2022-12-09  100.625212        Sell   \n8    TTWO  2022-12-12  102.610001    2022-12-12  101.810045         Buy   \n9    TTWO  2022-12-13  104.550003    2022-12-13  102.907522         Buy   \n10   TTWO  2022-12-14  104.809998    2022-12-14  104.024361         Buy   \n11   TTWO  2022-12-15  101.660004    2022-12-15  104.928221         Buy   \n12   TTWO  2022-12-16  100.760002    2022-12-16  101.095692        Sell   \n13   TTWO  2022-12-19   98.589996    2022-12-19  100.222758        Sell   \n14   TTWO  2022-12-20   98.110001    2022-12-20   99.536440        Sell   \n15   TTWO  2022-12-21   99.879997    2022-12-21   99.424772        Sell   \n16   TTWO  2022-12-22   99.269997    2022-12-22   99.797860         Buy   \n17   TTWO  2022-12-23   99.830002    2022-12-23   99.798034         Buy   \n18   TTWO  2022-12-27   99.379997    2022-12-27  100.668609         Buy   \n19   TTWO  2022-12-28         NaN    2022-12-28  100.490806        Sell   \n\n    Return %                  Sector    Model  \n0  -4.106352  Communication Services  Lasso()  \n1   0.671775  Communication Services  Lasso()  \n2   2.218046  Communication Services  Lasso()  \n3  -1.636630  Communication Services  Lasso()  \n4   5.638399  Communication Services  Lasso()  \n5   1.789123  Communication Services  Lasso()  \n6  -1.289814  Communication Services  Lasso()  \n7  -1.244363  Communication Services  Lasso()  \n8   0.538902  Communication Services  Lasso()  \n9   1.890656  Communication Services  Lasso()  \n10  0.248680  Communication Services  Lasso()  \n11 -3.005433  Communication Services  Lasso()  \n12  0.893213  Communication Services  Lasso()  \n13  2.201041  Communication Services  Lasso()  \n14  0.489242  Communication Services  Lasso()  \n15 -1.772123  Communication Services  Lasso()  \n16 -0.610734  Communication Services  Lasso()  \n17  0.564123  Communication Services  Lasso()  \n18 -0.450771  Communication Services  Lasso()  \n19       NaN  Communication Services  Lasso()  ",
      "text/html": "<div><div id=37869413-b78b-4244-b86d-51d65df23dd5 style=\"display:none; background-color:#9D6CFF; color:white; width:200px; height:30px; padding-left:5px; border-radius:4px; flex-direction:row; justify-content:space-around; align-items:center;\" onmouseover=\"this.style.backgroundColor='#BA9BF8'\" onmouseout=\"this.style.backgroundColor='#9D6CFF'\" onclick=\"window.commands?.execute('create-mitosheet-from-dataframe-output');\">See Full Dataframe in Mito</div> <script> if (window.commands?.hasCommand('create-mitosheet-from-dataframe-output')) document.getElementById('37869413-b78b-4244-b86d-51d65df23dd5').style.display = 'flex' </script> <table border=\"1\" class=\"dataframe\">\n  <thead>\n    <tr style=\"text-align: right;\">\n      <th></th>\n      <th>Ticker</th>\n      <th>Date</th>\n      <th>Observed</th>\n      <th>Predicted for</th>\n      <th>Predicted</th>\n      <th>Recommended</th>\n      <th>Return %</th>\n      <th>Sector</th>\n      <th>Model</th>\n    </tr>\n  </thead>\n  <tbody>\n    <tr>\n      <th>0</th>\n      <td>TTWO</td>\n      <td>2022-11-30</td>\n      <td>105.690002</td>\n      <td>2022-11-30</td>\n      <td>100.055661</td>\n      <td>Sell</td>\n      <td>-4.106352</td>\n      <td>Communication Services</td>\n      <td>Lasso()</td>\n    </tr>\n    <tr>\n      <th>1</th>\n      <td>TTWO</td>\n      <td>2022-12-01</td>\n      <td>106.400002</td>\n      <td>2022-12-01</td>\n      <td>105.485446</td>\n      <td>Buy</td>\n      <td>0.671775</td>\n      <td>Communication Services</td>\n      <td>Lasso()</td>\n    </tr>\n    <tr>\n      <th>2</th>\n      <td>TTWO</td>\n      <td>2022-12-02</td>\n      <td>108.760002</td>\n      <td>2022-12-02</td>\n      <td>106.993596</td>\n      <td>Buy</td>\n      <td>2.218046</td>\n      <td>Communication Services</td>\n      <td>Lasso()</td>\n    </tr>\n    <tr>\n      <th>3</th>\n      <td>TTWO</td>\n      <td>2022-12-05</td>\n      <td>106.980003</td>\n      <td>2022-12-05</td>\n      <td>108.497596</td>\n      <td>Buy</td>\n      <td>-1.636630</td>\n      <td>Communication Services</td>\n      <td>Lasso()</td>\n    </tr>\n    <tr>\n      <th>4</th>\n      <td>TTWO</td>\n      <td>2022-12-06</td>\n      <td>101.269997</td>\n      <td>2022-12-06</td>\n      <td>106.790140</td>\n      <td>Sell</td>\n      <td>5.638399</td>\n      <td>Communication Services</td>\n      <td>Lasso()</td>\n    </tr>\n    <tr>\n      <th>...</th>\n      <td>...</td>\n      <td>...</td>\n      <td>...</td>\n      <td>...</td>\n      <td>...</td>\n      <td>...</td>\n      <td>...</td>\n      <td>...</td>\n      <td>...</td>\n    </tr>\n    <tr>\n      <th>15</th>\n      <td>TTWO</td>\n      <td>2022-12-21</td>\n      <td>99.879997</td>\n      <td>2022-12-21</td>\n      <td>99.424772</td>\n      <td>Sell</td>\n      <td>-1.772123</td>\n      <td>Communication Services</td>\n      <td>Lasso()</td>\n    </tr>\n    <tr>\n      <th>16</th>\n      <td>TTWO</td>\n      <td>2022-12-22</td>\n      <td>99.269997</td>\n      <td>2022-12-22</td>\n      <td>99.797860</td>\n      <td>Buy</td>\n      <td>-0.610734</td>\n      <td>Communication Services</td>\n      <td>Lasso()</td>\n    </tr>\n    <tr>\n      <th>17</th>\n      <td>TTWO</td>\n      <td>2022-12-23</td>\n      <td>99.830002</td>\n      <td>2022-12-23</td>\n      <td>99.798034</td>\n      <td>Buy</td>\n      <td>0.564123</td>\n      <td>Communication Services</td>\n      <td>Lasso()</td>\n    </tr>\n    <tr>\n      <th>18</th>\n      <td>TTWO</td>\n      <td>2022-12-27</td>\n      <td>99.379997</td>\n      <td>2022-12-27</td>\n      <td>100.668609</td>\n      <td>Buy</td>\n      <td>-0.450771</td>\n      <td>Communication Services</td>\n      <td>Lasso()</td>\n    </tr>\n    <tr>\n      <th>19</th>\n      <td>TTWO</td>\n      <td>2022-12-28</td>\n      <td>NaN</td>\n      <td>2022-12-28</td>\n      <td>100.490806</td>\n      <td>Sell</td>\n      <td>NaN</td>\n      <td>Communication Services</td>\n      <td>Lasso()</td>\n    </tr>\n  </tbody>\n</table></div>"
     },
     "execution_count": 7,
     "metadata": {},
     "output_type": "execute_result"
    }
   ],
   "source": [
    "Results"
   ],
   "metadata": {
    "collapsed": false
   }
  },
  {
   "cell_type": "code",
   "execution_count": 8,
   "outputs": [
    {
     "name": "stdout",
     "output_type": "stream",
     "text": [
      "Ticker            object\n",
      "Date              object\n",
      "Observed         float64\n",
      "Predicted for     object\n",
      "Predicted        float64\n",
      "Recommended       object\n",
      "Return %         float64\n",
      "Sector            object\n",
      "Model             object\n",
      "dtype: object\n"
     ]
    }
   ],
   "source": [
    "print(Results.dtypes)"
   ],
   "metadata": {
    "collapsed": false
   }
  },
  {
   "cell_type": "code",
   "execution_count": 9,
   "id": "92706e93",
   "metadata": {},
   "outputs": [
    {
     "name": "stdout",
     "output_type": "stream",
     "text": [
      "Defaulting to user installation because normal site-packages is not writeable\r\n",
      "Requirement already satisfied: google.api.core in /home/steve/.local/lib/python3.10/site-packages (2.10.2)\r\n",
      "Requirement already satisfied: requests<3.0.0dev,>=2.18.0 in /usr/lib/python3/dist-packages (from google.api.core) (2.25.1)\r\n",
      "Requirement already satisfied: protobuf!=3.20.0,!=3.20.1,!=4.21.0,!=4.21.1,!=4.21.2,!=4.21.3,!=4.21.4,!=4.21.5,<5.0.0dev,>=3.19.5 in /home/steve/.local/lib/python3.10/site-packages (from google.api.core) (4.21.9)\r\n",
      "Requirement already satisfied: google-auth<3.0dev,>=1.25.0 in /home/steve/.local/lib/python3.10/site-packages (from google.api.core) (2.14.0)\r\n",
      "Requirement already satisfied: googleapis-common-protos<2.0dev,>=1.56.2 in /home/steve/.local/lib/python3.10/site-packages (from google.api.core) (1.56.4)\r\n",
      "Requirement already satisfied: cachetools<6.0,>=2.0.0 in /home/steve/.local/lib/python3.10/site-packages (from google-auth<3.0dev,>=1.25.0->google.api.core) (5.2.0)\r\n",
      "Requirement already satisfied: six>=1.9.0 in /usr/lib/python3/dist-packages (from google-auth<3.0dev,>=1.25.0->google.api.core) (1.16.0)\r\n",
      "Requirement already satisfied: rsa<5,>=3.1.4 in /home/steve/.local/lib/python3.10/site-packages (from google-auth<3.0dev,>=1.25.0->google.api.core) (4.9)\r\n",
      "Requirement already satisfied: pyasn1-modules>=0.2.1 in /home/steve/.local/lib/python3.10/site-packages (from google-auth<3.0dev,>=1.25.0->google.api.core) (0.2.8)\r\n",
      "Requirement already satisfied: pyasn1<0.5.0,>=0.4.6 in /home/steve/.local/lib/python3.10/site-packages (from pyasn1-modules>=0.2.1->google-auth<3.0dev,>=1.25.0->google.api.core) (0.4.8)\r\n",
      "Note: you may need to restart the kernel to use updated packages.\n"
     ]
    }
   ],
   "source": [
    "pip install google.api.core"
   ]
  },
  {
   "cell_type": "code",
   "execution_count": 10,
   "id": "5b51bff4",
   "metadata": {},
   "outputs": [
    {
     "name": "stdout",
     "output_type": "stream",
     "text": [
      "Defaulting to user installation because normal site-packages is not writeable\r\n",
      "Requirement already satisfied: google-cloud-storage in /home/steve/.local/lib/python3.10/site-packages (2.5.0)\r\n",
      "Requirement already satisfied: google-auth<3.0dev,>=1.25.0 in /home/steve/.local/lib/python3.10/site-packages (from google-cloud-storage) (2.14.0)\r\n",
      "Requirement already satisfied: google-resumable-media>=2.3.2 in /home/steve/.local/lib/python3.10/site-packages (from google-cloud-storage) (2.4.0)\r\n",
      "Requirement already satisfied: google-cloud-core<3.0dev,>=2.3.0 in /home/steve/.local/lib/python3.10/site-packages (from google-cloud-storage) (2.3.2)\r\n",
      "Requirement already satisfied: requests<3.0.0dev,>=2.18.0 in /usr/lib/python3/dist-packages (from google-cloud-storage) (2.25.1)\r\n",
      "Requirement already satisfied: google-api-core!=2.0.*,!=2.1.*,!=2.2.*,!=2.3.0,<3.0.0dev,>=1.31.5 in /home/steve/.local/lib/python3.10/site-packages (from google-cloud-storage) (2.10.2)\r\n",
      "Requirement already satisfied: protobuf!=3.20.0,!=3.20.1,!=4.21.0,!=4.21.1,!=4.21.2,!=4.21.3,!=4.21.4,!=4.21.5,<5.0.0dev,>=3.19.5 in /home/steve/.local/lib/python3.10/site-packages (from google-api-core!=2.0.*,!=2.1.*,!=2.2.*,!=2.3.0,<3.0.0dev,>=1.31.5->google-cloud-storage) (4.21.9)\r\n",
      "Requirement already satisfied: googleapis-common-protos<2.0dev,>=1.56.2 in /home/steve/.local/lib/python3.10/site-packages (from google-api-core!=2.0.*,!=2.1.*,!=2.2.*,!=2.3.0,<3.0.0dev,>=1.31.5->google-cloud-storage) (1.56.4)\r\n",
      "Requirement already satisfied: six>=1.9.0 in /usr/lib/python3/dist-packages (from google-auth<3.0dev,>=1.25.0->google-cloud-storage) (1.16.0)\r\n",
      "Requirement already satisfied: rsa<5,>=3.1.4 in /home/steve/.local/lib/python3.10/site-packages (from google-auth<3.0dev,>=1.25.0->google-cloud-storage) (4.9)\r\n",
      "Requirement already satisfied: pyasn1-modules>=0.2.1 in /home/steve/.local/lib/python3.10/site-packages (from google-auth<3.0dev,>=1.25.0->google-cloud-storage) (0.2.8)\r\n",
      "Requirement already satisfied: cachetools<6.0,>=2.0.0 in /home/steve/.local/lib/python3.10/site-packages (from google-auth<3.0dev,>=1.25.0->google-cloud-storage) (5.2.0)\r\n",
      "Requirement already satisfied: google-crc32c<2.0dev,>=1.0 in /home/steve/.local/lib/python3.10/site-packages (from google-resumable-media>=2.3.2->google-cloud-storage) (1.5.0)\r\n",
      "Requirement already satisfied: pyasn1<0.5.0,>=0.4.6 in /home/steve/.local/lib/python3.10/site-packages (from pyasn1-modules>=0.2.1->google-auth<3.0dev,>=1.25.0->google-cloud-storage) (0.4.8)\r\n",
      "Note: you may need to restart the kernel to use updated packages.\n"
     ]
    }
   ],
   "source": [
    "pip install google-cloud-storage"
   ]
  },
  {
   "cell_type": "code",
   "execution_count": 10,
   "id": "5c84a796",
   "metadata": {},
   "outputs": [],
   "source": []
  },
  {
   "cell_type": "markdown",
   "id": "725a08c1",
   "metadata": {},
   "source": [
    "### New function to generate Json file - the jsonfilename could be a parameter on the config file later"
   ]
  },
  {
   "cell_type": "code",
   "execution_count": 11,
   "id": "f38268c7",
   "metadata": {},
   "outputs": [
    {
     "data": {
      "text/plain": "'JSON SP500.json was generated  successfully.'"
     },
     "execution_count": 11,
     "metadata": {},
     "output_type": "execute_result"
    }
   ],
   "source": [
    "filename_json=read_config_file()[5]\n",
    "get_SP500(filename_json)"
   ]
  },
  {
   "cell_type": "code",
   "execution_count": 104,
   "id": "451a0da7",
   "metadata": {},
   "outputs": [
    {
     "ename": "TypeError",
     "evalue": "string indices must be integers",
     "output_type": "error",
     "traceback": [
      "\u001B[0;31m---------------------------------------------------------------------------\u001B[0m",
      "\u001B[0;31mTypeError\u001B[0m                                 Traceback (most recent call last)",
      "Input \u001B[0;32mIn [104]\u001B[0m, in \u001B[0;36m<cell line: 2>\u001B[0;34m()\u001B[0m\n\u001B[1;32m      1\u001B[0m \u001B[38;5;66;03m#ancienne methode avec si.get_company_info qui ne marche plus\u001B[39;00m\n\u001B[0;32m----> 2\u001B[0m df \u001B[38;5;241m=\u001B[39m \u001B[43msi\u001B[49m\u001B[38;5;241;43m.\u001B[39;49m\u001B[43mget_company_info\u001B[49m\u001B[43m(\u001B[49m\u001B[38;5;124;43m\"\u001B[39;49m\u001B[38;5;124;43mGOOG\u001B[39;49m\u001B[38;5;124;43m\"\u001B[39;49m\u001B[43m)\u001B[49m  \u001B[38;5;66;03m# a utiliser pour trouver le secteur\u001B[39;00m\n\u001B[1;32m      3\u001B[0m df \u001B[38;5;241m=\u001B[39m df\u001B[38;5;241m.\u001B[39mreset_index()\n\u001B[1;32m      4\u001B[0m sector \u001B[38;5;241m=\u001B[39m df\u001B[38;5;241m.\u001B[39mloc[df[\u001B[38;5;124m'\u001B[39m\u001B[38;5;124mBreakdown\u001B[39m\u001B[38;5;124m'\u001B[39m]\u001B[38;5;241m.\u001B[39misin([\u001B[38;5;124m'\u001B[39m\u001B[38;5;124msector\u001B[39m\u001B[38;5;124m'\u001B[39m])]  \u001B[38;5;66;03m# from bamboolib to extract sector\u001B[39;00m\n",
      "File \u001B[0;32m~/.local/lib/python3.10/site-packages/yahoo_fin/stock_info.py:1015\u001B[0m, in \u001B[0;36mget_company_info\u001B[0;34m(ticker)\u001B[0m\n\u001B[1;32m   1013\u001B[0m site \u001B[38;5;241m=\u001B[39m \u001B[38;5;124mf\u001B[39m\u001B[38;5;124m\"\u001B[39m\u001B[38;5;124mhttps://finance.yahoo.com/quote/\u001B[39m\u001B[38;5;132;01m{\u001B[39;00mticker\u001B[38;5;132;01m}\u001B[39;00m\u001B[38;5;124m/profile?p=\u001B[39m\u001B[38;5;132;01m{\u001B[39;00mticker\u001B[38;5;132;01m}\u001B[39;00m\u001B[38;5;124m\"\u001B[39m\n\u001B[1;32m   1014\u001B[0m json_info \u001B[38;5;241m=\u001B[39m _parse_json(site)\n\u001B[0;32m-> 1015\u001B[0m json_info \u001B[38;5;241m=\u001B[39m \u001B[43mjson_info\u001B[49m\u001B[43m[\u001B[49m\u001B[38;5;124;43m\"\u001B[39;49m\u001B[38;5;124;43massetProfile\u001B[39;49m\u001B[38;5;124;43m\"\u001B[39;49m\u001B[43m]\u001B[49m\n\u001B[1;32m   1016\u001B[0m info_frame \u001B[38;5;241m=\u001B[39m pd\u001B[38;5;241m.\u001B[39mDataFrame\u001B[38;5;241m.\u001B[39mfrom_dict(json_info,\n\u001B[1;32m   1017\u001B[0m                                     orient\u001B[38;5;241m=\u001B[39m\u001B[38;5;124m\"\u001B[39m\u001B[38;5;124mindex\u001B[39m\u001B[38;5;124m\"\u001B[39m,\n\u001B[1;32m   1018\u001B[0m                                     columns\u001B[38;5;241m=\u001B[39m[\u001B[38;5;124m\"\u001B[39m\u001B[38;5;124mValue\u001B[39m\u001B[38;5;124m\"\u001B[39m])\n\u001B[1;32m   1019\u001B[0m info_frame \u001B[38;5;241m=\u001B[39m info_frame\u001B[38;5;241m.\u001B[39mdrop(\u001B[38;5;124m\"\u001B[39m\u001B[38;5;124mcompanyOfficers\u001B[39m\u001B[38;5;124m\"\u001B[39m, axis\u001B[38;5;241m=\u001B[39m\u001B[38;5;124m\"\u001B[39m\u001B[38;5;124mindex\u001B[39m\u001B[38;5;124m\"\u001B[39m)\n",
      "\u001B[0;31mTypeError\u001B[0m: string indices must be integers"
     ]
    }
   ],
   "source": [
    "#ancienne methode avec si.get_company_info qui ne marche plus\n",
    "df = si.get_company_info(\"GOOG\")  # a utiliser pour trouver le secteur\n",
    "df = df.reset_index()\n",
    "sector = df.loc[df['Breakdown'].isin(['sector'])]  # from bamboolib to extract sector\n",
    "sector = sector.iloc[0, 1]  # this is to extract just the value\n",
    "industry = df.loc[df['Breakdown'].isin(['industry'])]\n",
    "industry = industry.iloc[0, 1]\n",
    "\n",
    "\n",
    "from yahoo_fin import stock_info as si\n",
    "si.get_company_info('aapl')"
   ]
  },
  {
   "cell_type": "code",
   "execution_count": 116,
   "outputs": [
    {
     "ename": "KeyError",
     "evalue": "'sector'",
     "output_type": "error",
     "traceback": [
      "\u001B[0;31m---------------------------------------------------------------------------\u001B[0m",
      "\u001B[0;31mKeyError\u001B[0m                                  Traceback (most recent call last)",
      "Input \u001B[0;32mIn [116]\u001B[0m, in \u001B[0;36m<cell line: 7>\u001B[0;34m()\u001B[0m\n\u001B[1;32m      5\u001B[0m ticker \u001B[38;5;241m=\u001B[39m yf\u001B[38;5;241m.\u001B[39mTicker(\u001B[38;5;124m\"\u001B[39m\u001B[38;5;124mgen\u001B[39m\u001B[38;5;124m\"\u001B[39m)\n\u001B[1;32m      6\u001B[0m company_info \u001B[38;5;241m=\u001B[39m ticker\u001B[38;5;241m.\u001B[39minfo\n\u001B[0;32m----> 7\u001B[0m \u001B[38;5;28mprint\u001B[39m(\u001B[43mcompany_info\u001B[49m\u001B[43m[\u001B[49m\u001B[38;5;124;43m'\u001B[39;49m\u001B[38;5;124;43msector\u001B[39;49m\u001B[38;5;124;43m'\u001B[39;49m\u001B[43m]\u001B[49m)\n\u001B[1;32m      8\u001B[0m \u001B[38;5;28mprint\u001B[39m(company_info[\u001B[38;5;124m'\u001B[39m\u001B[38;5;124mindustry\u001B[39m\u001B[38;5;124m'\u001B[39m])\n",
      "\u001B[0;31mKeyError\u001B[0m: 'sector'"
     ]
    }
   ],
   "source": [
    "#nouvelle methode avec yfinance remplacant la methode ci-dessus\n",
    "\n",
    "import yfinance as yf\n",
    "\n",
    "ticker = yf.Ticker(\"gen\")\n",
    "company_info = ticker.info\n",
    "print(company_info['sector'])\n",
    "print(company_info['industry'])"
   ],
   "metadata": {
    "collapsed": false
   }
  },
  {
   "cell_type": "code",
   "execution_count": 118,
   "outputs": [
    {
     "name": "stdout",
     "output_type": "stream",
     "text": [
      "['AAPL', 'Technology', 'Consumer Electronics']\n",
      "['GOOG', 'Communication Services', 'Internet Content & Information']\n",
      "['GEN', 'Technology', 'Software—Infrastructure']\n",
      "['NFLX', 'Communication Services', 'Entertainment']\n",
      "['AM', 'Energy', 'Oil & Gas Midstream']\n",
      "- AT: No summary info found, symbol may be delisted\n",
      "no sector for AT\n",
      "- AMZ: No summary info found, symbol may be delisted\n",
      "no sector for AMZ\n",
      "['K', 'Consumer Defensive', 'Packaged Foods']\n",
      "['CAG', 'Consumer Defensive', 'Packaged Foods']\n",
      "['CTRA', 'Energy', 'Oil & Gas E&P']\n"
     ]
    }
   ],
   "source": [
    "import yfinance as yf\n",
    "import time\n",
    "#tickers_list=si.tickers_sp500()\n",
    "tickers_list=['AAPL','GOOG','GEN','NFLX','AM','AT','AMZ','K','CAG','CTRA']\n",
    "SP500_list = []\n",
    "for ticker in tickers_list:\n",
    "\n",
    "    ticker_company_info = yf.Ticker(ticker).info\n",
    "    try:\n",
    "        sector=ticker_company_info['sector']\n",
    "    except:\n",
    "        print(f\"no sector for {ticker}\")\n",
    "    else:\n",
    "        sector=ticker_company_info['sector']\n",
    "        industry=ticker_company_info['industry']\n",
    "        print([ticker,sector,industry])\n",
    "        SP500_list.append([ticker,sector,industry])\n",
    "\n",
    "SP500_list = np.array(SP500_list)\n"
   ],
   "metadata": {
    "collapsed": false
   }
  },
  {
   "cell_type": "code",
   "execution_count": 120,
   "outputs": [
    {
     "name": "stdout",
     "output_type": "stream",
     "text": [
      "[['AAPL' 'Technology' 'Consumer Electronics']\n",
      " ['GOOG' 'Communication Services' 'Internet Content & Information']\n",
      " ['GEN' 'Technology' 'Software—Infrastructure']\n",
      " ['NFLX' 'Communication Services' 'Entertainment']\n",
      " ['AM' 'Energy' 'Oil & Gas Midstream']\n",
      " ['K' 'Consumer Defensive' 'Packaged Foods']\n",
      " ['CAG' 'Consumer Defensive' 'Packaged Foods']\n",
      " ['CTRA' 'Energy' 'Oil & Gas E&P']]\n"
     ]
    }
   ],
   "source": [
    "print(SP500_list)"
   ],
   "metadata": {
    "collapsed": false
   }
  },
  {
   "cell_type": "code",
   "execution_count": null,
   "outputs": [],
   "source": [
    "SP500_list"
   ],
   "metadata": {
    "collapsed": false
   }
  },
  {
   "cell_type": "code",
   "execution_count": 92,
   "outputs": [
    {
     "name": "stdout",
     "output_type": "stream",
     "text": [
      "Defaulting to user installation because normal site-packages is not writeable\r\n",
      "Collecting yfinance\r\n",
      "  Downloading yfinance-0.2.3-py2.py3-none-any.whl (50 kB)\r\n",
      "\u001B[2K     \u001B[90m━━━━━━━━━━━━━━━━━━━━━━━━━━━━━━━━━━━━━━━━\u001B[0m \u001B[32m50.4/50.4 KB\u001B[0m \u001B[31m1.4 MB/s\u001B[0m eta \u001B[36m0:00:00\u001B[0m\r\n",
      "\u001B[?25hRequirement already satisfied: pandas>=1.3.0 in /home/steve/.local/lib/python3.10/site-packages (from yfinance) (1.4.2)\r\n",
      "Collecting multitasking>=0.0.7\r\n",
      "  Downloading multitasking-0.0.11-py3-none-any.whl (8.5 kB)\r\n",
      "Requirement already satisfied: cryptography>=3.3.2 in /usr/lib/python3/dist-packages (from yfinance) (3.4.8)\r\n",
      "Collecting html5lib>=1.1\r\n",
      "  Downloading html5lib-1.1-py2.py3-none-any.whl (112 kB)\r\n",
      "\u001B[2K     \u001B[90m━━━━━━━━━━━━━━━━━━━━━━━━━━━━━━━━━━━━━━━\u001B[0m \u001B[32m112.2/112.2 KB\u001B[0m \u001B[31m5.1 MB/s\u001B[0m eta \u001B[36m0:00:00\u001B[0m\r\n",
      "\u001B[?25hRequirement already satisfied: lxml>=4.9.1 in /home/steve/.local/lib/python3.10/site-packages (from yfinance) (4.9.1)\r\n",
      "Collecting frozendict>=2.3.4\r\n",
      "  Downloading frozendict-2.3.4-cp310-cp310-manylinux_2_17_x86_64.manylinux2014_x86_64.whl (113 kB)\r\n",
      "\u001B[2K     \u001B[90m━━━━━━━━━━━━━━━━━━━━━━━━━━━━━━━━━━━━━━━\u001B[0m \u001B[32m113.2/113.2 KB\u001B[0m \u001B[31m7.6 MB/s\u001B[0m eta \u001B[36m0:00:00\u001B[0m\r\n",
      "\u001B[?25hRequirement already satisfied: appdirs>=1.4.4 in /home/steve/.local/lib/python3.10/site-packages (from yfinance) (1.4.4)\r\n",
      "Requirement already satisfied: beautifulsoup4>=4.11.1 in /home/steve/.local/lib/python3.10/site-packages (from yfinance) (4.11.1)\r\n",
      "Collecting requests>=2.26\r\n",
      "  Using cached requests-2.28.1-py3-none-any.whl (62 kB)\r\n",
      "Collecting pytz>=2022.5\r\n",
      "  Downloading pytz-2022.7-py2.py3-none-any.whl (499 kB)\r\n",
      "\u001B[2K     \u001B[90m━━━━━━━━━━━━━━━━━━━━━━━━━━━━━━━━━━━━━━━\u001B[0m \u001B[32m499.4/499.4 KB\u001B[0m \u001B[31m9.0 MB/s\u001B[0m eta \u001B[36m0:00:00\u001B[0ma \u001B[36m0:00:01\u001B[0m\r\n",
      "\u001B[?25hRequirement already satisfied: numpy>=1.16.5 in /home/steve/.local/lib/python3.10/site-packages (from yfinance) (1.22.3)\r\n",
      "Requirement already satisfied: soupsieve>1.2 in /home/steve/.local/lib/python3.10/site-packages (from beautifulsoup4>=4.11.1->yfinance) (2.3.2.post1)\r\n",
      "Requirement already satisfied: six>=1.9 in /usr/lib/python3/dist-packages (from html5lib>=1.1->yfinance) (1.16.0)\r\n",
      "Requirement already satisfied: webencodings in /home/steve/.local/lib/python3.10/site-packages (from html5lib>=1.1->yfinance) (0.5.1)\r\n",
      "Requirement already satisfied: python-dateutil>=2.8.1 in /home/steve/.local/lib/python3.10/site-packages (from pandas>=1.3.0->yfinance) (2.8.2)\r\n",
      "Requirement already satisfied: certifi>=2017.4.17 in /home/steve/.local/lib/python3.10/site-packages (from requests>=2.26->yfinance) (2022.9.14)\r\n",
      "Collecting charset-normalizer<3,>=2\r\n",
      "  Using cached charset_normalizer-2.1.1-py3-none-any.whl (39 kB)\r\n",
      "Requirement already satisfied: urllib3<1.27,>=1.21.1 in /usr/lib/python3/dist-packages (from requests>=2.26->yfinance) (1.26.5)\r\n",
      "Requirement already satisfied: idna<4,>=2.5 in /usr/lib/python3/dist-packages (from requests>=2.26->yfinance) (3.3)\r\n",
      "Installing collected packages: pytz, multitasking, html5lib, frozendict, charset-normalizer, requests, yfinance\r\n",
      "Successfully installed charset-normalizer-2.1.1 frozendict-2.3.4 html5lib-1.1 multitasking-0.0.11 pytz-2022.7 requests-2.28.1 yfinance-0.2.3\r\n",
      "Note: you may need to restart the kernel to use updated packages.\n"
     ]
    }
   ],
   "source": [
    "pip install yfinance"
   ],
   "metadata": {
    "collapsed": false
   }
  },
  {
   "cell_type": "code",
   "execution_count": null,
   "outputs": [],
   "source": [],
   "metadata": {
    "collapsed": false
   }
  },
  {
   "cell_type": "code",
   "execution_count": null,
   "outputs": [],
   "source": [],
   "metadata": {
    "collapsed": false
   }
  },
  {
   "cell_type": "code",
   "execution_count": 14,
   "id": "8183c4c6",
   "metadata": {},
   "outputs": [
    {
     "data": {
      "text/plain": "'\\ndf = si.get_company_info(\"AAPL\")  # a utiliser pour trouver le secteur\\ndf = df.reset_index()\\nsector = df.loc[df[\\'Breakdown\\'].isin([\\'sector\\'])]  # from bamboolib to extract sector\\nsector = sector.iloc[0, 1]  # this is to extract just the value\\nindustry = df.loc[df[\\'Breakdown\\'].isin([\\'industry\\'])]\\nindustry = industry.iloc[0, 1]\\n'"
     },
     "execution_count": 14,
     "metadata": {},
     "output_type": "execute_result"
    }
   ],
   "source": [
    "'''\n",
    "df = si.get_company_info(\"AAPL\")  # a utiliser pour trouver le secteur\n",
    "df = df.reset_index()\n",
    "sector = df.loc[df['Breakdown'].isin(['sector'])]  # from bamboolib to extract sector\n",
    "sector = sector.iloc[0, 1]  # this is to extract just the value\n",
    "industry = df.loc[df['Breakdown'].isin(['industry'])]\n",
    "industry = industry.iloc[0, 1]\n",
    "'''"
   ]
  },
  {
   "cell_type": "code",
   "execution_count": 94,
   "id": "b2ce77c6",
   "metadata": {},
   "outputs": [
    {
     "data": {
      "text/plain": "{'zip': '95014',\n 'sector': 'Technology',\n 'fullTimeEmployees': 164000,\n 'longBusinessSummary': 'Apple Inc. designs, manufactures, and markets smartphones, personal computers, tablets, wearables, and accessories worldwide. It also sells various related services. In addition, the company offers iPhone, a line of smartphones; Mac, a line of personal computers; iPad, a line of multi-purpose tablets; and wearables, home, and accessories comprising AirPods, Apple TV, Apple Watch, Beats products, and HomePod. Further, it provides AppleCare support and cloud services store services; and operates various platforms, including the App Store that allow customers to discover and download applications and digital content, such as books, music, video, games, and podcasts. Additionally, the company offers various services, such as Apple Arcade, a game subscription service; Apple Fitness+, a personalized fitness service; Apple Music, which offers users a curated listening experience with on-demand radio stations; Apple News+, a subscription news and magazine service; Apple TV+, which offers exclusive original content; Apple Card, a co-branded credit card; and Apple Pay, a cashless payment service, as well as licenses its intellectual property. The company serves consumers, and small and mid-sized businesses; and the education, enterprise, and government markets. It distributes third-party applications for its products through the App Store. The company also sells its products through its retail and online stores, and direct sales force; and third-party cellular network carriers, wholesalers, retailers, and resellers. Apple Inc. was incorporated in 1977 and is headquartered in Cupertino, California.',\n 'city': 'Cupertino',\n 'phone': '408 996 1010',\n 'state': 'CA',\n 'country': 'United States',\n 'companyOfficers': [],\n 'website': 'https://www.apple.com',\n 'maxAge': 1,\n 'address1': 'One Apple Park Way',\n 'industry': 'Consumer Electronics',\n 'ebitdaMargins': 0.33105,\n 'profitMargins': 0.2531,\n 'grossMargins': 0.43310001,\n 'operatingCashflow': 122151002112,\n 'revenueGrowth': 0.081,\n 'operatingMargins': 0.30289,\n 'ebitda': 130541002752,\n 'targetLowPrice': 122,\n 'recommendationKey': 'buy',\n 'grossProfits': 170782000000,\n 'freeCashflow': 90215251968,\n 'targetMedianPrice': 176,\n 'currentPrice': 130.0699,\n 'earningsGrowth': 0.048,\n 'currentRatio': 0.879,\n 'returnOnAssets': 0.21214001,\n 'numberOfAnalystOpinions': 41,\n 'targetMeanPrice': 176.45,\n 'debtToEquity': 261.446,\n 'returnOnEquity': 1.75459,\n 'targetHighPrice': 214,\n 'totalCash': 48304001024,\n 'totalDebt': 132480000000,\n 'totalRevenue': 394328014848,\n 'totalCashPerShare': 3.036,\n 'financialCurrency': 'USD',\n 'revenuePerShare': 24.317,\n 'quickRatio': 0.709,\n 'recommendationMean': 1.9,\n 'exchange': 'NMS',\n 'shortName': 'Apple Inc.',\n 'longName': 'Apple Inc.',\n 'exchangeTimezoneName': 'America/New_York',\n 'exchangeTimezoneShortName': 'EST',\n 'isEsgPopulated': False,\n 'gmtOffSetMilliseconds': '-18000000',\n 'quoteType': 'EQUITY',\n 'symbol': 'AAPL',\n 'messageBoardId': 'finmb_24937',\n 'market': 'us_market',\n 'annualHoldingsTurnover': None,\n 'enterpriseToRevenue': 5.298,\n 'beta3Year': None,\n 'enterpriseToEbitda': 16.004,\n '52WeekChange': -0.29270482,\n 'morningStarRiskRating': None,\n 'forwardEps': 6.77,\n 'revenueQuarterlyGrowth': None,\n 'sharesOutstanding': 15908100096,\n 'fundInceptionDate': None,\n 'annualReportExpenseRatio': None,\n 'totalAssets': None,\n 'bookValue': 3.178,\n 'sharesShort': 121757434,\n 'sharesPercentSharesOut': 0.0077,\n 'fundFamily': None,\n 'lastFiscalYearEnd': 1663977600,\n 'heldPercentInstitutions': 0.60915,\n 'netIncomeToCommon': 99802996736,\n 'trailingEps': 6.11,\n 'lastDividendValue': 0.23,\n 'SandP52WeekChange': -0.20832103,\n 'priceToBook': 40.928226,\n 'heldPercentInsiders': 0.00071999995,\n 'nextFiscalYearEnd': 1727136000,\n 'yield': None,\n 'mostRecentQuarter': 1663977600,\n 'shortRatio': 1.67,\n 'sharesShortPreviousMonthDate': 1668470400,\n 'floatShares': 15891414476,\n 'beta': 1.219468,\n 'enterpriseValue': 2089235251200,\n 'priceHint': 2,\n 'threeYearAverageReturn': None,\n 'lastSplitDate': 1598832000,\n 'lastSplitFactor': '4:1',\n 'legalType': None,\n 'lastDividendDate': 1667520000,\n 'morningStarOverallRating': None,\n 'earningsQuarterlyGrowth': 0.008,\n 'priceToSalesTrailing12Months': 5.2473235,\n 'dateShortInterest': 1671062400,\n 'pegRatio': 2.33,\n 'ytdReturn': None,\n 'forwardPE': 19.212704,\n 'lastCapGain': None,\n 'shortPercentOfFloat': 0.0077,\n 'sharesShortPriorMonth': 114431895,\n 'impliedSharesOutstanding': 0,\n 'category': None,\n 'fiveYearAverageReturn': None,\n 'previousClose': 126.04,\n 'regularMarketOpen': 127.99,\n 'twoHundredDayAverage': 151.8867,\n 'trailingAnnualDividendYield': 0.00714059,\n 'payoutRatio': 0.14729999,\n 'volume24Hr': None,\n 'regularMarketDayHigh': 130.48,\n 'navPrice': None,\n 'averageDailyVolume10Day': 88021140,\n 'regularMarketPreviousClose': 126.04,\n 'fiftyDayAverage': 143.6374,\n 'trailingAnnualDividendRate': 0.9,\n 'open': 127.99,\n 'toCurrency': None,\n 'averageVolume10days': 88021140,\n 'expireDate': None,\n 'algorithm': None,\n 'dividendRate': 0.92,\n 'exDividendDate': 1667520000,\n 'circulatingSupply': None,\n 'startDate': None,\n 'regularMarketDayLow': 127.815,\n 'currency': 'USD',\n 'trailingPE': 21.288054,\n 'regularMarketVolume': 39646026,\n 'lastMarket': None,\n 'maxSupply': None,\n 'openInterest': None,\n 'marketCap': 2069166686208,\n 'volumeAllCurrencies': None,\n 'strikePrice': None,\n 'averageVolume': 84523561,\n 'dayLow': 127.815,\n 'ask': 130.06,\n 'askSize': 1200,\n 'volume': 39646026,\n 'fiftyTwoWeekHigh': 182.94,\n 'fromCurrency': None,\n 'fiveYearAvgDividendYield': 0.99,\n 'fiftyTwoWeekLow': 125.87,\n 'bid': 130.03,\n 'tradeable': False,\n 'dividendYield': 0.0073,\n 'bidSize': 1000,\n 'dayHigh': 130.48,\n 'coinMarketCapLink': None,\n 'regularMarketPrice': 130.07,\n 'preMarketPrice': 127.955,\n 'logo_url': 'https://logo.clearbit.com/apple.com',\n 'trailingPegRatio': 2.5348}"
     },
     "execution_count": 94,
     "metadata": {},
     "output_type": "execute_result"
    }
   ],
   "source": [
    "company_info"
   ]
  },
  {
   "cell_type": "code",
   "execution_count": 14,
   "id": "29aa43da",
   "metadata": {},
   "outputs": [],
   "source": []
  },
  {
   "cell_type": "code",
   "execution_count": 15,
   "id": "92cecac0",
   "metadata": {},
   "outputs": [
    {
     "data": {
      "text/plain": "('0.1',\n ['^tnx', '^GSPC', 'CL=F'],\n '*',\n 'Lasso(alpha=1.0)',\n 'stock-363101',\n 'SP500.json')"
     },
     "execution_count": 15,
     "metadata": {},
     "output_type": "execute_result"
    }
   ],
   "source": [
    "read_config_file()"
   ]
  },
  {
   "cell_type": "markdown",
   "id": "6614500c",
   "metadata": {},
   "source": [
    "# extracting sectors and industries from Jsonfile"
   ]
  },
  {
   "cell_type": "code",
   "execution_count": 16,
   "id": "2e51f632",
   "metadata": {},
   "outputs": [
    {
     "name": "stdout",
     "output_type": "stream",
     "text": [
      "[['A' 'Healthcare' 'Diagnostics & Research']\n",
      " ['AAL' 'Industrials' 'Airlines']\n",
      " ['AAP' 'Consumer Cyclical' 'Specialty Retail']\n",
      " ...\n",
      " ['ZBRA' 'Technology' 'Communication Equipment']\n",
      " ['ZION' 'Financial Services' 'Banks—Regional']\n",
      " ['ZTS' 'Healthcare' 'Drug Manufacturers—Specialty & Generic']]\n"
     ]
    }
   ],
   "source": [
    "filename_json=read_config_file()[5]\n",
    "SP500_list=read_list(filename_json)\n",
    "SP500_list = np.array(SP500_list,dtype=object)\n",
    "print(SP500_list)"
   ]
  },
  {
   "cell_type": "code",
   "execution_count": 17,
   "id": "fae80175",
   "metadata": {},
   "outputs": [
    {
     "name": "stdout",
     "output_type": "stream",
     "text": [
      "[['A' 'Healthcare' 'Diagnostics & Research']\n",
      " ['AAL' 'Industrials' 'Airlines']\n",
      " ['AAP' 'Consumer Cyclical' 'Specialty Retail']\n",
      " ...\n",
      " ['ZBRA' 'Technology' 'Communication Equipment']\n",
      " ['ZION' 'Financial Services' 'Banks—Regional']\n",
      " ['ZTS' 'Healthcare' 'Drug Manufacturers—Specialty & Generic']]\n"
     ]
    }
   ],
   "source": [
    "SP500_list=read_list(filename_json)\n",
    "SP500_list = np.array(SP500_list,dtype=object)\n",
    "print(SP500_list)"
   ]
  },
  {
   "cell_type": "code",
   "execution_count": 18,
   "id": "c43714cb",
   "metadata": {},
   "outputs": [],
   "source": [
    "SP500_tickers=(SP500_list[:,0])\n",
    "SP500_sectors=(SP500_list[:,1])\n",
    "SP500_industries=(SP500_list[:,2])"
   ]
  },
  {
   "cell_type": "code",
   "execution_count": 19,
   "id": "f214544b",
   "metadata": {},
   "outputs": [
    {
     "name": "stdout",
     "output_type": "stream",
     "text": [
      "['A' 'AAL' 'AAP' 'AAPL' 'ABBV' 'ABC' 'ABMD' 'ABT' 'ACN' 'ADBE' 'ADI' 'ADM'\n",
      " 'ADP' 'ADSK' 'AEE' 'AEP' 'AES' 'AFL' 'AIG' 'AIZ' 'AJG' 'AKAM' 'ALB'\n",
      " 'ALGN' 'ALK' 'ALL' 'ALLE' 'AMAT' 'AMCR' 'AMD' 'AME' 'AMGN' 'AMP' 'AMT'\n",
      " 'AMZN' 'ANET' 'ANSS' 'AON' 'AOS' 'APA' 'APD' 'APH' 'APTV' 'ARE' 'ATO'\n",
      " 'ATVI' 'AVB' 'AVGO' 'AVY' 'AWK' 'AXP' 'AZO' 'BA' 'BAC' 'BALL' 'BAX'\n",
      " 'BBWI' 'BBY' 'BDX' 'BEN' 'BF-B' 'BIIB' 'BIO' 'BK' 'BKNG' 'BKR' 'BLK'\n",
      " 'BMY' 'BR' 'BRK-B' 'BRO' 'BSX' 'BWA' 'BXP' 'C' 'CAG' 'CAH' 'CARR' 'CAT'\n",
      " 'CB' 'CBOE' 'CBRE' 'CCI' 'CCL' 'CDAY' 'CDNS' 'CDW' 'CE' 'CEG' 'CF' 'CFG'\n",
      " 'CHD' 'CHRW' 'CHTR' 'CI' 'CINF' 'CL' 'CLX' 'CMA' 'CMCSA' 'CME' 'CMG'\n",
      " 'CMI' 'CMS' 'CNC' 'CNP' 'COF' 'COO' 'COP' 'COST' 'CPB' 'CPRT' 'CPT' 'CRL'\n",
      " 'CRM' 'CSCO' 'CSGP' 'CSX' 'CTAS' 'CTLT' 'CTRA' 'CTSH' 'CTVA' 'CVS' 'CVX'\n",
      " 'CZR' 'D' 'DAL' 'DD' 'DE' 'DFS' 'DG' 'DGX' 'DHI' 'DHR' 'DIS' 'DISH' 'DLR'\n",
      " 'DLTR' 'DOV' 'DOW' 'DPZ' 'DRI' 'DTE' 'DUK' 'DVA' 'DVN' 'DXC' 'DXCM' 'EA'\n",
      " 'EBAY' 'ECL' 'ED' 'EFX' 'EIX' 'EL' 'ELV' 'EMN' 'EMR' 'ENPH' 'EOG' 'EPAM'\n",
      " 'EQIX' 'EQR' 'EQT' 'ES' 'ESS' 'ETN' 'ETR' 'ETSY' 'EVRG' 'EW' 'EXC' 'EXPD'\n",
      " 'EXPE' 'EXR' 'F' 'FANG' 'FAST' 'FBHS' 'FCX' 'FDS' 'FDX' 'FE' 'FFIV' 'FIS'\n",
      " 'FISV' 'FITB' 'FLT' 'FMC' 'FOX' 'FOXA' 'FRC' 'FRT' 'FTNT' 'FTV' 'GD' 'GE'\n",
      " 'GILD' 'GIS' 'GL' 'GLW' 'GM' 'GNRC' 'GOOG' 'GOOGL' 'GPC' 'GPN' 'GRMN'\n",
      " 'GS' 'GWW' 'HAL' 'HAS' 'HBAN' 'HCA' 'HD' 'HES' 'HIG' 'HII' 'HLT' 'HOLX'\n",
      " 'HON' 'HPE' 'HPQ' 'HRL' 'HSIC' 'HST' 'HSY' 'HUM' 'HWM' 'IBM' 'ICE' 'IDXX'\n",
      " 'IEX' 'IFF' 'ILMN' 'INCY' 'INTC' 'INTU' 'INVH' 'IP' 'IPG' 'IQV' 'IR'\n",
      " 'IRM' 'ISRG' 'IT' 'ITW' 'IVZ' 'J' 'JBHT' 'JCI' 'JKHY' 'JNJ' 'JNPR' 'JPM'\n",
      " 'K' 'KDP' 'KEY' 'KEYS' 'KHC' 'KIM' 'KLAC' 'KMB' 'KMI' 'KMX' 'KO' 'KR' 'L'\n",
      " 'LDOS' 'LEN' 'LH' 'LHX' 'LIN' 'LKQ' 'LLY' 'LMT' 'LNC' 'LNT' 'LOW' 'LRCX'\n",
      " 'LUMN' 'LUV' 'LVS' 'LW' 'LYB' 'LYV' 'MA' 'MAA' 'MAR' 'MAS' 'MCD' 'MCHP'\n",
      " 'MCK' 'MCO' 'MDLZ' 'MDT' 'MET' 'META' 'MGM' 'MHK' 'MKC' 'MKTX' 'MLM'\n",
      " 'MMC' 'MMM' 'MNST' 'MO' 'MOH' 'MOS' 'MPC' 'MPWR' 'MRK' 'MRNA' 'MRO' 'MS'\n",
      " 'MSCI' 'MSFT' 'MSI' 'MTB' 'MTCH' 'MTD' 'MU' 'NCLH' 'NDAQ' 'NDSN' 'NEE'\n",
      " 'NEM' 'NFLX' 'NI' 'NKE' 'NLOK' 'NOC' 'NOW' 'NRG' 'NSC' 'NTAP' 'NTRS'\n",
      " 'NUE' 'NVDA' 'NVR' 'NWL' 'NWS' 'NWSA' 'NXPI' 'O' 'ODFL' 'OGN' 'OKE' 'OMC'\n",
      " 'ON' 'ORCL' 'ORLY' 'OTIS' 'OXY' 'PARA' 'PAYC' 'PAYX' 'PCAR' 'PCG' 'PEAK'\n",
      " 'PEG' 'PEP' 'PFE' 'PFG' 'PG' 'PGR' 'PH' 'PHM' 'PKG' 'PKI' 'PLD' 'PM'\n",
      " 'PNC' 'PNR' 'PNW' 'POOL' 'PPG' 'PPL' 'PRU' 'PSA' 'PSX' 'PTC' 'PWR' 'PXD'\n",
      " 'PYPL' 'QCOM' 'QRVO' 'RCL' 'RE' 'REG' 'REGN' 'RF' 'RHI' 'RJF' 'RL' 'RMD'\n",
      " 'ROK' 'ROL' 'ROP' 'ROST' 'RSG' 'RTX' 'SBAC' 'SBNY' 'SBUX' 'SCHW' 'SEDG'\n",
      " 'SEE' 'SHW' 'SIVB' 'SJM' 'SLB' 'SNA' 'SNPS' 'SO' 'SPG' 'SPGI' 'SRE' 'STE'\n",
      " 'STT' 'STX' 'STZ' 'SWK' 'SWKS' 'SYF' 'SYK' 'SYY' 'T' 'TAP' 'TDG' 'TDY'\n",
      " 'TECH' 'TEL' 'TER' 'TFC' 'TFX' 'TGT' 'TJX' 'TMO' 'TMUS' 'TPR' 'TRGP'\n",
      " 'TRMB' 'TROW' 'TRV' 'TSCO' 'TSLA' 'TSN' 'TT' 'TTWO' 'TWTR' 'TXN' 'TXT'\n",
      " 'TYL' 'UAL' 'UDR' 'UHS' 'ULTA' 'UNH' 'UNP' 'UPS' 'URI' 'USB' 'V' 'VFC'\n",
      " 'VICI' 'VLO' 'VMC' 'VNO' 'VRSK' 'VRSN' 'VRTX' 'VTR' 'VTRS' 'VZ' 'WAB'\n",
      " 'WAT' 'WBA' 'WBD' 'WDC' 'WEC' 'WELL' 'WFC' 'WHR' 'WM' 'WMB' 'WMT' 'WRB'\n",
      " 'WRK' 'WST' 'WTW' 'WY' 'WYNN' 'XEL' 'XOM' 'XRAY' 'XYL' 'YUM' 'ZBH' 'ZBRA'\n",
      " 'ZION' 'ZTS']\n",
      "['Healthcare' 'Industrials' 'Consumer Cyclical' 'Technology' 'Healthcare'\n",
      " 'Healthcare' 'Healthcare' 'Healthcare' 'Technology' 'Technology'\n",
      " 'Technology' 'Consumer Defensive' 'Industrials' 'Technology' 'Utilities'\n",
      " 'Utilities' 'Utilities' 'Financial Services' 'Financial Services'\n",
      " 'Financial Services' 'Financial Services' 'Technology' 'Basic Materials'\n",
      " 'Healthcare' 'Industrials' 'Financial Services' 'Industrials'\n",
      " 'Technology' 'Consumer Cyclical' 'Technology' 'Industrials' 'Healthcare'\n",
      " 'Financial Services' 'Real Estate' 'Consumer Cyclical' 'Technology'\n",
      " 'Technology' 'Financial Services' 'Industrials' 'Energy'\n",
      " 'Basic Materials' 'Technology' 'Consumer Cyclical' 'Real Estate'\n",
      " 'Utilities' 'Communication Services' 'Real Estate' 'Technology'\n",
      " 'Industrials' 'Utilities' 'Financial Services' 'Consumer Cyclical'\n",
      " 'Industrials' 'Financial Services' 'Consumer Cyclical' 'Healthcare'\n",
      " 'Consumer Cyclical' 'Consumer Cyclical' 'Healthcare' 'Financial Services'\n",
      " 'Consumer Defensive' 'Healthcare' 'Healthcare' 'Financial Services'\n",
      " 'Consumer Cyclical' 'Energy' 'Financial Services' 'Healthcare'\n",
      " 'Technology' 'Financial Services' 'Financial Services' 'Healthcare'\n",
      " 'Consumer Cyclical' 'Real Estate' 'Financial Services'\n",
      " 'Consumer Defensive' 'Healthcare' 'Industrials' 'Industrials'\n",
      " 'Financial Services' 'Financial Services' 'Real Estate' 'Real Estate'\n",
      " 'Consumer Cyclical' 'Technology' 'Technology' 'Technology'\n",
      " 'Basic Materials' 'Utilities' 'Basic Materials' 'Financial Services'\n",
      " 'Consumer Defensive' 'Industrials' 'Communication Services' 'Healthcare'\n",
      " 'Financial Services' 'Consumer Defensive' 'Consumer Defensive'\n",
      " 'Financial Services' 'Communication Services' 'Financial Services'\n",
      " 'Consumer Cyclical' 'Industrials' 'Utilities' 'Healthcare' 'Utilities'\n",
      " 'Financial Services' 'Healthcare' 'Energy' 'Consumer Defensive'\n",
      " 'Consumer Defensive' 'Consumer Cyclical' 'Real Estate' 'Healthcare'\n",
      " 'Technology' 'Technology' 'Real Estate' 'Industrials' 'Industrials'\n",
      " 'Healthcare' 'Energy' 'Technology' 'Basic Materials' 'Healthcare'\n",
      " 'Energy' 'Consumer Cyclical' 'Utilities' 'Industrials' 'Basic Materials'\n",
      " 'Industrials' 'Financial Services' 'Consumer Defensive' 'Healthcare'\n",
      " 'Consumer Cyclical' 'Healthcare' 'Communication Services'\n",
      " 'Communication Services' 'Real Estate' 'Consumer Defensive' 'Industrials'\n",
      " 'Basic Materials' 'Consumer Cyclical' 'Consumer Cyclical' 'Utilities'\n",
      " 'Utilities' 'Healthcare' 'Energy' 'Technology' 'Healthcare'\n",
      " 'Communication Services' 'Consumer Cyclical' 'Basic Materials'\n",
      " 'Utilities' 'Industrials' 'Utilities' 'Consumer Defensive' 'Healthcare'\n",
      " 'Basic Materials' 'Industrials' 'Technology' 'Energy' 'Technology'\n",
      " 'Real Estate' 'Real Estate' 'Energy' 'Utilities' 'Real Estate'\n",
      " 'Industrials' 'Utilities' 'Consumer Cyclical' 'Utilities' 'Healthcare'\n",
      " 'Utilities' 'Industrials' 'Consumer Cyclical' 'Real Estate'\n",
      " 'Consumer Cyclical' 'Energy' 'Industrials' 'Industrials'\n",
      " 'Basic Materials' 'Financial Services' 'Industrials' 'Utilities'\n",
      " 'Technology' 'Technology' 'Technology' 'Financial Services' 'Technology'\n",
      " 'Basic Materials' 'Communication Services' 'Communication Services'\n",
      " 'Financial Services' 'Real Estate' 'Technology' 'Technology'\n",
      " 'Industrials' 'Industrials' 'Healthcare' 'Consumer Defensive'\n",
      " 'Financial Services' 'Technology' 'Consumer Cyclical' 'Industrials'\n",
      " 'Communication Services' 'Communication Services' 'Consumer Cyclical'\n",
      " 'Industrials' 'Technology' 'Financial Services' 'Industrials' 'Energy'\n",
      " 'Consumer Cyclical' 'Financial Services' 'Healthcare' 'Consumer Cyclical'\n",
      " 'Energy' 'Financial Services' 'Industrials' 'Consumer Cyclical'\n",
      " 'Healthcare' 'Industrials' 'Technology' 'Technology' 'Consumer Defensive'\n",
      " 'Healthcare' 'Real Estate' 'Consumer Defensive' 'Healthcare'\n",
      " 'Industrials' 'Technology' 'Financial Services' 'Healthcare'\n",
      " 'Industrials' 'Basic Materials' 'Healthcare' 'Healthcare' 'Technology'\n",
      " 'Technology' 'Real Estate' 'Consumer Cyclical' 'Communication Services'\n",
      " 'Healthcare' 'Industrials' 'Real Estate' 'Healthcare' 'Technology'\n",
      " 'Industrials' 'Financial Services' 'Industrials' 'Industrials'\n",
      " 'Industrials' 'Technology' 'Healthcare' 'Technology' 'Financial Services'\n",
      " 'Consumer Defensive' 'Consumer Defensive' 'Financial Services'\n",
      " 'Technology' 'Consumer Defensive' 'Real Estate' 'Technology'\n",
      " 'Consumer Defensive' 'Energy' 'Consumer Cyclical' 'Consumer Defensive'\n",
      " 'Consumer Defensive' 'Financial Services' 'Technology'\n",
      " 'Consumer Cyclical' 'Healthcare' 'Industrials' 'Basic Materials'\n",
      " 'Consumer Cyclical' 'Healthcare' 'Industrials' 'Financial Services'\n",
      " 'Utilities' 'Consumer Cyclical' 'Technology' 'Communication Services'\n",
      " 'Industrials' 'Consumer Cyclical' 'Consumer Defensive' 'Basic Materials'\n",
      " 'Communication Services' 'Financial Services' 'Real Estate'\n",
      " 'Consumer Cyclical' 'Industrials' 'Consumer Cyclical' 'Technology'\n",
      " 'Healthcare' 'Financial Services' 'Consumer Defensive' 'Healthcare'\n",
      " 'Financial Services' 'Communication Services' 'Consumer Cyclical'\n",
      " 'Consumer Cyclical' 'Consumer Defensive' 'Financial Services'\n",
      " 'Basic Materials' 'Financial Services' 'Industrials' 'Consumer Defensive'\n",
      " 'Consumer Defensive' 'Healthcare' 'Basic Materials' 'Energy' 'Technology'\n",
      " 'Healthcare' 'Healthcare' 'Energy' 'Financial Services'\n",
      " 'Financial Services' 'Technology' 'Technology' 'Financial Services'\n",
      " 'Communication Services' 'Healthcare' 'Technology' 'Consumer Cyclical'\n",
      " 'Financial Services' 'Industrials' 'Utilities' 'Basic Materials'\n",
      " 'Communication Services' 'Utilities' 'Consumer Cyclical' 'Technology'\n",
      " 'Industrials' 'Technology' 'Utilities' 'Industrials' 'Technology'\n",
      " 'Financial Services' 'Basic Materials' 'Technology' 'Consumer Cyclical'\n",
      " 'Consumer Defensive' 'Communication Services' 'Communication Services'\n",
      " 'Technology' 'Real Estate' 'Industrials' 'Healthcare' 'Energy'\n",
      " 'Communication Services' 'Technology' 'Technology' 'Consumer Cyclical'\n",
      " 'Industrials' 'Energy' 'Communication Services' 'Technology'\n",
      " 'Industrials' 'Industrials' 'Utilities' 'Real Estate' 'Utilities'\n",
      " 'Consumer Defensive' 'Healthcare' 'Financial Services'\n",
      " 'Consumer Defensive' 'Financial Services' 'Industrials'\n",
      " 'Consumer Cyclical' 'Consumer Cyclical' 'Healthcare' 'Real Estate'\n",
      " 'Consumer Defensive' 'Financial Services' 'Industrials' 'Utilities'\n",
      " 'Industrials' 'Basic Materials' 'Utilities' 'Financial Services'\n",
      " 'Real Estate' 'Energy' 'Technology' 'Industrials' 'Energy'\n",
      " 'Financial Services' 'Technology' 'Technology' 'Consumer Cyclical'\n",
      " 'Financial Services' 'Real Estate' 'Healthcare' 'Financial Services'\n",
      " 'Industrials' 'Financial Services' 'Consumer Cyclical' 'Healthcare'\n",
      " 'Industrials' 'Consumer Cyclical' 'Industrials' 'Consumer Cyclical'\n",
      " 'Industrials' 'Industrials' 'Real Estate' 'Financial Services'\n",
      " 'Consumer Cyclical' 'Financial Services' 'Technology' 'Consumer Cyclical'\n",
      " 'Basic Materials' 'Financial Services' 'Consumer Defensive' 'Energy'\n",
      " 'Industrials' 'Technology' 'Utilities' 'Real Estate' 'Financial Services'\n",
      " 'Utilities' 'Healthcare' 'Financial Services' 'Technology'\n",
      " 'Consumer Defensive' 'Industrials' 'Technology' 'Financial Services'\n",
      " 'Healthcare' 'Consumer Defensive' 'Communication Services'\n",
      " 'Consumer Defensive' 'Industrials' 'Technology' 'Healthcare' 'Technology'\n",
      " 'Technology' 'Financial Services' 'Healthcare' 'Consumer Defensive'\n",
      " 'Consumer Cyclical' 'Healthcare' 'Communication Services'\n",
      " 'Consumer Cyclical' 'Energy' 'Technology' 'Financial Services'\n",
      " 'Financial Services' 'Consumer Cyclical' 'Consumer Cyclical'\n",
      " 'Consumer Defensive' 'Industrials' 'Communication Services'\n",
      " 'Communication Services' 'Technology' 'Industrials' 'Technology'\n",
      " 'Industrials' 'Real Estate' 'Healthcare' 'Consumer Cyclical' 'Healthcare'\n",
      " 'Industrials' 'Industrials' 'Industrials' 'Financial Services'\n",
      " 'Financial Services' 'Consumer Cyclical' 'Real Estate' 'Energy'\n",
      " 'Basic Materials' 'Real Estate' 'Industrials' 'Technology' 'Healthcare'\n",
      " 'Real Estate' 'Healthcare' 'Communication Services' 'Industrials'\n",
      " 'Healthcare' 'Healthcare' 'Communication Services' 'Technology'\n",
      " 'Utilities' 'Real Estate' 'Financial Services' 'Consumer Cyclical'\n",
      " 'Industrials' 'Energy' 'Consumer Defensive' 'Financial Services'\n",
      " 'Consumer Cyclical' 'Healthcare' 'Financial Services' 'Real Estate'\n",
      " 'Consumer Cyclical' 'Utilities' 'Energy' 'Healthcare' 'Industrials'\n",
      " 'Consumer Cyclical' 'Healthcare' 'Technology' 'Financial Services'\n",
      " 'Healthcare']\n",
      "['Diagnostics & Research' 'Airlines' 'Specialty Retail'\n",
      " 'Consumer Electronics' 'Drug Manufacturers—General'\n",
      " 'Medical Distribution' 'Medical Devices' 'Medical Devices'\n",
      " 'Information Technology Services' 'Software—Infrastructure'\n",
      " 'Semiconductors' 'Farm Products' 'Staffing & Employment Services'\n",
      " 'Software—Application' 'Utilities—Regulated Electric'\n",
      " 'Utilities—Regulated Electric' 'Utilities—Diversified' 'Insurance—Life'\n",
      " 'Insurance—Diversified' 'Insurance—Specialty' 'Insurance Brokers'\n",
      " 'Software—Infrastructure' 'Specialty Chemicals' 'Medical Devices'\n",
      " 'Airlines' 'Insurance—Property & Casualty'\n",
      " 'Security & Protection Services' 'Semiconductor Equipment & Materials'\n",
      " 'Packaging & Containers' 'Semiconductors'\n",
      " 'Specialty Industrial Machinery' 'Drug Manufacturers—General'\n",
      " 'Asset Management' 'REIT—Specialty' 'Internet Retail' 'Computer Hardware'\n",
      " 'Software—Application' 'Insurance Brokers'\n",
      " 'Specialty Industrial Machinery' 'Oil & Gas E&P' 'Specialty Chemicals'\n",
      " 'Electronic Components' 'Auto Parts' 'REIT—Office'\n",
      " 'Utilities—Regulated Gas' 'Electronic Gaming & Multimedia'\n",
      " 'REIT—Residential' 'Semiconductors' 'Business Equipment & Supplies'\n",
      " 'Utilities—Regulated Water' 'Credit Services' 'Specialty Retail'\n",
      " 'Aerospace & Defense' 'Banks—Diversified' 'Packaging & Containers'\n",
      " 'Medical Instruments & Supplies' 'Specialty Retail' 'Specialty Retail'\n",
      " 'Medical Instruments & Supplies' 'Asset Management'\n",
      " 'Beverages—Wineries & Distilleries' 'Drug Manufacturers—General'\n",
      " 'Medical Devices' 'Asset Management' 'Travel Services'\n",
      " 'Oil & Gas Equipment & Services' 'Asset Management'\n",
      " 'Drug Manufacturers—General' 'Information Technology Services'\n",
      " 'Insurance—Diversified' 'Insurance Brokers' 'Medical Devices'\n",
      " 'Auto Parts' 'REIT—Office' 'Banks—Diversified' 'Packaged Foods'\n",
      " 'Medical Distribution' 'Building Products & Equipment'\n",
      " 'Farm & Heavy Construction Machinery' 'Insurance—Property & Casualty'\n",
      " 'Financial Data & Stock Exchanges' 'Real Estate Services'\n",
      " 'REIT—Specialty' 'Travel Services' 'Software—Application'\n",
      " 'Software—Application' 'Information Technology Services' 'Chemicals'\n",
      " 'Utilities—Renewable' 'Agricultural Inputs' 'Banks—Regional'\n",
      " 'Household & Personal Products' 'Integrated Freight & Logistics'\n",
      " 'Telecom Services' 'Healthcare Plans' 'Insurance—Property & Casualty'\n",
      " 'Household & Personal Products' 'Household & Personal Products'\n",
      " 'Banks—Regional' 'Telecom Services' 'Financial Data & Stock Exchanges'\n",
      " 'Restaurants' 'Specialty Industrial Machinery'\n",
      " 'Utilities—Regulated Electric' 'Healthcare Plans'\n",
      " 'Utilities—Regulated Electric' 'Credit Services'\n",
      " 'Medical Instruments & Supplies' 'Oil & Gas E&P' 'Discount Stores'\n",
      " 'Packaged Foods' 'Auto & Truck Dealerships' 'REIT—Residential'\n",
      " 'Diagnostics & Research' 'Software—Application' 'Communication Equipment'\n",
      " 'Real Estate Services' 'Railroads' 'Specialty Business Services'\n",
      " 'Drug Manufacturers—Specialty & Generic' 'Oil & Gas E&P'\n",
      " 'Information Technology Services' 'Agricultural Inputs'\n",
      " 'Healthcare Plans' 'Oil & Gas Integrated' 'Resorts & Casinos'\n",
      " 'Utilities—Regulated Electric' 'Airlines' 'Specialty Chemicals'\n",
      " 'Farm & Heavy Construction Machinery' 'Credit Services' 'Discount Stores'\n",
      " 'Diagnostics & Research' 'Residential Construction'\n",
      " 'Diagnostics & Research' 'Entertainment' 'Telecom Services'\n",
      " 'REIT—Specialty' 'Discount Stores' 'Specialty Industrial Machinery'\n",
      " 'Chemicals' 'Restaurants' 'Restaurants' 'Utilities—Regulated Electric'\n",
      " 'Utilities—Regulated Electric' 'Medical Care Facilities' 'Oil & Gas E&P'\n",
      " 'Information Technology Services' 'Medical Devices'\n",
      " 'Electronic Gaming & Multimedia' 'Internet Retail' 'Specialty Chemicals'\n",
      " 'Utilities—Regulated Electric' 'Consulting Services'\n",
      " 'Utilities—Regulated Electric' 'Household & Personal Products'\n",
      " 'Healthcare Plans' 'Specialty Chemicals' 'Specialty Industrial Machinery'\n",
      " 'Solar' 'Oil & Gas E&P' 'Information Technology Services'\n",
      " 'REIT—Specialty' 'REIT—Residential' 'Oil & Gas E&P'\n",
      " 'Utilities—Regulated Electric' 'REIT—Residential'\n",
      " 'Specialty Industrial Machinery' 'Utilities—Regulated Electric'\n",
      " 'Internet Retail' 'Utilities—Regulated Electric' 'Medical Devices'\n",
      " 'Utilities—Regulated Electric' 'Integrated Freight & Logistics'\n",
      " 'Travel Services' 'REIT—Industrial' 'Auto Manufacturers' 'Oil & Gas E&P'\n",
      " 'Industrial Distribution' 'Building Products & Equipment' 'Copper'\n",
      " 'Financial Data & Stock Exchanges' 'Integrated Freight & Logistics'\n",
      " 'Utilities—Regulated Electric' 'Software—Infrastructure'\n",
      " 'Information Technology Services' 'Information Technology Services'\n",
      " 'Banks—Regional' 'Software—Infrastructure' 'Agricultural Inputs'\n",
      " 'Entertainment' 'Entertainment' 'Banks—Regional' 'REIT—Retail'\n",
      " 'Software—Infrastructure' 'Scientific & Technical Instruments'\n",
      " 'Aerospace & Defense' 'Specialty Industrial Machinery'\n",
      " 'Drug Manufacturers—General' 'Packaged Foods' 'Insurance—Life'\n",
      " 'Electronic Components' 'Auto Manufacturers'\n",
      " 'Specialty Industrial Machinery' 'Internet Content & Information'\n",
      " 'Internet Content & Information' 'Specialty Retail'\n",
      " 'Specialty Business Services' 'Scientific & Technical Instruments'\n",
      " 'Capital Markets' 'Industrial Distribution'\n",
      " 'Oil & Gas Equipment & Services' 'Leisure' 'Banks—Regional'\n",
      " 'Medical Care Facilities' 'Home Improvement Retail' 'Oil & Gas E&P'\n",
      " 'Insurance—Diversified' 'Aerospace & Defense' 'Lodging'\n",
      " 'Medical Instruments & Supplies' 'Conglomerates'\n",
      " 'Communication Equipment' 'Computer Hardware' 'Packaged Foods'\n",
      " 'Medical Distribution' 'REIT—Hotel & Motel' 'Confectioners'\n",
      " 'Healthcare Plans' 'Aerospace & Defense'\n",
      " 'Information Technology Services' 'Financial Data & Stock Exchanges'\n",
      " 'Diagnostics & Research' 'Specialty Industrial Machinery'\n",
      " 'Specialty Chemicals' 'Diagnostics & Research' 'Biotechnology'\n",
      " 'Semiconductors' 'Software—Application' 'REIT—Residential'\n",
      " 'Packaging & Containers' 'Advertising Agencies' 'Diagnostics & Research'\n",
      " 'Specialty Industrial Machinery' 'REIT—Specialty'\n",
      " 'Medical Instruments & Supplies' 'Information Technology Services'\n",
      " 'Specialty Industrial Machinery' 'Asset Management'\n",
      " 'Engineering & Construction' 'Integrated Freight & Logistics'\n",
      " 'Building Products & Equipment' 'Information Technology Services'\n",
      " 'Drug Manufacturers—General' 'Communication Equipment'\n",
      " 'Banks—Diversified' 'Packaged Foods' 'Beverages—Non-Alcoholic'\n",
      " 'Banks—Regional' 'Scientific & Technical Instruments' 'Packaged Foods'\n",
      " 'REIT—Retail' 'Semiconductor Equipment & Materials'\n",
      " 'Household & Personal Products' 'Oil & Gas Midstream'\n",
      " 'Auto & Truck Dealerships' 'Beverages—Non-Alcoholic' 'Grocery Stores'\n",
      " 'Insurance—Property & Casualty' 'Information Technology Services'\n",
      " 'Residential Construction' 'Diagnostics & Research' 'Aerospace & Defense'\n",
      " 'Specialty Chemicals' 'Auto Parts' 'Drug Manufacturers—General'\n",
      " 'Aerospace & Defense' 'Insurance—Life' 'Utilities—Regulated Electric'\n",
      " 'Home Improvement Retail' 'Semiconductor Equipment & Materials'\n",
      " 'Telecom Services' 'Airlines' 'Resorts & Casinos' 'Packaged Foods'\n",
      " 'Specialty Chemicals' 'Entertainment' 'Credit Services'\n",
      " 'REIT—Residential' 'Lodging' 'Building Products & Equipment'\n",
      " 'Restaurants' 'Semiconductors' 'Medical Distribution'\n",
      " 'Financial Data & Stock Exchanges' 'Confectioners' 'Medical Devices'\n",
      " 'Insurance—Life' 'Internet Content & Information' 'Resorts & Casinos'\n",
      " 'Furnishings, Fixtures & Appliances' 'Packaged Foods' 'Capital Markets'\n",
      " 'Building Materials' 'Insurance Brokers' 'Conglomerates'\n",
      " 'Beverages—Non-Alcoholic' 'Tobacco' 'Healthcare Plans'\n",
      " 'Agricultural Inputs' 'Oil & Gas Refining & Marketing' 'Semiconductors'\n",
      " 'Drug Manufacturers—General' 'Biotechnology' 'Oil & Gas E&P'\n",
      " 'Capital Markets' 'Financial Data & Stock Exchanges'\n",
      " 'Software—Infrastructure' 'Communication Equipment' 'Banks—Regional'\n",
      " 'Internet Content & Information' 'Diagnostics & Research'\n",
      " 'Semiconductors' 'Travel Services' 'Financial Data & Stock Exchanges'\n",
      " 'Specialty Industrial Machinery' 'Utilities—Regulated Electric' 'Gold'\n",
      " 'Entertainment' 'Utilities—Regulated Gas' 'Footwear & Accessories'\n",
      " 'Software—Infrastructure' 'Aerospace & Defense' 'Software—Application'\n",
      " 'Utilities—Independent Power Producers' 'Railroads' 'Computer Hardware'\n",
      " 'Asset Management' 'Steel' 'Semiconductors' 'Residential Construction'\n",
      " 'Household & Personal Products' 'Entertainment' 'Entertainment'\n",
      " 'Semiconductors' 'REIT—Retail' 'Trucking' 'Drug Manufacturers—General'\n",
      " 'Oil & Gas Midstream' 'Advertising Agencies' 'Semiconductors'\n",
      " 'Software—Infrastructure' 'Specialty Retail'\n",
      " 'Specialty Industrial Machinery' 'Oil & Gas E&P' 'Entertainment'\n",
      " 'Software—Application' 'Staffing & Employment Services'\n",
      " 'Farm & Heavy Construction Machinery' 'Utilities—Regulated Electric'\n",
      " 'REIT—Healthcare Facilities' 'Utilities—Regulated Electric'\n",
      " 'Beverages—Non-Alcoholic' 'Drug Manufacturers—General'\n",
      " 'Insurance—Diversified' 'Household & Personal Products'\n",
      " 'Insurance—Property & Casualty' 'Specialty Industrial Machinery'\n",
      " 'Residential Construction' 'Packaging & Containers'\n",
      " 'Diagnostics & Research' 'REIT—Industrial' 'Tobacco' 'Banks—Regional'\n",
      " 'Specialty Industrial Machinery' 'Utilities—Regulated Electric'\n",
      " 'Industrial Distribution' 'Specialty Chemicals'\n",
      " 'Utilities—Regulated Electric' 'Insurance—Life' 'REIT—Industrial'\n",
      " 'Oil & Gas Refining & Marketing' 'Software—Application'\n",
      " 'Engineering & Construction' 'Oil & Gas E&P' 'Credit Services'\n",
      " 'Semiconductors' 'Semiconductors' 'Travel Services'\n",
      " 'Insurance—Reinsurance' 'REIT—Retail' 'Biotechnology' 'Banks—Regional'\n",
      " 'Staffing & Employment Services' 'Capital Markets'\n",
      " 'Apparel Manufacturing' 'Medical Instruments & Supplies'\n",
      " 'Specialty Industrial Machinery' 'Personal Services'\n",
      " 'Specialty Industrial Machinery' 'Apparel Retail' 'Waste Management'\n",
      " 'Aerospace & Defense' 'REIT—Specialty' 'Banks—Regional' 'Restaurants'\n",
      " 'Capital Markets' 'Solar' 'Packaging & Containers' 'Specialty Chemicals'\n",
      " 'Banks—Regional' 'Packaged Foods' 'Oil & Gas Equipment & Services'\n",
      " 'Tools & Accessories' 'Software—Infrastructure'\n",
      " 'Utilities—Regulated Electric' 'REIT—Retail'\n",
      " 'Financial Data & Stock Exchanges' 'Utilities—Diversified'\n",
      " 'Medical Devices' 'Asset Management' 'Computer Hardware'\n",
      " 'Beverages—Wineries & Distilleries' 'Tools & Accessories'\n",
      " 'Semiconductors' 'Credit Services' 'Medical Devices' 'Food Distribution'\n",
      " 'Telecom Services' 'Beverages—Brewers' 'Aerospace & Defense'\n",
      " 'Scientific & Technical Instruments' 'Biotechnology'\n",
      " 'Electronic Components' 'Semiconductor Equipment & Materials'\n",
      " 'Banks—Regional' 'Medical Instruments & Supplies' 'Discount Stores'\n",
      " 'Apparel Retail' 'Diagnostics & Research' 'Telecom Services'\n",
      " 'Luxury Goods' 'Oil & Gas Midstream' 'Scientific & Technical Instruments'\n",
      " 'Asset Management' 'Insurance—Property & Casualty' 'Specialty Retail'\n",
      " 'Auto Manufacturers' 'Farm Products' 'Building Products & Equipment'\n",
      " 'Electronic Gaming & Multimedia' 'Internet Content & Information'\n",
      " 'Semiconductors' 'Aerospace & Defense' 'Software—Application' 'Airlines'\n",
      " 'REIT—Residential' 'Medical Care Facilities' 'Specialty Retail'\n",
      " 'Healthcare Plans' 'Railroads' 'Integrated Freight & Logistics'\n",
      " 'Rental & Leasing Services' 'Banks—Regional' 'Credit Services'\n",
      " 'Apparel Manufacturing' 'REIT—Diversified'\n",
      " 'Oil & Gas Refining & Marketing' 'Building Materials' 'REIT—Office'\n",
      " 'Consulting Services' 'Software—Infrastructure' 'Biotechnology'\n",
      " 'REIT—Healthcare Facilities' 'Drug Manufacturers—Specialty & Generic'\n",
      " 'Telecom Services' 'Railroads' 'Diagnostics & Research'\n",
      " 'Pharmaceutical Retailers' 'Entertainment' 'Computer Hardware'\n",
      " 'Utilities—Regulated Electric' 'REIT—Healthcare Facilities'\n",
      " 'Banks—Diversified' 'Furnishings, Fixtures & Appliances'\n",
      " 'Waste Management' 'Oil & Gas Midstream' 'Discount Stores'\n",
      " 'Insurance—Property & Casualty' 'Packaging & Containers'\n",
      " 'Medical Instruments & Supplies' 'Insurance Brokers' 'REIT—Specialty'\n",
      " 'Resorts & Casinos' 'Utilities—Regulated Electric' 'Oil & Gas Integrated'\n",
      " 'Medical Instruments & Supplies' 'Specialty Industrial Machinery'\n",
      " 'Restaurants' 'Medical Devices' 'Communication Equipment'\n",
      " 'Banks—Regional' 'Drug Manufacturers—Specialty & Generic']\n"
     ]
    }
   ],
   "source": [
    "print(SP500_tickers)\n",
    "print(SP500_sectors)\n",
    "print(SP500_industries)"
   ]
  },
  {
   "cell_type": "code",
   "execution_count": 20,
   "id": "f8575f2f",
   "metadata": {},
   "outputs": [
    {
     "name": "stdout",
     "output_type": "stream",
     "text": [
      "503\n",
      "503\n",
      "503\n"
     ]
    }
   ],
   "source": [
    "print(len(SP500_tickers))\n",
    "print(len(SP500_sectors))\n",
    "print(len(SP500_industries))"
   ]
  },
  {
   "cell_type": "code",
   "execution_count": 21,
   "id": "4b3ad162",
   "metadata": {},
   "outputs": [],
   "source": [
    "a=get_all_tickers_sector('Basic Materials').tolist()\n"
   ]
  },
  {
   "cell_type": "code",
   "execution_count": 22,
   "outputs": [
    {
     "name": "stdout",
     "output_type": "stream",
     "text": [
      "['ALB', 'APD', 'CE', 'CF', 'CTVA', 'DD', 'DOW', 'ECL', 'EMN', 'FCX', 'FMC', 'IFF', 'LIN', 'LYB', 'MLM', 'MOS', 'NEM', 'NUE', 'PPG', 'SHW', 'VMC']\n"
     ]
    }
   ],
   "source": [
    "print(a)"
   ],
   "metadata": {
    "collapsed": false
   }
  },
  {
   "cell_type": "code",
   "execution_count": 23,
   "id": "d5a6d883",
   "metadata": {},
   "outputs": [],
   "source": [
    "test=si.get_data(\"aapl\")"
   ]
  },
  {
   "cell_type": "code",
   "execution_count": 24,
   "id": "a602dcb0",
   "metadata": {},
   "outputs": [
    {
     "data": {
      "text/plain": "'\\nsi.get_company_officers(\"aapl\")\\n'"
     },
     "execution_count": 24,
     "metadata": {},
     "output_type": "execute_result"
    }
   ],
   "source": [
    "'''\n",
    "si.get_company_officers(\"aapl\")\n",
    "'''"
   ]
  },
  {
   "cell_type": "code",
   "execution_count": 24,
   "id": "7f9e2733",
   "metadata": {},
   "outputs": [],
   "source": []
  },
  {
   "cell_type": "code",
   "execution_count": 24,
   "id": "7c0c185c",
   "metadata": {},
   "outputs": [],
   "source": []
  },
  {
   "cell_type": "code",
   "execution_count": 25,
   "id": "a597010e",
   "metadata": {},
   "outputs": [
    {
     "data": {
      "text/plain": "array([['ADM'],\n       ['TSN']], dtype='<U38')"
     },
     "execution_count": 25,
     "metadata": {},
     "output_type": "execute_result"
    }
   ],
   "source": [
    "get_all_tickers_industry('Farm Products')"
   ]
  },
  {
   "cell_type": "code",
   "execution_count": 5,
   "id": "a70bba97",
   "metadata": {},
   "outputs": [],
   "source": [
    "years=5\n",
    "days=years*360\n",
    "nb_predict_days=30\n",
    "lags=30\n",
    "\n"
   ]
  },
  {
   "cell_type": "code",
   "execution_count": 27,
   "id": "3a344d5b",
   "metadata": {},
   "outputs": [],
   "source": [
    "filename_json=read_config_file()[5]\n",
    "yesterday, start_date, train_date_start, train_date_last, test_date_start, test_date_last,days=initialize_data(days,lags,nb_predict_days)\n",
    "\n"
   ]
  },
  {
   "cell_type": "code",
   "execution_count": 28,
   "id": "640f3dee",
   "metadata": {},
   "outputs": [],
   "source": [
    "SP500_list=read_list(filename_json)\n",
    "SP500_list = np.array(SP500_list,dtype=object)\n",
    "unique_SP500_sectors=np.unique(SP500_list[:,1])\n",
    "unique_SP500_tickers=np.unique(SP500_list[:,0])"
   ]
  },
  {
   "cell_type": "code",
   "execution_count": 121,
   "id": "3353f788",
   "metadata": {},
   "outputs": [],
   "source": [
    "def generate_results(ticker,sector,Predictions):\n",
    "    DF_Recommendations = []\n",
    "    #blc_accuracy=[0]  # render for view html need a first element to be 0\n",
    "    #blc_accuracy.append(round(balanced_accuracy(ticker, Predictions.iloc[:-1]),3))\n",
    "    DF_Recommendations.append([ticker, \"\", \"\", \"\", balanced_accuracy(ticker, Predictions.iloc[:-1]),\"\"])\n",
    "    Recommendations = pd.DataFrame(DF_Recommendations, columns=[\"Ticker\", 'Predicted for', 'Predicted', \"Recommended\", \"Accuracy\",\"Return%\"])\n",
    "\n",
    "\n",
    "\n",
    "    #avg_return = [0]  # render for view html need a first element to be 0\n",
    "    # results = Predictions[['y_test', 'y_pred', 'ticker', 'y_predb','y_recommend']][Predictions['ticker'] == ticker]\n",
    "    results = Predictions[['y_test', 'y_pred', 'ticker', 'y_predb', 'y_recommend', 'daily return %']][Predictions['ticker'] == ticker]\n",
    "    # results['y_test'].iloc[-1]=np.nan  # pas la bonne methode\n",
    "    results.loc[results.index[-1], 'y_test'] = np.nan\n",
    "    results['daily return %'].iloc[-1] = np.nan  # pas la bonne methode\n",
    "    results.loc[results.index[-1], 'daily return %'] = np.nan\n",
    "    date_predict = YF_datetime() #can be confusing but yesterday is datetime.now. good thing is to take latest in results +1\n",
    "    date_predict = date_predict.strftime(\"%Y/%m/%d\")\n",
    "    ticker_predicted = results.iloc[-1]['y_pred']  # this is the last row containing result\n",
    "    ticker_recommend = results.iloc[-1]['y_recommend']  # this is the last row containing result\n",
    "    Recommendations.loc[Recommendations['Ticker'] == ticker, 'Predicted for'] = date_predict  # to change content of a cell\n",
    "    Recommendations.loc[Recommendations['Ticker'] == ticker, 'Predicted'] = ticker_predicted\n",
    "    Recommendations.loc[Recommendations['Ticker'] == ticker, 'Recommended'] = ticker_recommend\n",
    "    Predictions.loc[(Predictions['Date'] == date_predict) & (Predictions['ticker'] == ticker), 'y_test'] = np.nan\n",
    "    Predictions.loc[(Predictions['Date'] == date_predict) & (Predictions['ticker'] == ticker), 'daily return %'] = np.nan\n",
    "\n",
    "    ticker_return = round(Predictions['daily return %'][Predictions['ticker'] == ticker].iloc[:-1].mean(), 2)\n",
    "    Recommendations.loc[Recommendations['Ticker'] == ticker, 'Return%'] = ticker_return\n",
    "\n",
    "    #avg_return.append(ticker_return) # we are creating a list of the return\n",
    "    # print(f\"Prediction for {yesterday+timedelta(1)} -- ticker: {ticker} {'**resultat**'}\\n {resultat.tail()}\\n\\n\")\n",
    "\n",
    "\n",
    "    Results = Predictions[['ticker', 'Date', 'y_test', 'Predicted for', 'y_pred', 'y_recommend', 'daily return %']]\n",
    "    Results = Results.rename(\n",
    "        columns={'ticker': 'Ticker', 'y_test': 'Observed', 'y_pred': 'Predicted', 'y_recommend': 'Recommended',\n",
    "                 'daily return %': 'Return %'})\n",
    "\n",
    "    Results['Sector']=sector\n",
    "    Results['Model']=MODEL\n",
    "\n",
    "    #below is not uses for this module but might be useful\n",
    "    #date_range = [0]\n",
    "    #date_range.append(Results.iloc[0]['Date'].strftime(\"%Y/%m/%d\"))\n",
    "    #date_range.append(Results.iloc[-2]['Date'].strftime(\"%Y/%m/%d\"))\n",
    "\n",
    "    return Results\n"
   ]
  },
  {
   "cell_type": "code",
   "execution_count": 122,
   "id": "66e986a3",
   "metadata": {},
   "outputs": [],
   "source": [
    "# import the regressors\n",
    "version, additional_data, regressor, MODEL,bucket,filename_json=read_config_file()\n",
    "\n",
    "\n",
    "if MODEL == 'DecisionTree()':\n",
    "    from sklearn.tree import DecisionTreeRegressor\n",
    "    MODEL = DecisionTreeRegressor()\n",
    "elif MODEL == 'LinearRegression()':\n",
    "    from sklearn.linear_model import LinearRegression\n",
    "    MODEL = LinearRegression()\n",
    "elif MODEL == 'svm.SVR()':\n",
    "    from sklearn import svm\n",
    "    MODEL = svm.SVR()\n",
    "elif MODEL == \"DecisionTree(max_depth=5)\":\n",
    "    from sklearn.tree import DecisionTreeRegressor\n",
    "    MODEL = DecisionTreeRegressor(max_depth=5)\n",
    "elif MODEL == \"Ridge(alpha=1.0)\":\n",
    "    from sklearn.linear_model import Ridge\n",
    "    MODEL = Ridge(alpha=1.0)\n",
    "elif MODEL == \"Lasso(alpha=1.0)\":\n",
    "    from sklearn.linear_model import Lasso\n",
    "    MODEL = Lasso(alpha=1.0)\n",
    "elif MODEL == \"xgboost\":\n",
    "    import xgboost as xgb\n",
    "    MODEL = xgb.XGBClassifier()\n",
    "elif MODEL == \"RandomForestRegressor(n_estimators=100)\":\n",
    "    from sklearn.ensemble import RandomForestRegressor\n",
    "    MODEL = RandomForestRegressor(n_estimators=100)\n",
    "else:\n",
    "    # MODEL=='LinearRegression'\n",
    "    from sklearn.linear_model import LinearRegression\n",
    "    MODEL = LinearRegression()\n",
    "\n",
    "\n",
    "\n",
    "\n"
   ]
  },
  {
   "cell_type": "code",
   "execution_count": null,
   "id": "72c6e962",
   "metadata": {},
   "outputs": [],
   "source": [
    "\n",
    "logger=instantiate_logging()\n",
    "predictions = pd.DataFrame()  # to store predictionsdfpredictions = pd.DataFrame()  # to store predictions\n",
    "Results=pd.DataFrame()\n",
    "for sector in unique_SP500_sectors:\n",
    "\n",
    "    ticker_list_for_models=get_all_tickers_sector(sector).tolist()\n",
    "\n",
    "\n",
    "    additional_data = read_config_file()[1]\n",
    "    tickers_in_sector_extended = np.concatenate((ticker_list_for_models, additional_data), axis=None)\n",
    "    tickers_in_sector_extended = tickers_in_sector_extended.tolist()\n",
    "\n",
    "        ### validation if we have everything\n",
    "    logger.log_text(f\"Function Model_train_Save|  Input ->Sector {sector}\")\n",
    "    logger.log_text(f\"Function Model_train_Save|  Input ->ticker list {ticker_list_for_models}\")\n",
    "    logger.log_text(f\"Function Model_train_Save|  Input ->ticker list extended {tickers_in_sector_extended\")\n",
    "    logger.log_text(f\"Function Model_train_Save|  Input ->years {years}\")\n",
    "    logger.log_text(f\"Function Model_train_Save|  Input->lags {lags}\")\n",
    "    logger.log_text(f\"Function Model_train_Save|  Input ->predict days {nb_predict_days}\")\n",
    "    logger.log_text(f\"Function Model_train_Save|  Period->yesterday {yesterday}\")\n",
    "    logger.log_text(f\"Function Model_train_Save|  Period->train_date_start {train_date_start}\")\n",
    "    logger.log_text(f\"Function Model_train_Save|  Period->train_date_last {train_date_last}\")\n",
    "    logger.log_text(f\"Function Model_train_Save|  Period->test_date_start {test_date_start}\")\n",
    "    logger.log_text(f\"Function Model_train_Save|  Period->test_date_last {test_date_last}\")\n",
    "\n",
    "    logger.log_text(f\"Function Model_train_Save| Tickers for our model {ticker_list_for_models}\")\n",
    "    logger.log_text(f\"Function Model_train_Save| Additional data  we add to the tickers for the model {additional_data}\")\n",
    "\n",
    "    Logger.log_text(f\"Function Model_train_Save| Model VALIDATE - This is the number of training days of the train dataset {days}\")\n",
    "\n",
    "\n",
    "\n",
    "\n",
    "\n",
    "\n",
    "\n",
    "    matrix_features_sector = get_yf_dataframe(tickers_in_sector_extended, days)\n",
    "    matrix_features_sector = matrix_features_sector.reindex(sorted(matrix_features_sector.columns), axis=1)\n",
    "\n",
    "\n",
    "    for ticker in ticker_list_for_models:\n",
    "\n",
    "\n",
    "\n",
    "        X_train, y_train, X_test, y_test, df_filtered = create_train_test_set(ticker, matrix_features_sector, lags, additional_data, days, nb_predict_days)\n",
    "        print(MODEL)\n",
    "        print(ticker)\n",
    "        MODEL.fit(X_train, y_train)\n",
    "        # save the model to disk\n",
    "        #filename = ticker + '_modelnew.sav'\n",
    "        #joblib.dump(MODEL, filename)\n",
    "        #upload_file_to_bucket(filename)\n",
    "        \n",
    "        X_test, y_test, df_filtered = create_predict_set(ticker, matrix_features_sector, lags, nb_predict_days,additional_data)\n",
    "        \n",
    "        temp_pred = model_predict(MODEL, ticker, X_test, y_test)\n",
    "\n",
    "\n",
    "        # ===\n",
    "        temp_pred.drop(labels=[0], inplace=True)\n",
    "\n",
    "\n",
    "        from datetime import timedelta\n",
    "\n",
    "        df_filtered2 = pd.DataFrame(df_filtered[ticker])\n",
    "\n",
    "        df_filtered2 = df_filtered2.reset_index()\n",
    "\n",
    "        # Deleted 1 row in df_filtered2\n",
    "        df_filtered2.drop(labels=[0], inplace=True)\n",
    "\n",
    "        # Renamed columns Date\n",
    "        df_filtered2.rename(columns={'index': 'Date'}, inplace=True)\n",
    "\n",
    "        df_filtered2['Predicted for'] = df_filtered2['Date']\n",
    "        # df_filtered2['Prediction for']=df_filtered2['Date']\n",
    "        df_filtered2 = df_filtered2[['Date', 'Predicted for']]\n",
    "\n",
    "        # Step: Copy a dataframe column\n",
    "\n",
    "        temp_pred2 = pd.concat([temp_pred, df_filtered2], axis=1)\n",
    "\n",
    "        # ===\n",
    "\n",
    "        #adding other information\n",
    "        temp_pred2['Sector']=sector\n",
    "        temp_pred2[\"Model\"]=MODEL\n",
    "        # ===\n",
    "        predictions = predictions.append(temp_pred2, ignore_index=True)  # this is to store in the master pandas list\n",
    "        \n",
    "        \n",
    "        # add binary buy=1 and sell=0\n",
    "        Predictions = add_buy_sell_to_prediction(predictions,[ticker])\n",
    "        # lag_lagged is a DF containing predictions + buy and Sell label\n",
    "        #print(\"Predictions -->\",Predictions)\n",
    "\n",
    "\n",
    "        '''\n",
    "        #Etape finale - \n",
    "        print(ticker)\n",
    "        print(sector)\n",
    "        print(ticker_list_for_models)\n",
    "        #print(matrix_features_sector)\n",
    "        print(lags)\n",
    "        print(additional_data)\n",
    "        print(days)\n",
    "        print(nb_predict_days)\n",
    "        '''\n",
    "        \n",
    "        Results_for_ticker=generate_results(ticker,sector,Predictions)\n",
    "        Results = Results.append(Results_for_ticker.iloc[-1], ignore_index=True)  # this is to store in the master pandas list. Not [-1] because we want to add only the latest prediction\n",
    "        \n",
    "\n",
    "\n",
    "\n"
   ]
  },
  {
   "cell_type": "code",
   "execution_count": 86,
   "outputs": [],
   "source": [
    "#predictions"
   ],
   "metadata": {
    "collapsed": false
   }
  },
  {
   "cell_type": "code",
   "execution_count": 33,
   "outputs": [],
   "source": [
    "#Predictions"
   ],
   "metadata": {
    "collapsed": false
   }
  },
  {
   "cell_type": "code",
   "execution_count": 87,
   "id": "911a03c4",
   "metadata": {},
   "outputs": [
    {
     "data": {
      "text/plain": "    Ticker       Date  Observed Predicted for   Predicted Recommended  \\\n0      ALB 2022-12-29       NaN    2022-12-29  214.219937        Sell   \n1      APD 2022-12-29       NaN    2022-12-29  309.113510        Sell   \n2       CE 2022-12-29       NaN    2022-12-29  100.149951        Sell   \n3       CF 2022-12-29       NaN    2022-12-29   86.343746        Sell   \n4     CTVA 2022-12-29       NaN    2022-12-29   58.323030        Sell   \n..     ...        ...       ...           ...         ...         ...   \n498    PPL 2022-12-29       NaN    2022-12-29   29.180259        Sell   \n499     SO 2022-12-29       NaN    2022-12-29   71.178197        Sell   \n500    SRE 2022-12-29       NaN    2022-12-29  156.069442        Sell   \n501    WEC 2022-12-29       NaN    2022-12-29   94.727418        Sell   \n502    XEL 2022-12-29       NaN    2022-12-29   70.343212        Sell   \n\n     Return %           Sector    Model  \n0         NaN  Basic Materials  Lasso()  \n1         NaN  Basic Materials  Lasso()  \n2         NaN  Basic Materials  Lasso()  \n3         NaN  Basic Materials  Lasso()  \n4         NaN  Basic Materials  Lasso()  \n..        ...              ...      ...  \n498       NaN        Utilities  Lasso()  \n499       NaN        Utilities  Lasso()  \n500       NaN        Utilities  Lasso()  \n501       NaN        Utilities  Lasso()  \n502       NaN        Utilities  Lasso()  \n\n[503 rows x 9 columns]",
      "text/html": "<div><div id=44a5c860-a7ea-4142-9a07-3b3cbb624ace style=\"display:none; background-color:#9D6CFF; color:white; width:200px; height:30px; padding-left:5px; border-radius:4px; flex-direction:row; justify-content:space-around; align-items:center;\" onmouseover=\"this.style.backgroundColor='#BA9BF8'\" onmouseout=\"this.style.backgroundColor='#9D6CFF'\" onclick=\"window.commands?.execute('create-mitosheet-from-dataframe-output');\">See Full Dataframe in Mito</div> <script> if (window.commands?.hasCommand('create-mitosheet-from-dataframe-output')) document.getElementById('44a5c860-a7ea-4142-9a07-3b3cbb624ace').style.display = 'flex' </script> <table border=\"1\" class=\"dataframe\">\n  <thead>\n    <tr style=\"text-align: right;\">\n      <th></th>\n      <th>Ticker</th>\n      <th>Date</th>\n      <th>Observed</th>\n      <th>Predicted for</th>\n      <th>Predicted</th>\n      <th>Recommended</th>\n      <th>Return %</th>\n      <th>Sector</th>\n      <th>Model</th>\n    </tr>\n  </thead>\n  <tbody>\n    <tr>\n      <th>0</th>\n      <td>ALB</td>\n      <td>2022-12-29</td>\n      <td>NaN</td>\n      <td>2022-12-29</td>\n      <td>214.219937</td>\n      <td>Sell</td>\n      <td>NaN</td>\n      <td>Basic Materials</td>\n      <td>Lasso()</td>\n    </tr>\n    <tr>\n      <th>1</th>\n      <td>APD</td>\n      <td>2022-12-29</td>\n      <td>NaN</td>\n      <td>2022-12-29</td>\n      <td>309.113510</td>\n      <td>Sell</td>\n      <td>NaN</td>\n      <td>Basic Materials</td>\n      <td>Lasso()</td>\n    </tr>\n    <tr>\n      <th>2</th>\n      <td>CE</td>\n      <td>2022-12-29</td>\n      <td>NaN</td>\n      <td>2022-12-29</td>\n      <td>100.149951</td>\n      <td>Sell</td>\n      <td>NaN</td>\n      <td>Basic Materials</td>\n      <td>Lasso()</td>\n    </tr>\n    <tr>\n      <th>3</th>\n      <td>CF</td>\n      <td>2022-12-29</td>\n      <td>NaN</td>\n      <td>2022-12-29</td>\n      <td>86.343746</td>\n      <td>Sell</td>\n      <td>NaN</td>\n      <td>Basic Materials</td>\n      <td>Lasso()</td>\n    </tr>\n    <tr>\n      <th>4</th>\n      <td>CTVA</td>\n      <td>2022-12-29</td>\n      <td>NaN</td>\n      <td>2022-12-29</td>\n      <td>58.323030</td>\n      <td>Sell</td>\n      <td>NaN</td>\n      <td>Basic Materials</td>\n      <td>Lasso()</td>\n    </tr>\n    <tr>\n      <th>...</th>\n      <td>...</td>\n      <td>...</td>\n      <td>...</td>\n      <td>...</td>\n      <td>...</td>\n      <td>...</td>\n      <td>...</td>\n      <td>...</td>\n      <td>...</td>\n    </tr>\n    <tr>\n      <th>498</th>\n      <td>PPL</td>\n      <td>2022-12-29</td>\n      <td>NaN</td>\n      <td>2022-12-29</td>\n      <td>29.180259</td>\n      <td>Sell</td>\n      <td>NaN</td>\n      <td>Utilities</td>\n      <td>Lasso()</td>\n    </tr>\n    <tr>\n      <th>499</th>\n      <td>SO</td>\n      <td>2022-12-29</td>\n      <td>NaN</td>\n      <td>2022-12-29</td>\n      <td>71.178197</td>\n      <td>Sell</td>\n      <td>NaN</td>\n      <td>Utilities</td>\n      <td>Lasso()</td>\n    </tr>\n    <tr>\n      <th>500</th>\n      <td>SRE</td>\n      <td>2022-12-29</td>\n      <td>NaN</td>\n      <td>2022-12-29</td>\n      <td>156.069442</td>\n      <td>Sell</td>\n      <td>NaN</td>\n      <td>Utilities</td>\n      <td>Lasso()</td>\n    </tr>\n    <tr>\n      <th>501</th>\n      <td>WEC</td>\n      <td>2022-12-29</td>\n      <td>NaN</td>\n      <td>2022-12-29</td>\n      <td>94.727418</td>\n      <td>Sell</td>\n      <td>NaN</td>\n      <td>Utilities</td>\n      <td>Lasso()</td>\n    </tr>\n    <tr>\n      <th>502</th>\n      <td>XEL</td>\n      <td>2022-12-29</td>\n      <td>NaN</td>\n      <td>2022-12-29</td>\n      <td>70.343212</td>\n      <td>Sell</td>\n      <td>NaN</td>\n      <td>Utilities</td>\n      <td>Lasso()</td>\n    </tr>\n  </tbody>\n</table></div>"
     },
     "execution_count": 87,
     "metadata": {},
     "output_type": "execute_result"
    }
   ],
   "source": [
    "Results"
   ]
  },
  {
   "cell_type": "code",
   "execution_count": 34,
   "outputs": [],
   "source": [],
   "metadata": {
    "collapsed": false
   }
  },
  {
   "cell_type": "code",
   "execution_count": 35,
   "id": "ab2d3d30",
   "metadata": {},
   "outputs": [],
   "source": [
    "#Results_for_ticker=generate_results(ticker,sector)"
   ]
  },
  {
   "cell_type": "code",
   "execution_count": 35,
   "id": "565d69bf",
   "metadata": {},
   "outputs": [],
   "source": []
  },
  {
   "cell_type": "markdown",
   "source": [
    "# Tests section"
   ],
   "metadata": {
    "collapsed": false
   }
  },
  {
   "cell_type": "code",
   "execution_count": 123,
   "id": "ac4a18cf",
   "metadata": {},
   "outputs": [
    {
     "name": "stdout",
     "output_type": "stream",
     "text": [
      "TTWO\n",
      "Communication Services\n",
      "30\n",
      "['^tnx', '^GSPC', 'CL=F']\n",
      "1800\n",
      "30\n",
      "Lasso()\n",
      "Communication Services\n",
      "TTWO\n",
      "60\n",
      "30\n",
      "2022-11-29\n",
      "2022-12-29\n",
      "Model_train             CL=F_lag001  CL=F_lag002  CL=F_lag003  CL=F_lag004  CL=F_lag005  \\\n",
      "2022-11-29    77.239998    76.279999    77.940002    80.949997    79.730003   \n",
      "2022-11-30    78.199997    77.239998    76.279999    77.940002    80.949997   \n",
      "2022-12-01    80.550003    78.199997    77.239998    76.279999    77.940002   \n",
      "2022-12-02    81.220001    80.550003    78.199997    77.239998    76.279999   \n",
      "2022-12-05    79.980003    81.220001    80.550003    78.199997    77.239998   \n",
      "2022-12-06    76.930000    79.980003    81.220001    80.550003    78.199997   \n",
      "2022-12-07    74.250000    76.930000    79.980003    81.220001    80.550003   \n",
      "2022-12-08    72.010002    74.250000    76.930000    79.980003    81.220001   \n",
      "2022-12-09    71.459999    72.010002    74.250000    76.930000    79.980003   \n",
      "2022-12-12    71.019997    71.459999    72.010002    74.250000    76.930000   \n",
      "2022-12-13    73.169998    71.019997    71.459999    72.010002    74.250000   \n",
      "2022-12-14    75.389999    73.169998    71.019997    71.459999    72.010002   \n",
      "2022-12-15    77.279999    75.389999    73.169998    71.019997    71.459999   \n",
      "2022-12-16    76.110001    77.279999    75.389999    73.169998    71.019997   \n",
      "2022-12-19    74.290001    76.110001    77.279999    75.389999    73.169998   \n",
      "2022-12-20    75.190002    74.290001    76.110001    77.279999    75.389999   \n",
      "2022-12-21    76.089996    75.190002    74.290001    76.110001    77.279999   \n",
      "2022-12-22    78.290001    76.089996    75.190002    74.290001    76.110001   \n",
      "2022-12-23    77.489998    78.290001    76.089996    75.190002    74.290001   \n",
      "2022-12-27    79.559998    77.489998    78.290001    76.089996    75.190002   \n",
      "2022-12-28    79.529999    79.559998    77.489998    78.290001    76.089996   \n",
      "2022-12-29    78.959999    79.529999    79.559998    77.489998    78.290001   \n",
      "\n",
      "            CL=F_lag006  CL=F_lag007  CL=F_lag008  CL=F_lag009  CL=F_lag010  \\\n",
      "2022-11-29    80.080002    81.639999    85.589996    86.919998    85.870003   \n",
      "2022-11-30    79.730003    80.080002    81.639999    85.589996    86.919998   \n",
      "2022-12-01    80.949997    79.730003    80.080002    81.639999    85.589996   \n",
      "2022-12-02    77.940002    80.949997    79.730003    80.080002    81.639999   \n",
      "2022-12-05    76.279999    77.940002    80.949997    79.730003    80.080002   \n",
      "2022-12-06    77.239998    76.279999    77.940002    80.949997    79.730003   \n",
      "2022-12-07    78.199997    77.239998    76.279999    77.940002    80.949997   \n",
      "2022-12-08    80.550003    78.199997    77.239998    76.279999    77.940002   \n",
      "2022-12-09    81.220001    80.550003    78.199997    77.239998    76.279999   \n",
      "2022-12-12    79.980003    81.220001    80.550003    78.199997    77.239998   \n",
      "2022-12-13    76.930000    79.980003    81.220001    80.550003    78.199997   \n",
      "2022-12-14    74.250000    76.930000    79.980003    81.220001    80.550003   \n",
      "2022-12-15    72.010002    74.250000    76.930000    79.980003    81.220001   \n",
      "2022-12-16    71.459999    72.010002    74.250000    76.930000    79.980003   \n",
      "2022-12-19    71.019997    71.459999    72.010002    74.250000    76.930000   \n",
      "2022-12-20    73.169998    71.019997    71.459999    72.010002    74.250000   \n",
      "2022-12-21    75.389999    73.169998    71.019997    71.459999    72.010002   \n",
      "2022-12-22    77.279999    75.389999    73.169998    71.019997    71.459999   \n",
      "2022-12-23    76.110001    77.279999    75.389999    73.169998    71.019997   \n",
      "2022-12-27    74.290001    76.110001    77.279999    75.389999    73.169998   \n",
      "2022-12-28    75.190002    74.290001    76.110001    77.279999    75.389999   \n",
      "2022-12-29    76.089996    75.190002    74.290001    76.110001    77.279999   \n",
      "\n",
      "            ...  ^tnx_lag021  ^tnx_lag022  ^tnx_lag023  ^tnx_lag024  \\\n",
      "2022-11-29  ...        4.010        3.937        4.015        4.108   \n",
      "2022-11-30  ...        4.077        4.010        3.937        4.015   \n",
      "2022-12-01  ...        4.052        4.077        4.010        3.937   \n",
      "2022-12-02  ...        4.059        4.052        4.077        4.010   \n",
      "2022-12-05  ...        4.124        4.059        4.052        4.077   \n",
      "2022-12-06  ...        4.156        4.124        4.059        4.052   \n",
      "2022-12-07  ...        4.214        4.156        4.124        4.059   \n",
      "2022-12-08  ...        4.126        4.214        4.156        4.124   \n",
      "2022-12-09  ...        4.151        4.126        4.214        4.156   \n",
      "2022-12-12  ...        3.829        4.151        4.126        4.214   \n",
      "2022-12-13  ...        3.813        3.829        4.151        4.126   \n",
      "2022-12-14  ...        3.865        3.813        3.829        4.151   \n",
      "2022-12-15  ...        3.799        3.865        3.813        3.829   \n",
      "2022-12-16  ...        3.692        3.799        3.865        3.813   \n",
      "2022-12-19  ...        3.775        3.692        3.799        3.865   \n",
      "2022-12-20  ...        3.818        3.775        3.692        3.799   \n",
      "2022-12-21  ...        3.825        3.818        3.775        3.692   \n",
      "2022-12-22  ...        3.758        3.825        3.818        3.775   \n",
      "2022-12-23  ...        3.706        3.758        3.825        3.818   \n",
      "2022-12-27  ...        3.691        3.706        3.758        3.825   \n",
      "2022-12-28  ...        3.703        3.691        3.706        3.758   \n",
      "2022-12-29  ...        3.748        3.703        3.691        3.706   \n",
      "\n",
      "            ^tnx_lag025  ^tnx_lag026  ^tnx_lag027  ^tnx_lag028  ^tnx_lag029  \\\n",
      "2022-11-29        4.234        4.213        4.226        4.127        3.998   \n",
      "2022-11-30        4.108        4.234        4.213        4.226        4.127   \n",
      "2022-12-01        4.015        4.108        4.234        4.213        4.226   \n",
      "2022-12-02        3.937        4.015        4.108        4.234        4.213   \n",
      "2022-12-05        4.010        3.937        4.015        4.108        4.234   \n",
      "2022-12-06        4.077        4.010        3.937        4.015        4.108   \n",
      "2022-12-07        4.052        4.077        4.010        3.937        4.015   \n",
      "2022-12-08        4.059        4.052        4.077        4.010        3.937   \n",
      "2022-12-09        4.124        4.059        4.052        4.077        4.010   \n",
      "2022-12-12        4.156        4.124        4.059        4.052        4.077   \n",
      "2022-12-13        4.214        4.156        4.124        4.059        4.052   \n",
      "2022-12-14        4.126        4.214        4.156        4.124        4.059   \n",
      "2022-12-15        4.151        4.126        4.214        4.156        4.124   \n",
      "2022-12-16        3.829        4.151        4.126        4.214        4.156   \n",
      "2022-12-19        3.813        3.829        4.151        4.126        4.214   \n",
      "2022-12-20        3.865        3.813        3.829        4.151        4.126   \n",
      "2022-12-21        3.799        3.865        3.813        3.829        4.151   \n",
      "2022-12-22        3.692        3.799        3.865        3.813        3.829   \n",
      "2022-12-23        3.775        3.692        3.799        3.865        3.813   \n",
      "2022-12-27        3.818        3.775        3.692        3.799        3.865   \n",
      "2022-12-28        3.825        3.818        3.775        3.692        3.799   \n",
      "2022-12-29        3.758        3.825        3.818        3.775        3.692   \n",
      "\n",
      "            ^tnx_lag030  \n",
      "2022-11-29        4.015  \n",
      "2022-11-30        3.998  \n",
      "2022-12-01        4.127  \n",
      "2022-12-02        4.226  \n",
      "2022-12-05        4.213  \n",
      "2022-12-06        4.234  \n",
      "2022-12-07        4.108  \n",
      "2022-12-08        4.015  \n",
      "2022-12-09        3.937  \n",
      "2022-12-12        4.010  \n",
      "2022-12-13        4.077  \n",
      "2022-12-14        4.052  \n",
      "2022-12-15        4.059  \n",
      "2022-12-16        4.124  \n",
      "2022-12-19        4.156  \n",
      "2022-12-20        4.214  \n",
      "2022-12-21        4.126  \n",
      "2022-12-22        4.151  \n",
      "2022-12-23        3.829  \n",
      "2022-12-27        3.813  \n",
      "2022-12-28        3.865  \n",
      "2022-12-29        3.799  \n",
      "\n",
      "[22 rows x 121 columns]\n",
      "                  TTWO   ^tnx        ^GSPC       CL=F\n",
      "2018-01-23  116.809998  2.624  2839.129883  64.470001\n",
      "2018-01-24  116.239998  2.654  2837.540039  65.610001\n",
      "2018-01-25  117.199997  2.621  2839.250000  65.510002\n",
      "2018-01-26  119.370003  2.662  2872.870117  66.139999\n",
      "2018-01-29  119.290001  2.699  2853.530029  65.559998\n",
      "...                ...    ...          ...        ...\n",
      "2022-12-22   99.269997  3.669  3822.389893  77.489998\n",
      "2022-12-23   99.830002  3.751  3844.820068  79.559998\n",
      "2022-12-27   99.379997  3.860  3829.250000  79.529999\n",
      "2022-12-28   99.690002  3.887  3783.219971  78.959999\n",
      "2022-12-29  101.519997  3.835  3850.120117  78.389999\n",
      "\n",
      "[1244 rows x 4 columns]\n",
      "===============================\n",
      "Model_predict             CL=F_lag001  CL=F_lag002  CL=F_lag003  CL=F_lag004  CL=F_lag005  \\\n",
      "2022-11-29    77.239998    76.279999    77.940002    80.949997    79.730003   \n",
      "2022-11-30    78.199997    77.239998    76.279999    77.940002    80.949997   \n",
      "2022-12-01    80.550003    78.199997    77.239998    76.279999    77.940002   \n",
      "2022-12-02    81.220001    80.550003    78.199997    77.239998    76.279999   \n",
      "2022-12-05    79.980003    81.220001    80.550003    78.199997    77.239998   \n",
      "2022-12-06    76.930000    79.980003    81.220001    80.550003    78.199997   \n",
      "2022-12-07    74.250000    76.930000    79.980003    81.220001    80.550003   \n",
      "2022-12-08    72.010002    74.250000    76.930000    79.980003    81.220001   \n",
      "2022-12-09    71.459999    72.010002    74.250000    76.930000    79.980003   \n",
      "2022-12-12    71.019997    71.459999    72.010002    74.250000    76.930000   \n",
      "2022-12-13    73.169998    71.019997    71.459999    72.010002    74.250000   \n",
      "2022-12-14    75.389999    73.169998    71.019997    71.459999    72.010002   \n",
      "2022-12-15    77.279999    75.389999    73.169998    71.019997    71.459999   \n",
      "2022-12-16    76.110001    77.279999    75.389999    73.169998    71.019997   \n",
      "2022-12-19    74.290001    76.110001    77.279999    75.389999    73.169998   \n",
      "2022-12-20    75.190002    74.290001    76.110001    77.279999    75.389999   \n",
      "2022-12-21    76.089996    75.190002    74.290001    76.110001    77.279999   \n",
      "2022-12-22    78.290001    76.089996    75.190002    74.290001    76.110001   \n",
      "2022-12-23    77.489998    78.290001    76.089996    75.190002    74.290001   \n",
      "2022-12-27    79.559998    77.489998    78.290001    76.089996    75.190002   \n",
      "2022-12-28    79.529999    79.559998    77.489998    78.290001    76.089996   \n",
      "2022-12-29    78.959999    79.529999    79.559998    77.489998    78.290001   \n",
      "2022-12-29    78.389999    78.959999    79.529999    79.559998    77.489998   \n",
      "\n",
      "            CL=F_lag006  CL=F_lag007  CL=F_lag008  CL=F_lag009  CL=F_lag010  \\\n",
      "2022-11-29    80.080002    81.639999    85.589996    86.919998    85.870003   \n",
      "2022-11-30    79.730003    80.080002    81.639999    85.589996    86.919998   \n",
      "2022-12-01    80.949997    79.730003    80.080002    81.639999    85.589996   \n",
      "2022-12-02    77.940002    80.949997    79.730003    80.080002    81.639999   \n",
      "2022-12-05    76.279999    77.940002    80.949997    79.730003    80.080002   \n",
      "2022-12-06    77.239998    76.279999    77.940002    80.949997    79.730003   \n",
      "2022-12-07    78.199997    77.239998    76.279999    77.940002    80.949997   \n",
      "2022-12-08    80.550003    78.199997    77.239998    76.279999    77.940002   \n",
      "2022-12-09    81.220001    80.550003    78.199997    77.239998    76.279999   \n",
      "2022-12-12    79.980003    81.220001    80.550003    78.199997    77.239998   \n",
      "2022-12-13    76.930000    79.980003    81.220001    80.550003    78.199997   \n",
      "2022-12-14    74.250000    76.930000    79.980003    81.220001    80.550003   \n",
      "2022-12-15    72.010002    74.250000    76.930000    79.980003    81.220001   \n",
      "2022-12-16    71.459999    72.010002    74.250000    76.930000    79.980003   \n",
      "2022-12-19    71.019997    71.459999    72.010002    74.250000    76.930000   \n",
      "2022-12-20    73.169998    71.019997    71.459999    72.010002    74.250000   \n",
      "2022-12-21    75.389999    73.169998    71.019997    71.459999    72.010002   \n",
      "2022-12-22    77.279999    75.389999    73.169998    71.019997    71.459999   \n",
      "2022-12-23    76.110001    77.279999    75.389999    73.169998    71.019997   \n",
      "2022-12-27    74.290001    76.110001    77.279999    75.389999    73.169998   \n",
      "2022-12-28    75.190002    74.290001    76.110001    77.279999    75.389999   \n",
      "2022-12-29    76.089996    75.190002    74.290001    76.110001    77.279999   \n",
      "2022-12-29    78.290001    76.089996    75.190002    74.290001    76.110001   \n",
      "\n",
      "            ...  ^tnx_lag021  ^tnx_lag022  ^tnx_lag023  ^tnx_lag024  \\\n",
      "2022-11-29  ...        4.010        3.937        4.015        4.108   \n",
      "2022-11-30  ...        4.077        4.010        3.937        4.015   \n",
      "2022-12-01  ...        4.052        4.077        4.010        3.937   \n",
      "2022-12-02  ...        4.059        4.052        4.077        4.010   \n",
      "2022-12-05  ...        4.124        4.059        4.052        4.077   \n",
      "2022-12-06  ...        4.156        4.124        4.059        4.052   \n",
      "2022-12-07  ...        4.214        4.156        4.124        4.059   \n",
      "2022-12-08  ...        4.126        4.214        4.156        4.124   \n",
      "2022-12-09  ...        4.151        4.126        4.214        4.156   \n",
      "2022-12-12  ...        3.829        4.151        4.126        4.214   \n",
      "2022-12-13  ...        3.813        3.829        4.151        4.126   \n",
      "2022-12-14  ...        3.865        3.813        3.829        4.151   \n",
      "2022-12-15  ...        3.799        3.865        3.813        3.829   \n",
      "2022-12-16  ...        3.692        3.799        3.865        3.813   \n",
      "2022-12-19  ...        3.775        3.692        3.799        3.865   \n",
      "2022-12-20  ...        3.818        3.775        3.692        3.799   \n",
      "2022-12-21  ...        3.825        3.818        3.775        3.692   \n",
      "2022-12-22  ...        3.758        3.825        3.818        3.775   \n",
      "2022-12-23  ...        3.706        3.758        3.825        3.818   \n",
      "2022-12-27  ...        3.691        3.706        3.758        3.825   \n",
      "2022-12-28  ...        3.703        3.691        3.706        3.758   \n",
      "2022-12-29  ...        3.748        3.703        3.691        3.706   \n",
      "2022-12-29  ...        3.703        3.748        3.703        3.691   \n",
      "\n",
      "            ^tnx_lag025  ^tnx_lag026  ^tnx_lag027  ^tnx_lag028  ^tnx_lag029  \\\n",
      "2022-11-29        4.234        4.213        4.226        4.127        3.998   \n",
      "2022-11-30        4.108        4.234        4.213        4.226        4.127   \n",
      "2022-12-01        4.015        4.108        4.234        4.213        4.226   \n",
      "2022-12-02        3.937        4.015        4.108        4.234        4.213   \n",
      "2022-12-05        4.010        3.937        4.015        4.108        4.234   \n",
      "2022-12-06        4.077        4.010        3.937        4.015        4.108   \n",
      "2022-12-07        4.052        4.077        4.010        3.937        4.015   \n",
      "2022-12-08        4.059        4.052        4.077        4.010        3.937   \n",
      "2022-12-09        4.124        4.059        4.052        4.077        4.010   \n",
      "2022-12-12        4.156        4.124        4.059        4.052        4.077   \n",
      "2022-12-13        4.214        4.156        4.124        4.059        4.052   \n",
      "2022-12-14        4.126        4.214        4.156        4.124        4.059   \n",
      "2022-12-15        4.151        4.126        4.214        4.156        4.124   \n",
      "2022-12-16        3.829        4.151        4.126        4.214        4.156   \n",
      "2022-12-19        3.813        3.829        4.151        4.126        4.214   \n",
      "2022-12-20        3.865        3.813        3.829        4.151        4.126   \n",
      "2022-12-21        3.799        3.865        3.813        3.829        4.151   \n",
      "2022-12-22        3.692        3.799        3.865        3.813        3.829   \n",
      "2022-12-23        3.775        3.692        3.799        3.865        3.813   \n",
      "2022-12-27        3.818        3.775        3.692        3.799        3.865   \n",
      "2022-12-28        3.825        3.818        3.775        3.692        3.799   \n",
      "2022-12-29        3.758        3.825        3.818        3.775        3.692   \n",
      "2022-12-29        3.706        3.758        3.825        3.818        3.775   \n",
      "\n",
      "            ^tnx_lag030  \n",
      "2022-11-29        4.015  \n",
      "2022-11-30        3.998  \n",
      "2022-12-01        4.127  \n",
      "2022-12-02        4.226  \n",
      "2022-12-05        4.213  \n",
      "2022-12-06        4.234  \n",
      "2022-12-07        4.108  \n",
      "2022-12-08        4.015  \n",
      "2022-12-09        3.937  \n",
      "2022-12-12        4.010  \n",
      "2022-12-13        4.077  \n",
      "2022-12-14        4.052  \n",
      "2022-12-15        4.059  \n",
      "2022-12-16        4.124  \n",
      "2022-12-19        4.156  \n",
      "2022-12-20        4.214  \n",
      "2022-12-21        4.126  \n",
      "2022-12-22        4.151  \n",
      "2022-12-23        3.829  \n",
      "2022-12-27        3.813  \n",
      "2022-12-28        3.865  \n",
      "2022-12-29        3.799  \n",
      "2022-12-29        3.692  \n",
      "\n",
      "[23 rows x 121 columns]\n"
     ]
    },
    {
     "name": "stderr",
     "output_type": "stream",
     "text": [
      "/home/steve/.local/lib/python3.10/site-packages/sklearn/linear_model/_coordinate_descent.py:648: ConvergenceWarning: Objective did not converge. You might want to increase the number of iterations, check the scale of the features or consider increasing regularisation. Duality gap: 1.585e+03, tolerance: 1.025e+02\n",
      "  model = cd_fast.enet_coordinate_descent(\n",
      "/home/steve/Documents/McGill/VBTT3/VBTT2_Features/Features.py:122: FutureWarning: The frame.append method is deprecated and will be removed from pandas in a future version. Use pandas.concat instead.\n",
      "  df = df.append(df_last)  # we append last date to end\n",
      "/tmp/ipykernel_266469/4259233876.py:79: FutureWarning: The frame.append method is deprecated and will be removed from pandas in a future version. Use pandas.concat instead.\n",
      "  predictions = predictions.append(temp_pred2, ignore_index=True)  # this is to store in the master pandas list\n",
      "/home/steve/Documents/McGill/VBTT3/VBTT2_Model/Model.py:187: FutureWarning: The frame.append method is deprecated and will be removed from pandas in a future version. Use pandas.concat instead.\n",
      "  df_lagged = df_lagged.append(df_lagged_ticker)\n",
      "/tmp/ipykernel_266469/4096032364.py:16: SettingWithCopyWarning: \n",
      "A value is trying to be set on a copy of a slice from a DataFrame\n",
      "\n",
      "See the caveats in the documentation: https://pandas.pydata.org/pandas-docs/stable/user_guide/indexing.html#returning-a-view-versus-a-copy\n",
      "  results['daily return %'].iloc[-1] = np.nan  # pas la bonne methode\n"
     ]
    }
   ],
   "source": [
    "years=5\n",
    "days=years*360\n",
    "nb_predict_days=30\n",
    "lags=30\n",
    "\n",
    "ticker='TTWO'\n",
    "sector=\"Communication Services\"\n",
    "yesterday, start_date, train_date_start, train_date_last, test_date_start, test_date_last,days=initialize_data(days,lags,nb_predict_days)\n",
    "\n",
    "unique_SP500_tickers=[ticker]\n",
    "predictions = pd.DataFrame()\n",
    "print(ticker)\n",
    "print(sector)\n",
    "#print(matrix_features_sector)\n",
    "print(lags)\n",
    "print(additional_data)\n",
    "print(days)\n",
    "print(nb_predict_days)\n",
    "\n",
    "\n",
    "print(MODEL)\n",
    "print(sector)\n",
    "print(ticker)\n",
    "\n",
    "ticker_list_for_models=get_all_tickers_sector(sector).tolist()\n",
    "additional_data = read_config_file()[1]\n",
    "tickers_in_sector_extended = np.concatenate((ticker_list_for_models, additional_data), axis=None)\n",
    "tickers_in_sector_extended = tickers_in_sector_extended.tolist()\n",
    "matrix_features_sector = get_yf_dataframe(tickers_in_sector_extended, days)\n",
    "matrix_features_sector = matrix_features_sector.reindex(sorted(matrix_features_sector.columns), axis=1)\n",
    "\n",
    "\n",
    "\n",
    "X_train, y_train, X_test, y_test, df_filtered = create_train_test_set(ticker, matrix_features_sector, lags, additional_data, days, nb_predict_days)\n",
    "\n",
    "print(lags*2)\n",
    "print(nb_predict_days)\n",
    "print(test_date_start)\n",
    "print (test_date_last)\n",
    "\n",
    "print(\"Model_train\", df_filtered)\n",
    "\n",
    "MODEL.fit(X_train, y_train)\n",
    "X_test, y_test, df_filtered = create_predict_set(ticker, matrix_features_sector, lags, nb_predict_days,additional_data)\n",
    "temp_pred = model_predict(MODEL, ticker, X_test, y_test)\n",
    "print(\"===============================\")\n",
    "print(\"Model_predict\", df_filtered)\n",
    "\n",
    "# ===\n",
    "temp_pred.drop(labels=[0], inplace=True)\n",
    "\n",
    "from datetime import timedelta\n",
    "df_filtered2 = pd.DataFrame(df_filtered[ticker])\n",
    "\n",
    "df_filtered2 = df_filtered2.reset_index()\n",
    "\n",
    "# Deleted 1 row in df_filtered2\n",
    "df_filtered2.drop(labels=[0], inplace=True)\n",
    "\n",
    "#Renamed columns Date\n",
    "df_filtered2.rename(columns={'index': 'Date'}, inplace=True)\n",
    "\n",
    "\n",
    "df_filtered2['Predicted for'] = df_filtered2['Date']\n",
    "# df_filtered2['Prediction for']=df_filtered2['Date']\n",
    "df_filtered2 = df_filtered2[['Date', 'Predicted for']]\n",
    "\n",
    "# Step: Copy a dataframe column\n",
    "\n",
    "temp_pred2 = pd.concat([temp_pred, df_filtered2], axis=1)\n",
    "\n",
    "# ===\n",
    "#adding other information\n",
    "temp_pred2['Sector']=sector\n",
    "temp_pred2[\"Model\"]=MODEL\n",
    "\n",
    "\n",
    "\n",
    "predictions = predictions.append(temp_pred2, ignore_index=True)  # this is to store in the master pandas list\n",
    "\n",
    "\n",
    "# add binary buy=1 and sell=0\n",
    "Predictions = add_buy_sell_to_prediction(predictions,[ticker])\n",
    "# lag_lagged is a DF containing predictions + buy and Sell label\n",
    "\n",
    "\n",
    "#Etape finale - \n",
    "\n",
    "Results=generate_results(ticker,sector,Predictions)"
   ]
  },
  {
   "cell_type": "code",
   "execution_count": 37,
   "outputs": [
    {
     "data": {
      "text/plain": "            CL=F_lag001  CL=F_lag002  CL=F_lag003  CL=F_lag004  CL=F_lag005  \\\n2022-11-28    76.279999    77.940002    80.949997    79.730003    80.080002   \n2022-11-29    77.239998    76.279999    77.940002    80.949997    79.730003   \n2022-11-30    78.199997    77.239998    76.279999    77.940002    80.949997   \n2022-12-01    80.550003    78.199997    77.239998    76.279999    77.940002   \n2022-12-02    81.220001    80.550003    78.199997    77.239998    76.279999   \n2022-12-05    79.980003    81.220001    80.550003    78.199997    77.239998   \n2022-12-06    76.930000    79.980003    81.220001    80.550003    78.199997   \n2022-12-07    74.250000    76.930000    79.980003    81.220001    80.550003   \n2022-12-08    72.010002    74.250000    76.930000    79.980003    81.220001   \n2022-12-09    71.459999    72.010002    74.250000    76.930000    79.980003   \n2022-12-12    71.019997    71.459999    72.010002    74.250000    76.930000   \n2022-12-13    73.169998    71.019997    71.459999    72.010002    74.250000   \n2022-12-14    75.389999    73.169998    71.019997    71.459999    72.010002   \n2022-12-15    77.279999    75.389999    73.169998    71.019997    71.459999   \n2022-12-16    76.110001    77.279999    75.389999    73.169998    71.019997   \n2022-12-19    74.290001    76.110001    77.279999    75.389999    73.169998   \n2022-12-20    75.190002    74.290001    76.110001    77.279999    75.389999   \n2022-12-21    76.089996    75.190002    74.290001    76.110001    77.279999   \n2022-12-22    78.290001    76.089996    75.190002    74.290001    76.110001   \n2022-12-23    77.489998    78.290001    76.089996    75.190002    74.290001   \n2022-12-27    79.559998    77.489998    78.290001    76.089996    75.190002   \n2022-12-28    79.529999    79.559998    77.489998    78.290001    76.089996   \n\n            CL=F_lag006  CL=F_lag007  CL=F_lag008  CL=F_lag009  CL=F_lag010  \\\n2022-11-28    81.639999    85.589996    86.919998    85.870003    88.959999   \n2022-11-29    80.080002    81.639999    85.589996    86.919998    85.870003   \n2022-11-30    79.730003    80.080002    81.639999    85.589996    86.919998   \n2022-12-01    80.949997    79.730003    80.080002    81.639999    85.589996   \n2022-12-02    77.940002    80.949997    79.730003    80.080002    81.639999   \n2022-12-05    76.279999    77.940002    80.949997    79.730003    80.080002   \n2022-12-06    77.239998    76.279999    77.940002    80.949997    79.730003   \n2022-12-07    78.199997    77.239998    76.279999    77.940002    80.949997   \n2022-12-08    80.550003    78.199997    77.239998    76.279999    77.940002   \n2022-12-09    81.220001    80.550003    78.199997    77.239998    76.279999   \n2022-12-12    79.980003    81.220001    80.550003    78.199997    77.239998   \n2022-12-13    76.930000    79.980003    81.220001    80.550003    78.199997   \n2022-12-14    74.250000    76.930000    79.980003    81.220001    80.550003   \n2022-12-15    72.010002    74.250000    76.930000    79.980003    81.220001   \n2022-12-16    71.459999    72.010002    74.250000    76.930000    79.980003   \n2022-12-19    71.019997    71.459999    72.010002    74.250000    76.930000   \n2022-12-20    73.169998    71.019997    71.459999    72.010002    74.250000   \n2022-12-21    75.389999    73.169998    71.019997    71.459999    72.010002   \n2022-12-22    77.279999    75.389999    73.169998    71.019997    71.459999   \n2022-12-23    76.110001    77.279999    75.389999    73.169998    71.019997   \n2022-12-27    74.290001    76.110001    77.279999    75.389999    73.169998   \n2022-12-28    75.190002    74.290001    76.110001    77.279999    75.389999   \n\n            ...  ^tnx_lag021  ^tnx_lag022  ^tnx_lag023  ^tnx_lag024  \\\n2022-11-28  ...        3.937        4.015        4.108        4.234   \n2022-11-29  ...        4.010        3.937        4.015        4.108   \n2022-11-30  ...        4.077        4.010        3.937        4.015   \n2022-12-01  ...        4.052        4.077        4.010        3.937   \n2022-12-02  ...        4.059        4.052        4.077        4.010   \n2022-12-05  ...        4.124        4.059        4.052        4.077   \n2022-12-06  ...        4.156        4.124        4.059        4.052   \n2022-12-07  ...        4.214        4.156        4.124        4.059   \n2022-12-08  ...        4.126        4.214        4.156        4.124   \n2022-12-09  ...        4.151        4.126        4.214        4.156   \n2022-12-12  ...        3.829        4.151        4.126        4.214   \n2022-12-13  ...        3.813        3.829        4.151        4.126   \n2022-12-14  ...        3.865        3.813        3.829        4.151   \n2022-12-15  ...        3.799        3.865        3.813        3.829   \n2022-12-16  ...        3.692        3.799        3.865        3.813   \n2022-12-19  ...        3.775        3.692        3.799        3.865   \n2022-12-20  ...        3.818        3.775        3.692        3.799   \n2022-12-21  ...        3.825        3.818        3.775        3.692   \n2022-12-22  ...        3.758        3.825        3.818        3.775   \n2022-12-23  ...        3.706        3.758        3.825        3.818   \n2022-12-27  ...        3.691        3.706        3.758        3.825   \n2022-12-28  ...        3.703        3.691        3.706        3.758   \n\n            ^tnx_lag025  ^tnx_lag026  ^tnx_lag027  ^tnx_lag028  ^tnx_lag029  \\\n2022-11-28        4.213        4.226        4.127        3.998        4.015   \n2022-11-29        4.234        4.213        4.226        4.127        3.998   \n2022-11-30        4.108        4.234        4.213        4.226        4.127   \n2022-12-01        4.015        4.108        4.234        4.213        4.226   \n2022-12-02        3.937        4.015        4.108        4.234        4.213   \n2022-12-05        4.010        3.937        4.015        4.108        4.234   \n2022-12-06        4.077        4.010        3.937        4.015        4.108   \n2022-12-07        4.052        4.077        4.010        3.937        4.015   \n2022-12-08        4.059        4.052        4.077        4.010        3.937   \n2022-12-09        4.124        4.059        4.052        4.077        4.010   \n2022-12-12        4.156        4.124        4.059        4.052        4.077   \n2022-12-13        4.214        4.156        4.124        4.059        4.052   \n2022-12-14        4.126        4.214        4.156        4.124        4.059   \n2022-12-15        4.151        4.126        4.214        4.156        4.124   \n2022-12-16        3.829        4.151        4.126        4.214        4.156   \n2022-12-19        3.813        3.829        4.151        4.126        4.214   \n2022-12-20        3.865        3.813        3.829        4.151        4.126   \n2022-12-21        3.799        3.865        3.813        3.829        4.151   \n2022-12-22        3.692        3.799        3.865        3.813        3.829   \n2022-12-23        3.775        3.692        3.799        3.865        3.813   \n2022-12-27        3.818        3.775        3.692        3.799        3.865   \n2022-12-28        3.825        3.818        3.775        3.692        3.799   \n\n            ^tnx_lag030  \n2022-11-28        4.010  \n2022-11-29        4.015  \n2022-11-30        3.998  \n2022-12-01        4.127  \n2022-12-02        4.226  \n2022-12-05        4.213  \n2022-12-06        4.234  \n2022-12-07        4.108  \n2022-12-08        4.015  \n2022-12-09        3.937  \n2022-12-12        4.010  \n2022-12-13        4.077  \n2022-12-14        4.052  \n2022-12-15        4.059  \n2022-12-16        4.124  \n2022-12-19        4.156  \n2022-12-20        4.214  \n2022-12-21        4.126  \n2022-12-22        4.151  \n2022-12-23        3.829  \n2022-12-27        3.813  \n2022-12-28        3.865  \n\n[22 rows x 121 columns]",
      "text/html": "<div><div id=66398c8e-9206-41b2-a1d0-539c00c3b1b9 style=\"display:none; background-color:#9D6CFF; color:white; width:200px; height:30px; padding-left:5px; border-radius:4px; flex-direction:row; justify-content:space-around; align-items:center;\" onmouseover=\"this.style.backgroundColor='#BA9BF8'\" onmouseout=\"this.style.backgroundColor='#9D6CFF'\" onclick=\"window.commands?.execute('create-mitosheet-from-dataframe-output');\">See Full Dataframe in Mito</div> <script> if (window.commands?.hasCommand('create-mitosheet-from-dataframe-output')) document.getElementById('66398c8e-9206-41b2-a1d0-539c00c3b1b9').style.display = 'flex' </script> <table border=\"1\" class=\"dataframe\">\n  <thead>\n    <tr style=\"text-align: right;\">\n      <th></th>\n      <th>CL=F_lag001</th>\n      <th>CL=F_lag002</th>\n      <th>CL=F_lag003</th>\n      <th>CL=F_lag004</th>\n      <th>CL=F_lag005</th>\n      <th>CL=F_lag006</th>\n      <th>CL=F_lag007</th>\n      <th>CL=F_lag008</th>\n      <th>CL=F_lag009</th>\n      <th>CL=F_lag010</th>\n      <th>...</th>\n      <th>^tnx_lag021</th>\n      <th>^tnx_lag022</th>\n      <th>^tnx_lag023</th>\n      <th>^tnx_lag024</th>\n      <th>^tnx_lag025</th>\n      <th>^tnx_lag026</th>\n      <th>^tnx_lag027</th>\n      <th>^tnx_lag028</th>\n      <th>^tnx_lag029</th>\n      <th>^tnx_lag030</th>\n    </tr>\n  </thead>\n  <tbody>\n    <tr>\n      <th>2022-11-28</th>\n      <td>76.279999</td>\n      <td>77.940002</td>\n      <td>80.949997</td>\n      <td>79.730003</td>\n      <td>80.080002</td>\n      <td>81.639999</td>\n      <td>85.589996</td>\n      <td>86.919998</td>\n      <td>85.870003</td>\n      <td>88.959999</td>\n      <td>...</td>\n      <td>3.937</td>\n      <td>4.015</td>\n      <td>4.108</td>\n      <td>4.234</td>\n      <td>4.213</td>\n      <td>4.226</td>\n      <td>4.127</td>\n      <td>3.998</td>\n      <td>4.015</td>\n      <td>4.010</td>\n    </tr>\n    <tr>\n      <th>2022-11-29</th>\n      <td>77.239998</td>\n      <td>76.279999</td>\n      <td>77.940002</td>\n      <td>80.949997</td>\n      <td>79.730003</td>\n      <td>80.080002</td>\n      <td>81.639999</td>\n      <td>85.589996</td>\n      <td>86.919998</td>\n      <td>85.870003</td>\n      <td>...</td>\n      <td>4.010</td>\n      <td>3.937</td>\n      <td>4.015</td>\n      <td>4.108</td>\n      <td>4.234</td>\n      <td>4.213</td>\n      <td>4.226</td>\n      <td>4.127</td>\n      <td>3.998</td>\n      <td>4.015</td>\n    </tr>\n    <tr>\n      <th>2022-11-30</th>\n      <td>78.199997</td>\n      <td>77.239998</td>\n      <td>76.279999</td>\n      <td>77.940002</td>\n      <td>80.949997</td>\n      <td>79.730003</td>\n      <td>80.080002</td>\n      <td>81.639999</td>\n      <td>85.589996</td>\n      <td>86.919998</td>\n      <td>...</td>\n      <td>4.077</td>\n      <td>4.010</td>\n      <td>3.937</td>\n      <td>4.015</td>\n      <td>4.108</td>\n      <td>4.234</td>\n      <td>4.213</td>\n      <td>4.226</td>\n      <td>4.127</td>\n      <td>3.998</td>\n    </tr>\n    <tr>\n      <th>2022-12-01</th>\n      <td>80.550003</td>\n      <td>78.199997</td>\n      <td>77.239998</td>\n      <td>76.279999</td>\n      <td>77.940002</td>\n      <td>80.949997</td>\n      <td>79.730003</td>\n      <td>80.080002</td>\n      <td>81.639999</td>\n      <td>85.589996</td>\n      <td>...</td>\n      <td>4.052</td>\n      <td>4.077</td>\n      <td>4.010</td>\n      <td>3.937</td>\n      <td>4.015</td>\n      <td>4.108</td>\n      <td>4.234</td>\n      <td>4.213</td>\n      <td>4.226</td>\n      <td>4.127</td>\n    </tr>\n    <tr>\n      <th>2022-12-02</th>\n      <td>81.220001</td>\n      <td>80.550003</td>\n      <td>78.199997</td>\n      <td>77.239998</td>\n      <td>76.279999</td>\n      <td>77.940002</td>\n      <td>80.949997</td>\n      <td>79.730003</td>\n      <td>80.080002</td>\n      <td>81.639999</td>\n      <td>...</td>\n      <td>4.059</td>\n      <td>4.052</td>\n      <td>4.077</td>\n      <td>4.010</td>\n      <td>3.937</td>\n      <td>4.015</td>\n      <td>4.108</td>\n      <td>4.234</td>\n      <td>4.213</td>\n      <td>4.226</td>\n    </tr>\n    <tr>\n      <th>...</th>\n      <td>...</td>\n      <td>...</td>\n      <td>...</td>\n      <td>...</td>\n      <td>...</td>\n      <td>...</td>\n      <td>...</td>\n      <td>...</td>\n      <td>...</td>\n      <td>...</td>\n      <td>...</td>\n      <td>...</td>\n      <td>...</td>\n      <td>...</td>\n      <td>...</td>\n      <td>...</td>\n      <td>...</td>\n      <td>...</td>\n      <td>...</td>\n      <td>...</td>\n      <td>...</td>\n    </tr>\n    <tr>\n      <th>2022-12-21</th>\n      <td>76.089996</td>\n      <td>75.190002</td>\n      <td>74.290001</td>\n      <td>76.110001</td>\n      <td>77.279999</td>\n      <td>75.389999</td>\n      <td>73.169998</td>\n      <td>71.019997</td>\n      <td>71.459999</td>\n      <td>72.010002</td>\n      <td>...</td>\n      <td>3.825</td>\n      <td>3.818</td>\n      <td>3.775</td>\n      <td>3.692</td>\n      <td>3.799</td>\n      <td>3.865</td>\n      <td>3.813</td>\n      <td>3.829</td>\n      <td>4.151</td>\n      <td>4.126</td>\n    </tr>\n    <tr>\n      <th>2022-12-22</th>\n      <td>78.290001</td>\n      <td>76.089996</td>\n      <td>75.190002</td>\n      <td>74.290001</td>\n      <td>76.110001</td>\n      <td>77.279999</td>\n      <td>75.389999</td>\n      <td>73.169998</td>\n      <td>71.019997</td>\n      <td>71.459999</td>\n      <td>...</td>\n      <td>3.758</td>\n      <td>3.825</td>\n      <td>3.818</td>\n      <td>3.775</td>\n      <td>3.692</td>\n      <td>3.799</td>\n      <td>3.865</td>\n      <td>3.813</td>\n      <td>3.829</td>\n      <td>4.151</td>\n    </tr>\n    <tr>\n      <th>2022-12-23</th>\n      <td>77.489998</td>\n      <td>78.290001</td>\n      <td>76.089996</td>\n      <td>75.190002</td>\n      <td>74.290001</td>\n      <td>76.110001</td>\n      <td>77.279999</td>\n      <td>75.389999</td>\n      <td>73.169998</td>\n      <td>71.019997</td>\n      <td>...</td>\n      <td>3.706</td>\n      <td>3.758</td>\n      <td>3.825</td>\n      <td>3.818</td>\n      <td>3.775</td>\n      <td>3.692</td>\n      <td>3.799</td>\n      <td>3.865</td>\n      <td>3.813</td>\n      <td>3.829</td>\n    </tr>\n    <tr>\n      <th>2022-12-27</th>\n      <td>79.559998</td>\n      <td>77.489998</td>\n      <td>78.290001</td>\n      <td>76.089996</td>\n      <td>75.190002</td>\n      <td>74.290001</td>\n      <td>76.110001</td>\n      <td>77.279999</td>\n      <td>75.389999</td>\n      <td>73.169998</td>\n      <td>...</td>\n      <td>3.691</td>\n      <td>3.706</td>\n      <td>3.758</td>\n      <td>3.825</td>\n      <td>3.818</td>\n      <td>3.775</td>\n      <td>3.692</td>\n      <td>3.799</td>\n      <td>3.865</td>\n      <td>3.813</td>\n    </tr>\n    <tr>\n      <th>2022-12-28</th>\n      <td>79.529999</td>\n      <td>79.559998</td>\n      <td>77.489998</td>\n      <td>78.290001</td>\n      <td>76.089996</td>\n      <td>75.190002</td>\n      <td>74.290001</td>\n      <td>76.110001</td>\n      <td>77.279999</td>\n      <td>75.389999</td>\n      <td>...</td>\n      <td>3.703</td>\n      <td>3.691</td>\n      <td>3.706</td>\n      <td>3.758</td>\n      <td>3.825</td>\n      <td>3.818</td>\n      <td>3.775</td>\n      <td>3.692</td>\n      <td>3.799</td>\n      <td>3.865</td>\n    </tr>\n  </tbody>\n</table></div>"
     },
     "execution_count": 37,
     "metadata": {},
     "output_type": "execute_result"
    }
   ],
   "source": [
    "df_filtered"
   ],
   "metadata": {
    "collapsed": false
   }
  },
  {
   "cell_type": "code",
   "execution_count": 38,
   "outputs": [
    {
     "data": {
      "text/plain": "                 ATVI        CHTR       CL=F      CMCSA         DIS  \\\n2018-01-22  71.300003  370.250000  63.490002  42.889999  111.099998   \n2018-01-23  71.550003  369.250000  64.470001  42.439999  110.410004   \n2018-01-24  70.080002  376.179993  65.610001  42.990002  110.500000   \n2018-01-25  70.820000  375.140015  65.510002  42.139999  110.550003   \n2018-01-26  72.519997  377.000000  66.139999  42.799999  112.190002   \n...               ...         ...        ...        ...         ...   \n2022-12-20  75.879997  309.290009  76.089996  34.410000   87.019997   \n2022-12-21  75.889999  321.339996  78.290001  35.080002   86.919998   \n2022-12-22  75.699997  323.880005  77.489998  34.820000   86.669998   \n2022-12-23  75.949997  333.920013  79.559998  35.139999   88.010002   \n2022-12-27  75.790001  332.790009  79.529999  35.000000   86.370003   \n\n                 DISH          EA        FOX       FOXA       GOOG  ...  \\\n2018-01-22  46.259998  117.989998        NaN        NaN  57.790501  ...   \n2018-01-23  46.330002  117.669998        NaN        NaN  58.498501  ...   \n2018-01-24  47.730000  114.660004        NaN        NaN  58.212002  ...   \n2018-01-25  47.029999  114.500000        NaN        NaN  58.518501  ...   \n2018-01-26  47.189999  115.199997        NaN        NaN  58.792000  ...   \n...               ...         ...        ...        ...        ...  ...   \n2022-12-20  13.820000  120.419998  28.100000  29.950001  89.629997  ...   \n2022-12-21  13.920000  122.500000  28.389999  30.330000  90.250000  ...   \n2022-12-22  14.140000  121.419998  28.540001  30.500000  88.260002  ...   \n2022-12-23  14.460000  121.510002  28.850000  30.760000  89.809998  ...   \n2022-12-27  14.200000  120.820000  28.660000  30.620001  87.930000  ...   \n\n                  OMC       PARA          T        TMUS        TTWO  \\\n2018-01-22  76.360001  58.250000  28.602718   63.939999  118.400002   \n2018-01-23  75.500000  57.520000  28.089125   64.529999  116.809998   \n2018-01-24  76.580002  59.230000  27.960726   65.000000  116.239998   \n2018-01-25  76.680000  59.270000  28.285498   64.389999  117.199997   \n2018-01-26  77.650002  60.000000  28.564955   65.279999  119.370003   \n...               ...        ...        ...         ...         ...   \n2022-12-20  77.809998  16.879999  18.070000  140.339996   98.110001   \n2022-12-21  78.769997  16.879999  18.150000  141.470001   99.879997   \n2022-12-22  78.779999  16.940001  18.270000  139.529999   99.269997   \n2022-12-23  80.500000  16.660000  18.309999  140.020004   99.830002   \n2022-12-27  81.379997  16.520000  18.459999  140.990005   99.379997   \n\n                 TWTR         VZ        WBD        ^GSPC   ^tnx  \n2018-01-22  23.320000  53.459999  26.330000  2832.969971  2.665  \n2018-01-23  22.750000  53.230000  25.700001  2839.129883  2.624  \n2018-01-24  22.370001  54.220001  26.010000  2837.540039  2.654  \n2018-01-25  22.160000  54.290001  25.730000  2839.250000  2.621  \n2018-01-26  24.270000  54.720001  26.040001  2872.870117  2.662  \n...               ...        ...        ...          ...    ...  \n2022-12-20        NaN  36.990002   9.030000  3821.620117  3.684  \n2022-12-21        NaN  37.779999   9.040000  3878.439941  3.684  \n2022-12-22        NaN  38.310001   9.230000  3822.389893  3.669  \n2022-12-23        NaN  38.410000   9.170000  3844.820068  3.751  \n2022-12-27        NaN  39.250000   9.230000  3829.250000  3.860  \n\n[1243 rows x 29 columns]",
      "text/html": "<div><div id=512025f7-23ae-4d63-a42c-5cdd9cde1f49 style=\"display:none; background-color:#9D6CFF; color:white; width:200px; height:30px; padding-left:5px; border-radius:4px; flex-direction:row; justify-content:space-around; align-items:center;\" onmouseover=\"this.style.backgroundColor='#BA9BF8'\" onmouseout=\"this.style.backgroundColor='#9D6CFF'\" onclick=\"window.commands?.execute('create-mitosheet-from-dataframe-output');\">See Full Dataframe in Mito</div> <script> if (window.commands?.hasCommand('create-mitosheet-from-dataframe-output')) document.getElementById('512025f7-23ae-4d63-a42c-5cdd9cde1f49').style.display = 'flex' </script> <table border=\"1\" class=\"dataframe\">\n  <thead>\n    <tr style=\"text-align: right;\">\n      <th></th>\n      <th>ATVI</th>\n      <th>CHTR</th>\n      <th>CL=F</th>\n      <th>CMCSA</th>\n      <th>DIS</th>\n      <th>DISH</th>\n      <th>EA</th>\n      <th>FOX</th>\n      <th>FOXA</th>\n      <th>GOOG</th>\n      <th>...</th>\n      <th>OMC</th>\n      <th>PARA</th>\n      <th>T</th>\n      <th>TMUS</th>\n      <th>TTWO</th>\n      <th>TWTR</th>\n      <th>VZ</th>\n      <th>WBD</th>\n      <th>^GSPC</th>\n      <th>^tnx</th>\n    </tr>\n  </thead>\n  <tbody>\n    <tr>\n      <th>2018-01-22</th>\n      <td>71.300003</td>\n      <td>370.250000</td>\n      <td>63.490002</td>\n      <td>42.889999</td>\n      <td>111.099998</td>\n      <td>46.259998</td>\n      <td>117.989998</td>\n      <td>NaN</td>\n      <td>NaN</td>\n      <td>57.790501</td>\n      <td>...</td>\n      <td>76.360001</td>\n      <td>58.250000</td>\n      <td>28.602718</td>\n      <td>63.939999</td>\n      <td>118.400002</td>\n      <td>23.320000</td>\n      <td>53.459999</td>\n      <td>26.330000</td>\n      <td>2832.969971</td>\n      <td>2.665</td>\n    </tr>\n    <tr>\n      <th>2018-01-23</th>\n      <td>71.550003</td>\n      <td>369.250000</td>\n      <td>64.470001</td>\n      <td>42.439999</td>\n      <td>110.410004</td>\n      <td>46.330002</td>\n      <td>117.669998</td>\n      <td>NaN</td>\n      <td>NaN</td>\n      <td>58.498501</td>\n      <td>...</td>\n      <td>75.500000</td>\n      <td>57.520000</td>\n      <td>28.089125</td>\n      <td>64.529999</td>\n      <td>116.809998</td>\n      <td>22.750000</td>\n      <td>53.230000</td>\n      <td>25.700001</td>\n      <td>2839.129883</td>\n      <td>2.624</td>\n    </tr>\n    <tr>\n      <th>2018-01-24</th>\n      <td>70.080002</td>\n      <td>376.179993</td>\n      <td>65.610001</td>\n      <td>42.990002</td>\n      <td>110.500000</td>\n      <td>47.730000</td>\n      <td>114.660004</td>\n      <td>NaN</td>\n      <td>NaN</td>\n      <td>58.212002</td>\n      <td>...</td>\n      <td>76.580002</td>\n      <td>59.230000</td>\n      <td>27.960726</td>\n      <td>65.000000</td>\n      <td>116.239998</td>\n      <td>22.370001</td>\n      <td>54.220001</td>\n      <td>26.010000</td>\n      <td>2837.540039</td>\n      <td>2.654</td>\n    </tr>\n    <tr>\n      <th>2018-01-25</th>\n      <td>70.820000</td>\n      <td>375.140015</td>\n      <td>65.510002</td>\n      <td>42.139999</td>\n      <td>110.550003</td>\n      <td>47.029999</td>\n      <td>114.500000</td>\n      <td>NaN</td>\n      <td>NaN</td>\n      <td>58.518501</td>\n      <td>...</td>\n      <td>76.680000</td>\n      <td>59.270000</td>\n      <td>28.285498</td>\n      <td>64.389999</td>\n      <td>117.199997</td>\n      <td>22.160000</td>\n      <td>54.290001</td>\n      <td>25.730000</td>\n      <td>2839.250000</td>\n      <td>2.621</td>\n    </tr>\n    <tr>\n      <th>2018-01-26</th>\n      <td>72.519997</td>\n      <td>377.000000</td>\n      <td>66.139999</td>\n      <td>42.799999</td>\n      <td>112.190002</td>\n      <td>47.189999</td>\n      <td>115.199997</td>\n      <td>NaN</td>\n      <td>NaN</td>\n      <td>58.792000</td>\n      <td>...</td>\n      <td>77.650002</td>\n      <td>60.000000</td>\n      <td>28.564955</td>\n      <td>65.279999</td>\n      <td>119.370003</td>\n      <td>24.270000</td>\n      <td>54.720001</td>\n      <td>26.040001</td>\n      <td>2872.870117</td>\n      <td>2.662</td>\n    </tr>\n    <tr>\n      <th>...</th>\n      <td>...</td>\n      <td>...</td>\n      <td>...</td>\n      <td>...</td>\n      <td>...</td>\n      <td>...</td>\n      <td>...</td>\n      <td>...</td>\n      <td>...</td>\n      <td>...</td>\n      <td>...</td>\n      <td>...</td>\n      <td>...</td>\n      <td>...</td>\n      <td>...</td>\n      <td>...</td>\n      <td>...</td>\n      <td>...</td>\n      <td>...</td>\n      <td>...</td>\n      <td>...</td>\n    </tr>\n    <tr>\n      <th>2022-12-20</th>\n      <td>75.879997</td>\n      <td>309.290009</td>\n      <td>76.089996</td>\n      <td>34.410000</td>\n      <td>87.019997</td>\n      <td>13.820000</td>\n      <td>120.419998</td>\n      <td>28.100000</td>\n      <td>29.950001</td>\n      <td>89.629997</td>\n      <td>...</td>\n      <td>77.809998</td>\n      <td>16.879999</td>\n      <td>18.070000</td>\n      <td>140.339996</td>\n      <td>98.110001</td>\n      <td>NaN</td>\n      <td>36.990002</td>\n      <td>9.030000</td>\n      <td>3821.620117</td>\n      <td>3.684</td>\n    </tr>\n    <tr>\n      <th>2022-12-21</th>\n      <td>75.889999</td>\n      <td>321.339996</td>\n      <td>78.290001</td>\n      <td>35.080002</td>\n      <td>86.919998</td>\n      <td>13.920000</td>\n      <td>122.500000</td>\n      <td>28.389999</td>\n      <td>30.330000</td>\n      <td>90.250000</td>\n      <td>...</td>\n      <td>78.769997</td>\n      <td>16.879999</td>\n      <td>18.150000</td>\n      <td>141.470001</td>\n      <td>99.879997</td>\n      <td>NaN</td>\n      <td>37.779999</td>\n      <td>9.040000</td>\n      <td>3878.439941</td>\n      <td>3.684</td>\n    </tr>\n    <tr>\n      <th>2022-12-22</th>\n      <td>75.699997</td>\n      <td>323.880005</td>\n      <td>77.489998</td>\n      <td>34.820000</td>\n      <td>86.669998</td>\n      <td>14.140000</td>\n      <td>121.419998</td>\n      <td>28.540001</td>\n      <td>30.500000</td>\n      <td>88.260002</td>\n      <td>...</td>\n      <td>78.779999</td>\n      <td>16.940001</td>\n      <td>18.270000</td>\n      <td>139.529999</td>\n      <td>99.269997</td>\n      <td>NaN</td>\n      <td>38.310001</td>\n      <td>9.230000</td>\n      <td>3822.389893</td>\n      <td>3.669</td>\n    </tr>\n    <tr>\n      <th>2022-12-23</th>\n      <td>75.949997</td>\n      <td>333.920013</td>\n      <td>79.559998</td>\n      <td>35.139999</td>\n      <td>88.010002</td>\n      <td>14.460000</td>\n      <td>121.510002</td>\n      <td>28.850000</td>\n      <td>30.760000</td>\n      <td>89.809998</td>\n      <td>...</td>\n      <td>80.500000</td>\n      <td>16.660000</td>\n      <td>18.309999</td>\n      <td>140.020004</td>\n      <td>99.830002</td>\n      <td>NaN</td>\n      <td>38.410000</td>\n      <td>9.170000</td>\n      <td>3844.820068</td>\n      <td>3.751</td>\n    </tr>\n    <tr>\n      <th>2022-12-27</th>\n      <td>75.790001</td>\n      <td>332.790009</td>\n      <td>79.529999</td>\n      <td>35.000000</td>\n      <td>86.370003</td>\n      <td>14.200000</td>\n      <td>120.820000</td>\n      <td>28.660000</td>\n      <td>30.620001</td>\n      <td>87.930000</td>\n      <td>...</td>\n      <td>81.379997</td>\n      <td>16.520000</td>\n      <td>18.459999</td>\n      <td>140.990005</td>\n      <td>99.379997</td>\n      <td>NaN</td>\n      <td>39.250000</td>\n      <td>9.230000</td>\n      <td>3829.250000</td>\n      <td>3.860</td>\n    </tr>\n  </tbody>\n</table></div>"
     },
     "execution_count": 38,
     "metadata": {},
     "output_type": "execute_result"
    }
   ],
   "source": [
    "matrix_features_sector"
   ],
   "metadata": {
    "collapsed": false
   }
  },
  {
   "cell_type": "code",
   "execution_count": 124,
   "outputs": [
    {
     "data": {
      "text/plain": "   Ticker       Date    Observed Predicted for   Predicted Recommended  \\\n1    TTWO 2022-12-01  106.400002    2022-12-01  105.488589         Buy   \n2    TTWO 2022-12-02  108.760002    2022-12-02  107.006165         Buy   \n3    TTWO 2022-12-05  106.980003    2022-12-05  108.495991         Buy   \n4    TTWO 2022-12-06  101.269997    2022-12-06  106.770016        Sell   \n5    TTWO 2022-12-07   99.489998    2022-12-07  101.419699        Sell   \n6    TTWO 2022-12-08  100.790001    2022-12-08  100.732976        Sell   \n7    TTWO 2022-12-09  102.059998    2022-12-09  100.620938        Sell   \n8    TTWO 2022-12-12  102.610001    2022-12-12  101.791880         Buy   \n9    TTWO 2022-12-13  104.550003    2022-12-13  102.905803         Buy   \n10   TTWO 2022-12-14  104.809998    2022-12-14  104.013359         Buy   \n11   TTWO 2022-12-15  101.660004    2022-12-15  104.912794         Buy   \n12   TTWO 2022-12-16  100.760002    2022-12-16  101.091178        Sell   \n13   TTWO 2022-12-19   98.589996    2022-12-19  100.217542        Sell   \n14   TTWO 2022-12-20   98.110001    2022-12-20   99.539860        Sell   \n15   TTWO 2022-12-21   99.879997    2022-12-21   99.428247        Sell   \n16   TTWO 2022-12-22   99.269997    2022-12-22   99.788054         Buy   \n17   TTWO 2022-12-23   99.830002    2022-12-23   99.783072        Sell   \n18   TTWO 2022-12-27   99.379997    2022-12-27  100.662096         Buy   \n19   TTWO 2022-12-28   99.690002    2022-12-28  100.489112        Sell   \n20   TTWO 2022-12-29         NaN    2022-12-29   99.646465        Sell   \n21   TTWO 2022-12-29         NaN    2022-12-29  101.546113         Buy   \n\n    Return %                  Sector    Model  \n1   0.671775  Communication Services  Lasso()  \n2   2.218046  Communication Services  Lasso()  \n3  -1.636630  Communication Services  Lasso()  \n4   5.638399  Communication Services  Lasso()  \n5   1.789123  Communication Services  Lasso()  \n6  -1.289814  Communication Services  Lasso()  \n7  -1.244363  Communication Services  Lasso()  \n8   0.538902  Communication Services  Lasso()  \n9   1.890656  Communication Services  Lasso()  \n10  0.248680  Communication Services  Lasso()  \n11 -3.005433  Communication Services  Lasso()  \n12  0.893213  Communication Services  Lasso()  \n13  2.201041  Communication Services  Lasso()  \n14  0.489242  Communication Services  Lasso()  \n15 -1.772123  Communication Services  Lasso()  \n16 -0.610734  Communication Services  Lasso()  \n17 -0.560959  Communication Services  Lasso()  \n18 -0.450771  Communication Services  Lasso()  \n19 -0.310969  Communication Services  Lasso()  \n20       NaN  Communication Services  Lasso()  \n21       NaN  Communication Services  Lasso()  ",
      "text/html": "<div><div id=b96e55d7-2467-4d7d-831a-d9421ddce696 style=\"display:none; background-color:#9D6CFF; color:white; width:200px; height:30px; padding-left:5px; border-radius:4px; flex-direction:row; justify-content:space-around; align-items:center;\" onmouseover=\"this.style.backgroundColor='#BA9BF8'\" onmouseout=\"this.style.backgroundColor='#9D6CFF'\" onclick=\"window.commands?.execute('create-mitosheet-from-dataframe-output');\">See Full Dataframe in Mito</div> <script> if (window.commands?.hasCommand('create-mitosheet-from-dataframe-output')) document.getElementById('b96e55d7-2467-4d7d-831a-d9421ddce696').style.display = 'flex' </script> <table border=\"1\" class=\"dataframe\">\n  <thead>\n    <tr style=\"text-align: right;\">\n      <th></th>\n      <th>Ticker</th>\n      <th>Date</th>\n      <th>Observed</th>\n      <th>Predicted for</th>\n      <th>Predicted</th>\n      <th>Recommended</th>\n      <th>Return %</th>\n      <th>Sector</th>\n      <th>Model</th>\n    </tr>\n  </thead>\n  <tbody>\n    <tr>\n      <th>1</th>\n      <td>TTWO</td>\n      <td>2022-12-01</td>\n      <td>106.400002</td>\n      <td>2022-12-01</td>\n      <td>105.488589</td>\n      <td>Buy</td>\n      <td>0.671775</td>\n      <td>Communication Services</td>\n      <td>Lasso()</td>\n    </tr>\n    <tr>\n      <th>2</th>\n      <td>TTWO</td>\n      <td>2022-12-02</td>\n      <td>108.760002</td>\n      <td>2022-12-02</td>\n      <td>107.006165</td>\n      <td>Buy</td>\n      <td>2.218046</td>\n      <td>Communication Services</td>\n      <td>Lasso()</td>\n    </tr>\n    <tr>\n      <th>3</th>\n      <td>TTWO</td>\n      <td>2022-12-05</td>\n      <td>106.980003</td>\n      <td>2022-12-05</td>\n      <td>108.495991</td>\n      <td>Buy</td>\n      <td>-1.636630</td>\n      <td>Communication Services</td>\n      <td>Lasso()</td>\n    </tr>\n    <tr>\n      <th>4</th>\n      <td>TTWO</td>\n      <td>2022-12-06</td>\n      <td>101.269997</td>\n      <td>2022-12-06</td>\n      <td>106.770016</td>\n      <td>Sell</td>\n      <td>5.638399</td>\n      <td>Communication Services</td>\n      <td>Lasso()</td>\n    </tr>\n    <tr>\n      <th>5</th>\n      <td>TTWO</td>\n      <td>2022-12-07</td>\n      <td>99.489998</td>\n      <td>2022-12-07</td>\n      <td>101.419699</td>\n      <td>Sell</td>\n      <td>1.789123</td>\n      <td>Communication Services</td>\n      <td>Lasso()</td>\n    </tr>\n    <tr>\n      <th>...</th>\n      <td>...</td>\n      <td>...</td>\n      <td>...</td>\n      <td>...</td>\n      <td>...</td>\n      <td>...</td>\n      <td>...</td>\n      <td>...</td>\n      <td>...</td>\n    </tr>\n    <tr>\n      <th>17</th>\n      <td>TTWO</td>\n      <td>2022-12-23</td>\n      <td>99.830002</td>\n      <td>2022-12-23</td>\n      <td>99.783072</td>\n      <td>Sell</td>\n      <td>-0.560959</td>\n      <td>Communication Services</td>\n      <td>Lasso()</td>\n    </tr>\n    <tr>\n      <th>18</th>\n      <td>TTWO</td>\n      <td>2022-12-27</td>\n      <td>99.379997</td>\n      <td>2022-12-27</td>\n      <td>100.662096</td>\n      <td>Buy</td>\n      <td>-0.450771</td>\n      <td>Communication Services</td>\n      <td>Lasso()</td>\n    </tr>\n    <tr>\n      <th>19</th>\n      <td>TTWO</td>\n      <td>2022-12-28</td>\n      <td>99.690002</td>\n      <td>2022-12-28</td>\n      <td>100.489112</td>\n      <td>Sell</td>\n      <td>-0.310969</td>\n      <td>Communication Services</td>\n      <td>Lasso()</td>\n    </tr>\n    <tr>\n      <th>20</th>\n      <td>TTWO</td>\n      <td>2022-12-29</td>\n      <td>NaN</td>\n      <td>2022-12-29</td>\n      <td>99.646465</td>\n      <td>Sell</td>\n      <td>NaN</td>\n      <td>Communication Services</td>\n      <td>Lasso()</td>\n    </tr>\n    <tr>\n      <th>21</th>\n      <td>TTWO</td>\n      <td>2022-12-29</td>\n      <td>NaN</td>\n      <td>2022-12-29</td>\n      <td>101.546113</td>\n      <td>Buy</td>\n      <td>NaN</td>\n      <td>Communication Services</td>\n      <td>Lasso()</td>\n    </tr>\n  </tbody>\n</table></div>"
     },
     "execution_count": 124,
     "metadata": {},
     "output_type": "execute_result"
    }
   ],
   "source": [
    "Results"
   ],
   "metadata": {
    "collapsed": false
   }
  },
  {
   "cell_type": "code",
   "execution_count": 40,
   "outputs": [
    {
     "name": "stdout",
     "output_type": "stream",
     "text": [
      "Ticker                   object\n",
      "Date             datetime64[ns]\n",
      "Observed                float64\n",
      "Predicted for    datetime64[ns]\n",
      "Predicted               float64\n",
      "Recommended              object\n",
      "Return %                float64\n",
      "Sector                   object\n",
      "Model                    object\n",
      "dtype: object\n"
     ]
    }
   ],
   "source": [
    "print(Results.dtypes)"
   ],
   "metadata": {
    "collapsed": false
   }
  },
  {
   "cell_type": "code",
   "execution_count": 84,
   "outputs": [
    {
     "name": "stdout",
     "output_type": "stream",
     "text": [
      "Ticker                             TTWO\n",
      "Date                2022-12-28 00:00:00\n",
      "Observed                            NaN\n",
      "Predicted for       2022-12-28 00:00:00\n",
      "Predicted                    100.490806\n",
      "Recommended                        Sell\n",
      "Return %                            NaN\n",
      "Sector           Communication Services\n",
      "Model                           Lasso()\n",
      "Name: 20, dtype: object\n"
     ]
    }
   ],
   "source": [
    "print(Results.iloc[-1])"
   ],
   "metadata": {
    "collapsed": false
   }
  },
  {
   "cell_type": "code",
   "execution_count": 41,
   "outputs": [],
   "source": [],
   "metadata": {
    "collapsed": false
   }
  },
  {
   "cell_type": "code",
   "execution_count": 72,
   "outputs": [
    {
     "name": "stdout",
     "output_type": "stream",
     "text": [
      "Ticker                   object\n",
      "Date             datetime64[ns]\n",
      "Observed                float64\n",
      "Predicted for    datetime64[ns]\n",
      "Predicted               float64\n",
      "Recommended              object\n",
      "Return %                float64\n",
      "Sector                   object\n",
      "Model                    object\n",
      "dtype: object\n"
     ]
    }
   ],
   "source": [
    "save_dataframe_to_bucket(Results, \"Results_2.csv\")\n",
    "Results_2=read_dataframe_from_bucket(\"Results_2.csv\")\n",
    "Results_2['Date'] =  pd.to_datetime(Results_2['Date'], infer_datetime_format=True)\n",
    "Results_2['Predicted for'] =  pd.to_datetime(Results_2['Predicted for'], infer_datetime_format=True)\n",
    "print(Results_2.dtypes)"
   ],
   "metadata": {
    "collapsed": false
   }
  },
  {
   "cell_type": "code",
   "execution_count": 73,
   "outputs": [
    {
     "data": {
      "text/plain": "   Ticker       Date    Observed Predicted for   Predicted Recommended  \\\n0    TTWO 2022-11-30  105.690002    2022-11-30  100.055661        Sell   \n1    TTWO 2022-12-01  106.400002    2022-12-01  105.485446         Buy   \n2    TTWO 2022-12-02  108.760002    2022-12-02  106.993596         Buy   \n3    TTWO 2022-12-05  106.980003    2022-12-05  108.497596         Buy   \n4    TTWO 2022-12-06  101.269997    2022-12-06  106.790140        Sell   \n5    TTWO 2022-12-07   99.489998    2022-12-07  101.427272        Sell   \n6    TTWO 2022-12-08  100.790001    2022-12-08  100.725089        Sell   \n7    TTWO 2022-12-09  102.059998    2022-12-09  100.625212        Sell   \n8    TTWO 2022-12-12  102.610001    2022-12-12  101.810045         Buy   \n9    TTWO 2022-12-13  104.550003    2022-12-13  102.907522         Buy   \n10   TTWO 2022-12-14  104.809998    2022-12-14  104.024361         Buy   \n11   TTWO 2022-12-15  101.660004    2022-12-15  104.928221         Buy   \n12   TTWO 2022-12-16  100.760002    2022-12-16  101.095692        Sell   \n13   TTWO 2022-12-19   98.589996    2022-12-19  100.222758        Sell   \n14   TTWO 2022-12-20   98.110001    2022-12-20   99.536440        Sell   \n15   TTWO 2022-12-21   99.879997    2022-12-21   99.424772        Sell   \n16   TTWO 2022-12-22   99.269997    2022-12-22   99.797860         Buy   \n17   TTWO 2022-12-23   99.830002    2022-12-23   99.798034         Buy   \n18   TTWO 2022-12-27   99.379997    2022-12-27  100.668609         Buy   \n19   TTWO 2022-12-28         NaN    2022-12-28  100.490806        Sell   \n\n    Return %                  Sector    Model  \n0  -4.106352  Communication Services  Lasso()  \n1   0.671775  Communication Services  Lasso()  \n2   2.218046  Communication Services  Lasso()  \n3  -1.636630  Communication Services  Lasso()  \n4   5.638399  Communication Services  Lasso()  \n5   1.789123  Communication Services  Lasso()  \n6  -1.289814  Communication Services  Lasso()  \n7  -1.244363  Communication Services  Lasso()  \n8   0.538902  Communication Services  Lasso()  \n9   1.890656  Communication Services  Lasso()  \n10  0.248680  Communication Services  Lasso()  \n11 -3.005433  Communication Services  Lasso()  \n12  0.893213  Communication Services  Lasso()  \n13  2.201041  Communication Services  Lasso()  \n14  0.489242  Communication Services  Lasso()  \n15 -1.772123  Communication Services  Lasso()  \n16 -0.610734  Communication Services  Lasso()  \n17  0.564123  Communication Services  Lasso()  \n18 -0.450771  Communication Services  Lasso()  \n19       NaN  Communication Services  Lasso()  ",
      "text/html": "<div><div id=12fd4c4b-0f27-41c0-8c8f-d1c093cf5d26 style=\"display:none; background-color:#9D6CFF; color:white; width:200px; height:30px; padding-left:5px; border-radius:4px; flex-direction:row; justify-content:space-around; align-items:center;\" onmouseover=\"this.style.backgroundColor='#BA9BF8'\" onmouseout=\"this.style.backgroundColor='#9D6CFF'\" onclick=\"window.commands?.execute('create-mitosheet-from-dataframe-output');\">See Full Dataframe in Mito</div> <script> if (window.commands?.hasCommand('create-mitosheet-from-dataframe-output')) document.getElementById('12fd4c4b-0f27-41c0-8c8f-d1c093cf5d26').style.display = 'flex' </script> <table border=\"1\" class=\"dataframe\">\n  <thead>\n    <tr style=\"text-align: right;\">\n      <th></th>\n      <th>Ticker</th>\n      <th>Date</th>\n      <th>Observed</th>\n      <th>Predicted for</th>\n      <th>Predicted</th>\n      <th>Recommended</th>\n      <th>Return %</th>\n      <th>Sector</th>\n      <th>Model</th>\n    </tr>\n  </thead>\n  <tbody>\n    <tr>\n      <th>0</th>\n      <td>TTWO</td>\n      <td>2022-11-30</td>\n      <td>105.690002</td>\n      <td>2022-11-30</td>\n      <td>100.055661</td>\n      <td>Sell</td>\n      <td>-4.106352</td>\n      <td>Communication Services</td>\n      <td>Lasso()</td>\n    </tr>\n    <tr>\n      <th>1</th>\n      <td>TTWO</td>\n      <td>2022-12-01</td>\n      <td>106.400002</td>\n      <td>2022-12-01</td>\n      <td>105.485446</td>\n      <td>Buy</td>\n      <td>0.671775</td>\n      <td>Communication Services</td>\n      <td>Lasso()</td>\n    </tr>\n    <tr>\n      <th>2</th>\n      <td>TTWO</td>\n      <td>2022-12-02</td>\n      <td>108.760002</td>\n      <td>2022-12-02</td>\n      <td>106.993596</td>\n      <td>Buy</td>\n      <td>2.218046</td>\n      <td>Communication Services</td>\n      <td>Lasso()</td>\n    </tr>\n    <tr>\n      <th>3</th>\n      <td>TTWO</td>\n      <td>2022-12-05</td>\n      <td>106.980003</td>\n      <td>2022-12-05</td>\n      <td>108.497596</td>\n      <td>Buy</td>\n      <td>-1.636630</td>\n      <td>Communication Services</td>\n      <td>Lasso()</td>\n    </tr>\n    <tr>\n      <th>4</th>\n      <td>TTWO</td>\n      <td>2022-12-06</td>\n      <td>101.269997</td>\n      <td>2022-12-06</td>\n      <td>106.790140</td>\n      <td>Sell</td>\n      <td>5.638399</td>\n      <td>Communication Services</td>\n      <td>Lasso()</td>\n    </tr>\n    <tr>\n      <th>...</th>\n      <td>...</td>\n      <td>...</td>\n      <td>...</td>\n      <td>...</td>\n      <td>...</td>\n      <td>...</td>\n      <td>...</td>\n      <td>...</td>\n      <td>...</td>\n    </tr>\n    <tr>\n      <th>15</th>\n      <td>TTWO</td>\n      <td>2022-12-21</td>\n      <td>99.879997</td>\n      <td>2022-12-21</td>\n      <td>99.424772</td>\n      <td>Sell</td>\n      <td>-1.772123</td>\n      <td>Communication Services</td>\n      <td>Lasso()</td>\n    </tr>\n    <tr>\n      <th>16</th>\n      <td>TTWO</td>\n      <td>2022-12-22</td>\n      <td>99.269997</td>\n      <td>2022-12-22</td>\n      <td>99.797860</td>\n      <td>Buy</td>\n      <td>-0.610734</td>\n      <td>Communication Services</td>\n      <td>Lasso()</td>\n    </tr>\n    <tr>\n      <th>17</th>\n      <td>TTWO</td>\n      <td>2022-12-23</td>\n      <td>99.830002</td>\n      <td>2022-12-23</td>\n      <td>99.798034</td>\n      <td>Buy</td>\n      <td>0.564123</td>\n      <td>Communication Services</td>\n      <td>Lasso()</td>\n    </tr>\n    <tr>\n      <th>18</th>\n      <td>TTWO</td>\n      <td>2022-12-27</td>\n      <td>99.379997</td>\n      <td>2022-12-27</td>\n      <td>100.668609</td>\n      <td>Buy</td>\n      <td>-0.450771</td>\n      <td>Communication Services</td>\n      <td>Lasso()</td>\n    </tr>\n    <tr>\n      <th>19</th>\n      <td>TTWO</td>\n      <td>2022-12-28</td>\n      <td>NaN</td>\n      <td>2022-12-28</td>\n      <td>100.490806</td>\n      <td>Sell</td>\n      <td>NaN</td>\n      <td>Communication Services</td>\n      <td>Lasso()</td>\n    </tr>\n  </tbody>\n</table></div>"
     },
     "execution_count": 73,
     "metadata": {},
     "output_type": "execute_result"
    }
   ],
   "source": [
    "Results_2"
   ],
   "metadata": {
    "collapsed": false
   }
  },
  {
   "cell_type": "code",
   "execution_count": 36,
   "id": "ec2dbb7a",
   "metadata": {},
   "outputs": [],
   "source": []
  },
  {
   "cell_type": "code",
   "execution_count": 37,
   "id": "dece896c",
   "metadata": {},
   "outputs": [
    {
     "name": "stdout",
     "output_type": "stream",
     "text": [
      "503\n",
      "11\n",
      "114\n"
     ]
    }
   ],
   "source": [
    "#Testing Unique function\n",
    "#there is multiple way to get unique items in array. np.unique is one of them\n",
    "unique_SP500_tickers=np.unique(SP500_list[:,0])\n",
    "unique_SP500_sectors=np.unique(SP500_list[:,1])\n",
    "unique_SP500_industries=np.unique(SP500_list[:,2])\n",
    "print(len(unique_SP500_tickers))\n",
    "print(len(unique_SP500_sectors))\n",
    "print(len(unique_SP500_industries))"
   ]
  },
  {
   "cell_type": "code",
   "execution_count": 37,
   "id": "4cbb4213",
   "metadata": {},
   "outputs": [],
   "source": []
  },
  {
   "cell_type": "code",
   "execution_count": 38,
   "id": "683c21ed",
   "metadata": {},
   "outputs": [
    {
     "name": "stdout",
     "output_type": "stream",
     "text": [
      "days = 1800\n",
      "lags = 30\n",
      "nb_predict_days=30\n",
      "Model Input ->predict days 30\n",
      "Model Period->yesterday 2022-12-28 20:13:06.946795\n",
      "Model period->train_date_start 2018-01-23\n",
      "Model Period->train_date_last 2022-11-27\n",
      "Model Period->test_date_start 2022-11-28\n",
      "Model Period->test_date_last 2022-12-28\n"
     ]
    }
   ],
   "source": [
    "#test for function initialize data - we want to check the test date last\n",
    "print(f\"days = {days}\")\n",
    "print(f\"lags = {lags}\")\n",
    "print(f\"nb_predict_days={nb_predict_days}\")\n",
    "yesterday, start_date, train_date_start, train_date_last, test_date_start, test_date_last,days=initialize_data(days,lags,nb_predict_days)\n",
    "\n",
    "\n",
    "print(f\"Model Input ->predict days {nb_predict_days}\")\n",
    "print(f\"Model Period->yesterday {yesterday}\")\n",
    "print(f\"Model period->train_date_start {train_date_start}\")\n",
    "print(f\"Model Period->train_date_last {train_date_last}\")\n",
    "print(f\"Model Period->test_date_start {test_date_start}\")\n",
    "print(f\"Model Period->test_date_last {test_date_last}\")\n",
    "\n"
   ]
  },
  {
   "cell_type": "code",
   "execution_count": 38,
   "id": "22759db9",
   "metadata": {},
   "outputs": [],
   "source": []
  },
  {
   "cell_type": "code",
   "execution_count": 39,
   "id": "4cb11748",
   "metadata": {},
   "outputs": [
    {
     "name": "stdout",
     "output_type": "stream",
     "text": [
      "[['ATVI' 'Communication Services' 'Electronic Gaming & Multimedia']\n",
      " ['CHTR' 'Communication Services' 'Telecom Services']\n",
      " ['CMCSA' 'Communication Services' 'Telecom Services']\n",
      " ['DIS' 'Communication Services' 'Entertainment']\n",
      " ['DISH' 'Communication Services' 'Telecom Services']\n",
      " ['EA' 'Communication Services' 'Electronic Gaming & Multimedia']\n",
      " ['FOX' 'Communication Services' 'Entertainment']\n",
      " ['FOXA' 'Communication Services' 'Entertainment']\n",
      " ['GOOG' 'Communication Services' 'Internet Content & Information']\n",
      " ['GOOGL' 'Communication Services' 'Internet Content & Information']\n",
      " ['IPG' 'Communication Services' 'Advertising Agencies']\n",
      " ['LUMN' 'Communication Services' 'Telecom Services']\n",
      " ['LYV' 'Communication Services' 'Entertainment']\n",
      " ['META' 'Communication Services' 'Internet Content & Information']\n",
      " ['MTCH' 'Communication Services' 'Internet Content & Information']\n",
      " ['NFLX' 'Communication Services' 'Entertainment']\n",
      " ['NWS' 'Communication Services' 'Entertainment']\n",
      " ['NWSA' 'Communication Services' 'Entertainment']\n",
      " ['OMC' 'Communication Services' 'Advertising Agencies']\n",
      " ['PARA' 'Communication Services' 'Entertainment']\n",
      " ['T' 'Communication Services' 'Telecom Services']\n",
      " ['TMUS' 'Communication Services' 'Telecom Services']\n",
      " ['TTWO' 'Communication Services' 'Electronic Gaming & Multimedia']\n",
      " ['TWTR' 'Communication Services' 'Internet Content & Information']\n",
      " ['VZ' 'Communication Services' 'Telecom Services']\n",
      " ['WBD' 'Communication Services' 'Entertainment']]\n",
      "['ATVI' 'CHTR' 'CMCSA' 'DIS' 'DISH' 'EA' 'FOX' 'FOXA' 'GOOG' 'GOOGL' 'IPG'\n",
      " 'LUMN' 'LYV' 'META' 'MTCH' 'NFLX' 'NWS' 'NWSA' 'OMC' 'PARA' 'T' 'TMUS'\n",
      " 'TTWO' 'TWTR' 'VZ' 'WBD']\n",
      "['ATVI', 'CHTR', 'CMCSA', 'DIS', 'DISH', 'EA', 'FOX', 'FOXA', 'GOOG', 'GOOGL', 'IPG', 'LUMN', 'LYV', 'META', 'MTCH', 'NFLX', 'NWS', 'NWSA', 'OMC', 'PARA', 'T', 'TMUS', 'TTWO', 'TWTR', 'VZ', 'WBD']\n"
     ]
    }
   ],
   "source": [
    "#This is to test the filter function in numpy - here we're extracting all tickers for a sector\n",
    "#ticker='TTWO'  #not required below\n",
    "sector=\"Communication Services\"\n",
    "filename_json = \"SP500.json\"\n",
    "SP500_list = read_list(filename_json)\n",
    "SP500_list = np.array(SP500_list)  # we need an array\n",
    "\n",
    "\n",
    "sub_list_tickers = np.array(SP500_list)\n",
    "fltr = np.asarray([sector])\n",
    "results = sub_list_tickers[np.in1d(sub_list_tickers[:, 1], fltr)]\n",
    "print(results)\n",
    "print(results[:, 0])\n",
    "# on veut extraire les tickers donc toutes les rangees (0:0) et la colonne 0 donc (0:1)\n",
    "\n",
    "print(results[:, 0].tolist())"
   ]
  },
  {
   "cell_type": "code",
   "execution_count": 40,
   "id": "fb4382cb",
   "metadata": {},
   "outputs": [
    {
     "name": "stdout",
     "output_type": "stream",
     "text": [
      "2018-01-23 20:13:06.946795\n",
      "2022-12-28 20:13:06.946795\n"
     ]
    },
    {
     "data": {
      "text/plain": "                  open        high         low       close    adjclose  \\\n2018-01-23   44.325001   44.860001   44.205002   44.259998   42.086819   \n2018-01-24   44.312500   44.325001   43.299999   43.555000   41.416439   \n2018-01-25   43.627499   43.737499   42.632500   42.777500   40.677116   \n2018-01-26   43.000000   43.000000   42.514999   42.877499   40.772202   \n2018-01-29   42.540001   42.540001   41.767502   41.990002   39.928284   \n...                ...         ...         ...         ...         ...   \n2022-12-20  131.389999  133.250000  129.889999  132.300003  132.300003   \n2022-12-21  132.979996  136.809998  132.750000  135.449997  135.449997   \n2022-12-22  134.350006  134.559998  130.300003  132.229996  132.229996   \n2022-12-23  130.919998  132.419998  129.639999  131.860001  131.860001   \n2022-12-27  131.380005  131.408005  128.720703  130.029999  130.029999   \n\n               volume ticker  \n2018-01-23  130756400   AAPL  \n2018-01-24  204420400   AAPL  \n2018-01-25  166116000   AAPL  \n2018-01-26  156572000   AAPL  \n2018-01-29  202561600   AAPL  \n...               ...    ...  \n2022-12-20   77432800   AAPL  \n2022-12-21   85928000   AAPL  \n2022-12-22   77852100   AAPL  \n2022-12-23   63771000   AAPL  \n2022-12-27   68816998   AAPL  \n\n[1242 rows x 7 columns]",
      "text/html": "<div><div id=94a05849-e9b9-4264-94be-57063378f162 style=\"display:none; background-color:#9D6CFF; color:white; width:200px; height:30px; padding-left:5px; border-radius:4px; flex-direction:row; justify-content:space-around; align-items:center;\" onmouseover=\"this.style.backgroundColor='#BA9BF8'\" onmouseout=\"this.style.backgroundColor='#9D6CFF'\" onclick=\"window.commands?.execute('create-mitosheet-from-dataframe-output');\">See Full Dataframe in Mito</div> <script> if (window.commands?.hasCommand('create-mitosheet-from-dataframe-output')) document.getElementById('94a05849-e9b9-4264-94be-57063378f162').style.display = 'flex' </script> <table border=\"1\" class=\"dataframe\">\n  <thead>\n    <tr style=\"text-align: right;\">\n      <th></th>\n      <th>open</th>\n      <th>high</th>\n      <th>low</th>\n      <th>close</th>\n      <th>adjclose</th>\n      <th>volume</th>\n      <th>ticker</th>\n    </tr>\n  </thead>\n  <tbody>\n    <tr>\n      <th>2018-01-23</th>\n      <td>44.325001</td>\n      <td>44.860001</td>\n      <td>44.205002</td>\n      <td>44.259998</td>\n      <td>42.086819</td>\n      <td>130756400</td>\n      <td>AAPL</td>\n    </tr>\n    <tr>\n      <th>2018-01-24</th>\n      <td>44.312500</td>\n      <td>44.325001</td>\n      <td>43.299999</td>\n      <td>43.555000</td>\n      <td>41.416439</td>\n      <td>204420400</td>\n      <td>AAPL</td>\n    </tr>\n    <tr>\n      <th>2018-01-25</th>\n      <td>43.627499</td>\n      <td>43.737499</td>\n      <td>42.632500</td>\n      <td>42.777500</td>\n      <td>40.677116</td>\n      <td>166116000</td>\n      <td>AAPL</td>\n    </tr>\n    <tr>\n      <th>2018-01-26</th>\n      <td>43.000000</td>\n      <td>43.000000</td>\n      <td>42.514999</td>\n      <td>42.877499</td>\n      <td>40.772202</td>\n      <td>156572000</td>\n      <td>AAPL</td>\n    </tr>\n    <tr>\n      <th>2018-01-29</th>\n      <td>42.540001</td>\n      <td>42.540001</td>\n      <td>41.767502</td>\n      <td>41.990002</td>\n      <td>39.928284</td>\n      <td>202561600</td>\n      <td>AAPL</td>\n    </tr>\n    <tr>\n      <th>...</th>\n      <td>...</td>\n      <td>...</td>\n      <td>...</td>\n      <td>...</td>\n      <td>...</td>\n      <td>...</td>\n      <td>...</td>\n    </tr>\n    <tr>\n      <th>2022-12-20</th>\n      <td>131.389999</td>\n      <td>133.250000</td>\n      <td>129.889999</td>\n      <td>132.300003</td>\n      <td>132.300003</td>\n      <td>77432800</td>\n      <td>AAPL</td>\n    </tr>\n    <tr>\n      <th>2022-12-21</th>\n      <td>132.979996</td>\n      <td>136.809998</td>\n      <td>132.750000</td>\n      <td>135.449997</td>\n      <td>135.449997</td>\n      <td>85928000</td>\n      <td>AAPL</td>\n    </tr>\n    <tr>\n      <th>2022-12-22</th>\n      <td>134.350006</td>\n      <td>134.559998</td>\n      <td>130.300003</td>\n      <td>132.229996</td>\n      <td>132.229996</td>\n      <td>77852100</td>\n      <td>AAPL</td>\n    </tr>\n    <tr>\n      <th>2022-12-23</th>\n      <td>130.919998</td>\n      <td>132.419998</td>\n      <td>129.639999</td>\n      <td>131.860001</td>\n      <td>131.860001</td>\n      <td>63771000</td>\n      <td>AAPL</td>\n    </tr>\n    <tr>\n      <th>2022-12-27</th>\n      <td>131.380005</td>\n      <td>131.408005</td>\n      <td>128.720703</td>\n      <td>130.029999</td>\n      <td>130.029999</td>\n      <td>68816998</td>\n      <td>AAPL</td>\n    </tr>\n  </tbody>\n</table></div>"
     },
     "execution_count": 40,
     "metadata": {},
     "output_type": "execute_result"
    }
   ],
   "source": [
    "#test si.get_data does not take last date therefore +timedelta(1)\n",
    "print(start_date)\n",
    "print(yesterday)\n",
    "si.get_data('aapl', start_date, yesterday+timedelta(1))"
   ]
  },
  {
   "cell_type": "code",
   "execution_count": 41,
   "id": "027a604d",
   "metadata": {},
   "outputs": [
    {
     "data": {
      "text/plain": "                 open       high        low      close   adjclose  \\\n2013-11-07  45.099998  50.090000  44.000000  44.900002  44.900002   \n2013-11-08  45.930000  46.939999  40.685001  41.650002  41.650002   \n2013-11-11  40.500000  43.000000  39.400002  42.900002  42.900002   \n2013-11-12  43.660000  43.779999  41.830002  41.900002  41.900002   \n2013-11-13  41.029999  42.869999  40.759998  42.599998  42.599998   \n...               ...        ...        ...        ...        ...   \n2022-12-19  53.910000  54.000000  53.700001  53.700001  53.700001   \n2022-12-20  53.910000  54.000000  53.700001  53.700001  53.700001   \n2022-12-21  53.910000  54.000000  53.700001  53.700001  53.700001   \n2022-12-22  53.910000  54.000000  53.700001  53.700001  53.700001   \n2022-12-23  53.910000  54.000000  53.700001  53.700001  53.700001   \n\n                 volume ticker  \n2013-11-07  117701670.0   TWTR  \n2013-11-08   27925307.0   TWTR  \n2013-11-11   16113941.0   TWTR  \n2013-11-12    6316755.0   TWTR  \n2013-11-13    8688325.0   TWTR  \n...                 ...    ...  \n2022-12-19  136345128.0   TWTR  \n2022-12-20  136345128.0   TWTR  \n2022-12-21  136345128.0   TWTR  \n2022-12-22  136345128.0   TWTR  \n2022-12-23  136345128.0   TWTR  \n\n[2299 rows x 7 columns]",
      "text/html": "<div><div id=a204891f-3fa2-4b1e-ba07-0b643fa9f616 style=\"display:none; background-color:#9D6CFF; color:white; width:200px; height:30px; padding-left:5px; border-radius:4px; flex-direction:row; justify-content:space-around; align-items:center;\" onmouseover=\"this.style.backgroundColor='#BA9BF8'\" onmouseout=\"this.style.backgroundColor='#9D6CFF'\" onclick=\"window.commands?.execute('create-mitosheet-from-dataframe-output');\">See Full Dataframe in Mito</div> <script> if (window.commands?.hasCommand('create-mitosheet-from-dataframe-output')) document.getElementById('a204891f-3fa2-4b1e-ba07-0b643fa9f616').style.display = 'flex' </script> <table border=\"1\" class=\"dataframe\">\n  <thead>\n    <tr style=\"text-align: right;\">\n      <th></th>\n      <th>open</th>\n      <th>high</th>\n      <th>low</th>\n      <th>close</th>\n      <th>adjclose</th>\n      <th>volume</th>\n      <th>ticker</th>\n    </tr>\n  </thead>\n  <tbody>\n    <tr>\n      <th>2013-11-07</th>\n      <td>45.099998</td>\n      <td>50.090000</td>\n      <td>44.000000</td>\n      <td>44.900002</td>\n      <td>44.900002</td>\n      <td>117701670.0</td>\n      <td>TWTR</td>\n    </tr>\n    <tr>\n      <th>2013-11-08</th>\n      <td>45.930000</td>\n      <td>46.939999</td>\n      <td>40.685001</td>\n      <td>41.650002</td>\n      <td>41.650002</td>\n      <td>27925307.0</td>\n      <td>TWTR</td>\n    </tr>\n    <tr>\n      <th>2013-11-11</th>\n      <td>40.500000</td>\n      <td>43.000000</td>\n      <td>39.400002</td>\n      <td>42.900002</td>\n      <td>42.900002</td>\n      <td>16113941.0</td>\n      <td>TWTR</td>\n    </tr>\n    <tr>\n      <th>2013-11-12</th>\n      <td>43.660000</td>\n      <td>43.779999</td>\n      <td>41.830002</td>\n      <td>41.900002</td>\n      <td>41.900002</td>\n      <td>6316755.0</td>\n      <td>TWTR</td>\n    </tr>\n    <tr>\n      <th>2013-11-13</th>\n      <td>41.029999</td>\n      <td>42.869999</td>\n      <td>40.759998</td>\n      <td>42.599998</td>\n      <td>42.599998</td>\n      <td>8688325.0</td>\n      <td>TWTR</td>\n    </tr>\n    <tr>\n      <th>...</th>\n      <td>...</td>\n      <td>...</td>\n      <td>...</td>\n      <td>...</td>\n      <td>...</td>\n      <td>...</td>\n      <td>...</td>\n    </tr>\n    <tr>\n      <th>2022-12-19</th>\n      <td>53.910000</td>\n      <td>54.000000</td>\n      <td>53.700001</td>\n      <td>53.700001</td>\n      <td>53.700001</td>\n      <td>136345128.0</td>\n      <td>TWTR</td>\n    </tr>\n    <tr>\n      <th>2022-12-20</th>\n      <td>53.910000</td>\n      <td>54.000000</td>\n      <td>53.700001</td>\n      <td>53.700001</td>\n      <td>53.700001</td>\n      <td>136345128.0</td>\n      <td>TWTR</td>\n    </tr>\n    <tr>\n      <th>2022-12-21</th>\n      <td>53.910000</td>\n      <td>54.000000</td>\n      <td>53.700001</td>\n      <td>53.700001</td>\n      <td>53.700001</td>\n      <td>136345128.0</td>\n      <td>TWTR</td>\n    </tr>\n    <tr>\n      <th>2022-12-22</th>\n      <td>53.910000</td>\n      <td>54.000000</td>\n      <td>53.700001</td>\n      <td>53.700001</td>\n      <td>53.700001</td>\n      <td>136345128.0</td>\n      <td>TWTR</td>\n    </tr>\n    <tr>\n      <th>2022-12-23</th>\n      <td>53.910000</td>\n      <td>54.000000</td>\n      <td>53.700001</td>\n      <td>53.700001</td>\n      <td>53.700001</td>\n      <td>136345128.0</td>\n      <td>TWTR</td>\n    </tr>\n  </tbody>\n</table></div>"
     },
     "execution_count": 41,
     "metadata": {},
     "output_type": "execute_result"
    }
   ],
   "source": [
    "#test the ffill NA function using tweeter data in december that was empty\n",
    "test=si.get_data('twtr')\n",
    "test=test.fillna(method='ffill')\n",
    "test"
   ]
  },
  {
   "cell_type": "code",
   "execution_count": 42,
   "outputs": [
    {
     "name": "stdout",
     "output_type": "stream",
     "text": [
      "Defaulting to user installation because normal site-packages is not writeable\r\n",
      "Requirement already satisfied: google-cloud-logging in /home/steve/.local/lib/python3.10/site-packages (3.3.1)\r\n",
      "Collecting google-cloud-logging\r\n",
      "  Downloading google_cloud_logging-3.4.0-py2.py3-none-any.whl (195 kB)\r\n",
      "\u001B[2K     \u001B[90m━━━━━━━━━━━━━━━━━━━━━━━━━━━━━━━━━━━━━━━\u001B[0m \u001B[32m195.2/195.2 KB\u001B[0m \u001B[31m3.6 MB/s\u001B[0m eta \u001B[36m0:00:00\u001B[0ma \u001B[36m0:00:01\u001B[0m\r\n",
      "\u001B[?25hRequirement already satisfied: google-cloud-appengine-logging<2.0.0dev,>=0.1.0 in /home/steve/.local/lib/python3.10/site-packages (from google-cloud-logging) (1.1.6)\r\n",
      "Requirement already satisfied: protobuf!=3.20.0,!=3.20.1,!=4.21.0,!=4.21.1,!=4.21.2,!=4.21.3,!=4.21.4,!=4.21.5,<5.0.0dev,>=3.19.5 in /home/steve/.local/lib/python3.10/site-packages (from google-cloud-logging) (4.21.9)\r\n",
      "Requirement already satisfied: google-cloud-audit-log<1.0.0dev,>=0.1.0 in /home/steve/.local/lib/python3.10/site-packages (from google-cloud-logging) (0.2.4)\r\n",
      "Requirement already satisfied: google-cloud-core<3.0.0dev,>=2.0.0 in /home/steve/.local/lib/python3.10/site-packages (from google-cloud-logging) (2.3.2)\r\n",
      "Requirement already satisfied: proto-plus<2.0.0dev,>=1.22.0 in /home/steve/.local/lib/python3.10/site-packages (from google-cloud-logging) (1.22.1)\r\n",
      "Requirement already satisfied: grpc-google-iam-v1<1.0.0dev,>=0.12.4 in /home/steve/.local/lib/python3.10/site-packages (from google-cloud-logging) (0.12.4)\r\n",
      "Requirement already satisfied: google-api-core[grpc]!=2.0.*,!=2.1.*,!=2.2.*,!=2.3.*,!=2.4.*,!=2.5.*,!=2.6.*,!=2.7.*,<3.0.0dev,>=1.33.2 in /home/steve/.local/lib/python3.10/site-packages (from google-cloud-logging) (2.10.2)\r\n",
      "Requirement already satisfied: google-auth<3.0dev,>=1.25.0 in /home/steve/.local/lib/python3.10/site-packages (from google-api-core[grpc]!=2.0.*,!=2.1.*,!=2.2.*,!=2.3.*,!=2.4.*,!=2.5.*,!=2.6.*,!=2.7.*,<3.0.0dev,>=1.33.2->google-cloud-logging) (2.14.0)\r\n",
      "Requirement already satisfied: googleapis-common-protos<2.0dev,>=1.56.2 in /home/steve/.local/lib/python3.10/site-packages (from google-api-core[grpc]!=2.0.*,!=2.1.*,!=2.2.*,!=2.3.*,!=2.4.*,!=2.5.*,!=2.6.*,!=2.7.*,<3.0.0dev,>=1.33.2->google-cloud-logging) (1.56.4)\r\n",
      "Requirement already satisfied: requests<3.0.0dev,>=2.18.0 in /usr/lib/python3/dist-packages (from google-api-core[grpc]!=2.0.*,!=2.1.*,!=2.2.*,!=2.3.*,!=2.4.*,!=2.5.*,!=2.6.*,!=2.7.*,<3.0.0dev,>=1.33.2->google-cloud-logging) (2.25.1)\r\n",
      "Requirement already satisfied: grpcio-status<2.0dev,>=1.33.2 in /home/steve/.local/lib/python3.10/site-packages (from google-api-core[grpc]!=2.0.*,!=2.1.*,!=2.2.*,!=2.3.*,!=2.4.*,!=2.5.*,!=2.6.*,!=2.7.*,<3.0.0dev,>=1.33.2->google-cloud-logging) (1.51.1)\r\n",
      "Requirement already satisfied: grpcio<2.0dev,>=1.33.2 in /home/steve/.local/lib/python3.10/site-packages (from google-api-core[grpc]!=2.0.*,!=2.1.*,!=2.2.*,!=2.3.*,!=2.4.*,!=2.5.*,!=2.6.*,!=2.7.*,<3.0.0dev,>=1.33.2->google-cloud-logging) (1.51.1)\r\n",
      "Requirement already satisfied: cachetools<6.0,>=2.0.0 in /home/steve/.local/lib/python3.10/site-packages (from google-auth<3.0dev,>=1.25.0->google-api-core[grpc]!=2.0.*,!=2.1.*,!=2.2.*,!=2.3.*,!=2.4.*,!=2.5.*,!=2.6.*,!=2.7.*,<3.0.0dev,>=1.33.2->google-cloud-logging) (5.2.0)\r\n",
      "Requirement already satisfied: pyasn1-modules>=0.2.1 in /home/steve/.local/lib/python3.10/site-packages (from google-auth<3.0dev,>=1.25.0->google-api-core[grpc]!=2.0.*,!=2.1.*,!=2.2.*,!=2.3.*,!=2.4.*,!=2.5.*,!=2.6.*,!=2.7.*,<3.0.0dev,>=1.33.2->google-cloud-logging) (0.2.8)\r\n",
      "Requirement already satisfied: rsa<5,>=3.1.4 in /home/steve/.local/lib/python3.10/site-packages (from google-auth<3.0dev,>=1.25.0->google-api-core[grpc]!=2.0.*,!=2.1.*,!=2.2.*,!=2.3.*,!=2.4.*,!=2.5.*,!=2.6.*,!=2.7.*,<3.0.0dev,>=1.33.2->google-cloud-logging) (4.9)\r\n",
      "Requirement already satisfied: six>=1.9.0 in /usr/lib/python3/dist-packages (from google-auth<3.0dev,>=1.25.0->google-api-core[grpc]!=2.0.*,!=2.1.*,!=2.2.*,!=2.3.*,!=2.4.*,!=2.5.*,!=2.6.*,!=2.7.*,<3.0.0dev,>=1.33.2->google-cloud-logging) (1.16.0)\r\n",
      "Requirement already satisfied: pyasn1<0.5.0,>=0.4.6 in /home/steve/.local/lib/python3.10/site-packages (from pyasn1-modules>=0.2.1->google-auth<3.0dev,>=1.25.0->google-api-core[grpc]!=2.0.*,!=2.1.*,!=2.2.*,!=2.3.*,!=2.4.*,!=2.5.*,!=2.6.*,!=2.7.*,<3.0.0dev,>=1.33.2->google-cloud-logging) (0.4.8)\r\n",
      "Installing collected packages: google-cloud-logging\r\n",
      "  Attempting uninstall: google-cloud-logging\r\n",
      "    Found existing installation: google-cloud-logging 3.3.1\r\n",
      "    Uninstalling google-cloud-logging-3.3.1:\r\n",
      "      Successfully uninstalled google-cloud-logging-3.3.1\r\n",
      "Successfully installed google-cloud-logging-3.4.0\r\n",
      "Note: you may need to restart the kernel to use updated packages.\n"
     ]
    }
   ],
   "source": [
    "pip install --upgrade google-cloud-logging"
   ],
   "metadata": {
    "collapsed": false
   }
  },
  {
   "cell_type": "code",
   "execution_count": null,
   "outputs": [],
   "source": [
    "# Imports the Google Cloud client library\n",
    "from google.cloud import logging\n",
    "\n",
    "# Instantiates a client\n",
    "logging_client = logging.Client()\n",
    "\n",
    "# The name of the log to write to\n",
    "log_name = \"my-log\"\n",
    "# Selects the log to write to\n",
    "logger = logging_client.logger(log_name)\n",
    "\n",
    "\n",
    "\n",
    "logger.log_text(f\"Model Sector -> {sector}\")\n",
    "logger.log_text(f\"Model Input ->years {years}\")\n",
    "logger.log_text(f\"Model Input ->ticker list {ticker_list_for_models}\")\n",
    "logger.log_text(f\"Model Input ->ticker list extended {tickers_in_sector_extended}\")\n",
    "logger.log_text(f\"Model Input->lags {lags}\")\n",
    "logger.log_text(f\"Model Input ->predict days {nb_predict_days}\")\n",
    "logger.log_text(f\"Model Period->yesterday {yesterday}\")\n",
    "logger.log_text(f\"Model period->train_date_start {train_date_start}\")\n",
    "logger.log_text(f\"Model Period->train_date_last {train_date_last}\")\n",
    "logger.log_text(f\"Model Period->test_date_start {test_date_start}\")\n",
    "logger.log_text(f\"Model Period->test_date_last {test_date_last}\")\n",
    "\n",
    "logger.log_text(f\"Model This is the tickers for our model {ticker_list_for_models}\")\n",
    "logger.log_text(f\"Model This is the additional data  we add to the tickers for the model {additional_data}\")\n",
    "\n",
    "\n"
   ],
   "metadata": {
    "collapsed": false
   }
  },
  {
   "cell_type": "code",
   "execution_count": 96,
   "outputs": [
    {
     "ename": "AttributeError",
     "evalue": "module 'yfinance' has no attribute 'SP500'",
     "output_type": "error",
     "traceback": [
      "\u001B[0;31m---------------------------------------------------------------------------\u001B[0m",
      "\u001B[0;31mAttributeError\u001B[0m                            Traceback (most recent call last)",
      "Input \u001B[0;32mIn [96]\u001B[0m, in \u001B[0;36m<cell line: 5>\u001B[0;34m()\u001B[0m\n\u001B[1;32m      2\u001B[0m \u001B[38;5;28;01mimport\u001B[39;00m \u001B[38;5;21;01myfinance\u001B[39;00m \u001B[38;5;28;01mas\u001B[39;00m \u001B[38;5;21;01myf\u001B[39;00m\n\u001B[1;32m      4\u001B[0m \u001B[38;5;66;03m# Get the S&P 500 index\u001B[39;00m\n\u001B[0;32m----> 5\u001B[0m sp500 \u001B[38;5;241m=\u001B[39m \u001B[43myf\u001B[49m\u001B[38;5;241;43m.\u001B[39;49m\u001B[43mSP500\u001B[49m()\n\u001B[1;32m      7\u001B[0m \u001B[38;5;66;03m# Get the ticker symbols for the S&P 500 index\u001B[39;00m\n\u001B[1;32m      8\u001B[0m all_tickers \u001B[38;5;241m=\u001B[39m sp500\u001B[38;5;241m.\u001B[39mtickers\n",
      "\u001B[0;31mAttributeError\u001B[0m: module 'yfinance' has no attribute 'SP500'"
     ]
    }
   ],
   "source": [
    "#code given by chatGPT\n",
    "import yfinance as yf\n",
    "\n",
    "# Get the S&P 500 index\n",
    "sp500 = yf.SP500()\n",
    "\n",
    "# Get the ticker symbols for the S&P 500 index\n",
    "all_tickers = sp500.tickers\n",
    "print(all_tickers)"
   ],
   "metadata": {
    "collapsed": false
   }
  },
  {
   "cell_type": "code",
   "execution_count": 102,
   "outputs": [
    {
     "ename": "TypeError",
     "evalue": "'module' object is not callable",
     "output_type": "error",
     "traceback": [
      "\u001B[0;31m---------------------------------------------------------------------------\u001B[0m",
      "\u001B[0;31mTypeError\u001B[0m                                 Traceback (most recent call last)",
      "Input \u001B[0;32mIn [102]\u001B[0m, in \u001B[0;36m<cell line: 1>\u001B[0;34m()\u001B[0m\n\u001B[0;32m----> 1\u001B[0m SP500\u001B[38;5;241m=\u001B[39m\u001B[43myf\u001B[49m\u001B[38;5;241;43m.\u001B[39;49m\u001B[43mtickers\u001B[49m\u001B[43m(\u001B[49m\u001B[43m)\u001B[49m\n",
      "\u001B[0;31mTypeError\u001B[0m: 'module' object is not callable"
     ]
    }
   ],
   "source": [],
   "metadata": {
    "collapsed": false
   }
  },
  {
   "cell_type": "code",
   "execution_count": 101,
   "outputs": [
    {
     "data": {
      "text/plain": "<module 'yfinance.tickers' from '/home/steve/.local/lib/python3.10/site-packages/yfinance/tickers.py'>"
     },
     "execution_count": 101,
     "metadata": {},
     "output_type": "execute_result"
    }
   ],
   "source": [
    "SP500"
   ],
   "metadata": {
    "collapsed": false
   }
  },
  {
   "cell_type": "code",
   "execution_count": 4,
   "outputs": [],
   "source": [
    "\n",
    "model_file_name=\"SP500.json\"\n",
    "upload_file_to_bucket(model_file_name)"
   ],
   "metadata": {
    "collapsed": false
   }
  },
  {
   "cell_type": "code",
   "execution_count": null,
   "outputs": [],
   "source": [],
   "metadata": {
    "collapsed": false
   }
  }
 ],
 "metadata": {
  "kernelspec": {
   "display_name": "Python 3 (ipykernel)",
   "language": "python",
   "name": "python3"
  },
  "language_info": {
   "codemirror_mode": {
    "name": "ipython",
    "version": 3
   },
   "file_extension": ".py",
   "mimetype": "text/x-python",
   "name": "python",
   "nbconvert_exporter": "python",
   "pygments_lexer": "ipython3",
   "version": "3.10.6"
  }
 },
 "nbformat": 4,
 "nbformat_minor": 5
}
